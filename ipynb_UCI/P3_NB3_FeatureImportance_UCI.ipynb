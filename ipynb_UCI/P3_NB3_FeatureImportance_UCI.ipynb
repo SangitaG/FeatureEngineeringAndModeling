{
 "cells": [
  {
   "cell_type": "markdown",
   "metadata": {},
   "source": [
    "##### Jupyter Notebook, Step 3 - Feature Importance\n",
    "- Use the results from step 2 to discuss feature importance in the dataset\n",
    "- Considering these results, develop a strategy for building a final predictive model\n",
    "- recommended approaches:\n",
    "    - Use feature selection to reduce the dataset to a manageable size then use conventional methods\n",
    "    - Use dimension reduction to reduce the dataset to a manageable size then use conventional methods\n",
    "    - Use an iterative model training method to use the entire dataset"
   ]
  },
  {
   "cell_type": "code",
   "execution_count": 1,
   "metadata": {},
   "outputs": [
    {
     "ename": "ModuleNotFoundError",
     "evalue": "No module named 'tqdm'",
     "output_type": "error",
     "traceback": [
      "\u001b[0;31m---------------------------------------------------------------------------\u001b[0m",
      "\u001b[0;31mModuleNotFoundError\u001b[0m                       Traceback (most recent call last)",
      "\u001b[0;32m<ipython-input-1-794f80aee4d2>\u001b[0m in \u001b[0;36m<module>\u001b[0;34m()\u001b[0m\n\u001b[1;32m     26\u001b[0m \u001b[0;32mfrom\u001b[0m \u001b[0msklearn\u001b[0m\u001b[0;34m.\u001b[0m\u001b[0mutils\u001b[0m \u001b[0;32mimport\u001b[0m \u001b[0mcheck_array\u001b[0m\u001b[0;34m\u001b[0m\u001b[0m\n\u001b[1;32m     27\u001b[0m \u001b[0;32mfrom\u001b[0m \u001b[0mscipy\u001b[0m\u001b[0;34m.\u001b[0m\u001b[0mstats\u001b[0m \u001b[0;32mimport\u001b[0m \u001b[0mboxcox\u001b[0m\u001b[0;34m,\u001b[0m \u001b[0mskew\u001b[0m\u001b[0;34m\u001b[0m\u001b[0m\n\u001b[0;32m---> 28\u001b[0;31m \u001b[0;32mfrom\u001b[0m \u001b[0mtqdm\u001b[0m \u001b[0;32mimport\u001b[0m \u001b[0mtqdm\u001b[0m\u001b[0;34m\u001b[0m\u001b[0m\n\u001b[0m\u001b[1;32m     29\u001b[0m \u001b[0;32mimport\u001b[0m \u001b[0mpickle\u001b[0m\u001b[0;34m\u001b[0m\u001b[0m\n\u001b[1;32m     30\u001b[0m \u001b[0;34m\u001b[0m\u001b[0m\n",
      "\u001b[0;31mModuleNotFoundError\u001b[0m: No module named 'tqdm'"
     ]
    }
   ],
   "source": [
    "import pandas as pd\n",
    "import numpy as np\n",
    "import seaborn as sns\n",
    "import matplotlib.pyplot as plt\n",
    "\n",
    "from sklearn.svm import SVC\n",
    "from sklearn.tree import DecisionTreeClassifier\n",
    "from sklearn.neighbors import KNeighborsClassifier\n",
    "from sklearn.linear_model import LogisticRegression\n",
    "from sklearn.decomposition import PCA\n",
    "\n",
    "from sklearn.tree import DecisionTreeRegressor\n",
    "from sklearn.neighbors import KNeighborsRegressor\n",
    "from sklearn.model_selection import train_test_split, GridSearchCV\n",
    "from sklearn.preprocessing import StandardScaler\n",
    "from sklearn.feature_selection import SelectKBest,f_classif,SelectFromModel,SelectPercentile\n",
    "                                      \n",
    "from sklearn.metrics import (precision_score,accuracy_score,roc_auc_score,roc_curve,precision_recall_curve, \n",
    "                             recall_score,make_scorer,auc) \n",
    "                              \n",
    "from sklearn.metrics import classification_report, precision_recall_curve,confusion_matrix\n",
    "from sklearn.linear_model import LassoCV, RidgeCV, Lasso\n",
    "from sklearn.preprocessing import StandardScaler\n",
    "from sklearn.pipeline import make_pipeline, Pipeline\n",
    "\n",
    "from sklearn.utils import check_array\n",
    "from scipy.stats import boxcox, skew\n",
    "from tqdm import tqdm\n",
    "import pickle\n",
    "\n",
    "%matplotlib inline"
   ]
  },
  {
   "cell_type": "code",
   "execution_count": 2,
   "metadata": {},
   "outputs": [],
   "source": [
    "class Read_pickled_madelon_Datasets(object):\n",
    "   \n",
    "    # Initializing object.\n",
    "    def __init__(self):\n",
    "       \n",
    "        # Read pickled data from NB1.\n",
    "        self.data_dir = '../dataNB1/'    \n",
    "\n",
    "        self.read_all_data_from_files()\n",
    "        \n",
    "    def read_all_data_from_files(self):\n",
    "        self.X_train_data_df_1 = pd.read_pickle(self.data_dir +'X_train_data_df_1.p')\n",
    "        self.X_train_data_df_2 = pd.read_pickle(self.data_dir +'X_train_data_df_2.p')\n",
    "        self.X_train_data_df_3 = pd.read_pickle(self.data_dir +'X_train_data_df_3.p')\n",
    "\n",
    "        self.X_valid_data_df = pd.read_pickle(self.data_dir +'X_valid_data_df.p')\n",
    "        \n",
    "        self.y_train_data_1 = pd.read_pickle(self.data_dir + 'y_train_data_1.p')\n",
    "        self.y_train_data_2 = pd.read_pickle(self.data_dir + 'y_train_data_2.p')\n",
    "        self.y_train_data_3 = pd.read_pickle(self.data_dir + 'y_train_data_3.p')\n",
    "        \n",
    "        self.y_valid_data = pd.read_pickle(self.data_dir + 'y_valid_data.p')\n",
    "        \n",
    "    def get_X_train_data_sets(self):\n",
    "        return(self.X_train_data_df_1, self.X_train_data_df_2, self.X_train_data_df_3)\n",
    "    \n",
    "    def get_X_valid_data(self):\n",
    "        return(self.X_valid_data_df)\n",
    "    \n",
    "\n",
    "    def get_X_test_data(self):\n",
    "        return(self.X_test_data_df)\n",
    "       \n",
    "    def get_y_train_data(self):        \n",
    "        # y data should be a 1D array of labels. It is now read as a dataframe of 1 column with each\n",
    "        # element as a list of one int.  We want it to be just an int not a list.\n",
    "        self.y_train_data_1 = np.array([val[0] for val in self.y_train_data_1.values])\n",
    "        self.y_train_data_2 = np.array([val[0] for val in self.y_train_data_2.values])\n",
    "        self.y_train_data_3 = np.array([val[0] for val in self.y_train_data_3.values])\n",
    "        \n",
    "        return(self.y_train_data_1, self.y_train_data_2, self.y_train_data_3)\n",
    "\n",
    "    def get_y_valid_data(self):        \n",
    "        # y data should be a 1D array of labels. It is now read as a dataframe of 1 column with each\n",
    "        # element as a list of one int.  We want it to be just an int not a list.\n",
    "        self.y_valid_data = np.array([val[0] for val in self.y_valid_data.values])\n",
    "\n",
    "        return(self.y_valid_data)\n"
   ]
  },
  {
   "cell_type": "code",
   "execution_count": 3,
   "metadata": {},
   "outputs": [],
   "source": [
    "# Read in UCI Madelon Data. \n",
    "read_data = Read_pickled_madelon_Datasets()"
   ]
  },
  {
   "cell_type": "code",
   "execution_count": 4,
   "metadata": {},
   "outputs": [],
   "source": [
    "# Read pickled X train data subsets, gathered from UCI data.\n",
    "X_train_data_df_1, X_train_data_df_2, X_train_data_df_3 = read_data.get_X_train_data_sets()\n",
    "\n",
    "# Read pickled y train data subsets, from Notebook1.                                                        \n",
    "y_train_data_1, y_train_data_2, y_train_data_3 = read_data.get_y_train_data()\n",
    "\n",
    "# Read pickled X validate data.\n",
    "X_validate = read_data.get_X_valid_data()\n",
    "\n",
    "# Read pickled y validate data.\n",
    "y_validate = read_data.get_y_valid_data()\n",
    "\n",
    "# Create a list of X train subsets.\n",
    "X_train_subsets = [X_train_data_df_1, X_train_data_df_2, X_train_data_df_3]\n",
    "\n",
    "# Create a list of y train subsets.\n",
    "y_train_subsets = [y_train_data_1, y_train_data_2, y_train_data_3]\n"
   ]
  },
  {
   "cell_type": "code",
   "execution_count": 5,
   "metadata": {},
   "outputs": [],
   "source": [
    "# Read pickled dataframes from feature selection NB2.\n",
    "SKB_Results_for_all_sets_df = []\n",
    "SP_Results_for_all_sets_df = []\n",
    "SFMlasso_Results_for_all_sets_df = []\n",
    "DT_feature_Subsets_Results_df = []\n",
    "\n",
    "SKB_Results_for_all_sets_df.append(pd.read_pickle('../dataNB2/SKB_feature_Results_TS1_df.p'))\n",
    "SP_Results_for_all_sets_df.append(pd.read_pickle('../dataNB2/SP_feature_Results_TS1_df.p'))\n",
    "SFMlasso_Results_for_all_sets_df.append(pd.read_pickle('../dataNB2/Lasso_feature_Results_TS1_df.p'))    \n",
    "DT_feature_Subsets_Results_df.append(pd.read_pickle('../dataNB2/DT_NE_feature_Results_TS1_df.p'))\n",
    "\n",
    "SKB_Results_for_all_sets_df.append(pd.read_pickle('../dataNB2/SKB_feature_Results_TS2_df.p'))\n",
    "SP_Results_for_all_sets_df.append(pd.read_pickle('../dataNB2/SP_feature_Results_TS2_df.p'))\n",
    "SFMlasso_Results_for_all_sets_df.append(pd.read_pickle('../dataNB2/Lasso_feature_Results_TS2_df.p'))\n",
    "DT_feature_Subsets_Results_df.append(pd.read_pickle('../dataNB2/DT_NE_feature_Results_TS2_df.p'))\n",
    "\n",
    "SKB_Results_for_all_sets_df.append(pd.read_pickle('../dataNB2/SKB_feature_Results_TS3_df.p'))\n",
    "SP_Results_for_all_sets_df.append(pd.read_pickle('../dataNB2/SP_feature_Results_TS3_df.p'))\n",
    "SFMlasso_Results_for_all_sets_df.append(pd.read_pickle('../dataNB2/Lasso_feature_Results_TS3_df.p'))\n",
    "DT_feature_Subsets_Results_df.append(pd.read_pickle('../dataNB2/DT_NE_feature_Results_TS3_df.p'))"
   ]
  },
  {
   "cell_type": "code",
   "execution_count": 6,
   "metadata": {},
   "outputs": [],
   "source": [
    "# Dataset 1\n",
    "SKB_feats1 = SKB_Results_for_all_sets_df[0]['feature']\n",
    "SP_feats1 = SP_Results_for_all_sets_df[0]['feature']\n",
    "Lasso_feats1 = SFMlasso_Results_for_all_sets_df[0]['feature']\n",
    "DT_feats1 = DT_feature_Subsets_Results_df[0]['feature']\n",
    "\n",
    "# Dataset 2\n",
    "SKB_feats2 = SKB_Results_for_all_sets_df[1]['feature']\n",
    "SP_feats2 = SP_Results_for_all_sets_df[1]['feature']\n",
    "Lasso_feats2 = SFMlasso_Results_for_all_sets_df[1]['feature']\n",
    "DT_feats2 = DT_feature_Subsets_Results_df[1]['feature']\n",
    "\n",
    "# Dataset 3\n",
    "SKB_feats3 = SKB_Results_for_all_sets_df[2]['feature']\n",
    "SP_feats3 = SP_Results_for_all_sets_df[2]['feature']\n",
    "#Lasso_feats3 = SFMlasso_Results_for_all_sets_df[2]['feature']\n",
    "Lasso_feats3=[0]\n",
    "DT_feats3 = DT_feature_Subsets_Results_df[2]['feature']"
   ]
  },
  {
   "cell_type": "code",
   "execution_count": 7,
   "metadata": {},
   "outputs": [],
   "source": [
    "feats_union1 = np.union1d(\n",
    "                 np.union1d(\n",
    "                    np.union1d(\n",
    "                        SKB_feats1, SP_feats1), \n",
    "                    Lasso_feats1), \n",
    "                DT_feats1)\n",
    "\n",
    "feats_union2 = np.union1d(\n",
    "                 np.union1d(\n",
    "                    np.union1d(\n",
    "                        SKB_feats2, SP_feats2), \n",
    "                    Lasso_feats2), \n",
    "                DT_feats2)\n",
    "\n",
    "feats_union3 = np.union1d(\n",
    "                 np.union1d(\n",
    "                    np.union1d(\n",
    "                        SKB_feats3, SP_feats3), \n",
    "                    Lasso_feats3), \n",
    "                DT_feats3)"
   ]
  },
  {
   "cell_type": "code",
   "execution_count": 8,
   "metadata": {},
   "outputs": [],
   "source": [
    "# Now let's take a look at the the union of all the features selected by each subset, from all the \n",
    "# feature selection models used. Those are:\n",
    "#\n",
    "#     SelectKBest, Noise reduction using DecisionTreeRegressor, SelectPercentile, SeectFromModel: Lasso."
   ]
  },
  {
   "cell_type": "code",
   "execution_count": 9,
   "metadata": {},
   "outputs": [
    {
     "data": {
      "text/plain": [
       "(array([ 17,  28,  32,  48,  55,  64,  66,  79,  99, 105, 110, 120, 128,\n",
       "        138, 153, 178, 213, 236, 241, 281, 286, 296, 318, 326, 335, 336,\n",
       "        338, 347, 357, 378, 379, 390, 430, 433, 442, 451, 453, 455, 472,\n",
       "        475, 493, 497]), 42)"
      ]
     },
     "execution_count": 9,
     "metadata": {},
     "output_type": "execute_result"
    }
   ],
   "source": [
    "# This is the union of all the fea\n",
    "feats_union1, len(feats_union1)"
   ]
  },
  {
   "cell_type": "code",
   "execution_count": 10,
   "metadata": {},
   "outputs": [
    {
     "data": {
      "text/plain": [
       "(array([ 28,  48,  64,  71, 105, 108, 128, 153, 226, 241, 250, 253, 255,\n",
       "        281, 318, 336, 338, 378, 386, 390, 413, 420, 433, 434, 435, 442,\n",
       "        448, 451, 453, 455, 472, 475, 486, 493, 496]), 35)"
      ]
     },
     "execution_count": 10,
     "metadata": {},
     "output_type": "execute_result"
    }
   ],
   "source": [
    "feats_union2, len(feats_union2)"
   ]
  },
  {
   "cell_type": "code",
   "execution_count": 11,
   "metadata": {},
   "outputs": [
    {
     "data": {
      "text/plain": [
       "(array([  0,  21,  28,  48,  64, 105, 128, 135, 151, 153, 196, 211, 241,\n",
       "        243, 249, 263, 281, 318, 336, 338, 340, 353, 378, 381, 422, 425,\n",
       "        429, 433, 436, 442, 443, 447, 451, 453, 455, 472, 475, 478, 493]), 39)"
      ]
     },
     "execution_count": 11,
     "metadata": {},
     "output_type": "execute_result"
    }
   ],
   "source": [
    "feats_union3, len(feats_union3)"
   ]
  },
  {
   "cell_type": "code",
   "execution_count": 12,
   "metadata": {},
   "outputs": [
    {
     "data": {
      "text/plain": [
       "(array([ 28,  48,  64, 105, 128, 153, 241, 281, 318, 336, 338, 378, 433,\n",
       "        442, 451, 453, 455, 472, 475, 493]), 20)"
      ]
     },
     "execution_count": 12,
     "metadata": {},
     "output_type": "execute_result"
    }
   ],
   "source": [
    "# Now let's look at the common selected features between all 4 methods.\n",
    "# Features from the union of features selected by all models, in all datasets.\n",
    "features_selected = np.intersect1d(feats_union1, np.intersect1d(feats_union2, feats_union3)) \n",
    "features_selected, len(features_selected)"
   ]
  },
  {
   "cell_type": "code",
   "execution_count": 13,
   "metadata": {},
   "outputs": [],
   "source": [
    "#******** Let's now take data only from the selected features, for each dataset and the X validate data. *********"
   ]
  },
  {
   "cell_type": "code",
   "execution_count": 14,
   "metadata": {},
   "outputs": [],
   "source": [
    "# X training datasets.\n",
    "X_train_sel_feats_subsets_df = []\n",
    "for X_subset in X_train_subsets:    \n",
    "    X_train_sel_feats_subsets_df.append(X_subset.iloc[:, features_selected])\n",
    "\n",
    "# X validate data.\n",
    "X_validate_sel_feats = X_validate[features_selected]\n"
   ]
  },
  {
   "cell_type": "code",
   "execution_count": 16,
   "metadata": {
    "collapsed": true
   },
   "outputs": [],
   "source": [
    "# Pickle the datasets, with only the final 19 features selected.\n",
    "X_train_sel_feats_subsets_df[0].to_pickle('../dataNB3/X_train_sel_feats_subsets_df1.p')\n",
    "X_train_sel_feats_subsets_df[1].to_pickle('../dataNB3/X_train_sel_feats_subsets_df2.p')\n",
    "X_train_sel_feats_subsets_df[2].to_pickle('../dataNB3/X_train_sel_feats_subsets_df3.p')\n",
    "\n",
    "X_validate_sel_feats.to_pickle('../dataNB3/X_test_sel_feats_df.p')"
   ]
  },
  {
   "cell_type": "code",
   "execution_count": 15,
   "metadata": {},
   "outputs": [
    {
     "data": {
      "text/plain": [
       "((200, 20), (200, 20), (200, 20), (600, 20))"
      ]
     },
     "execution_count": 15,
     "metadata": {},
     "output_type": "execute_result"
    }
   ],
   "source": [
    "X_train_sel_feats_subsets_df[0].shape, X_train_sel_feats_subsets_df[1].shape, X_train_sel_feats_subsets_df[2].shape, X_validate_sel_feats.shape "
   ]
  },
  {
   "cell_type": "code",
   "execution_count": 41,
   "metadata": {},
   "outputs": [],
   "source": [
    "# Deskew data.\n",
    "def deskew(df):\n",
    "    X_bc = pd.DataFrame()\n",
    "    for col in df.columns:\n",
    "        box_cox_trans, lmbda = boxcox(df[col])\n",
    "        X_bc[col] = pd.Series(box_cox_trans)\n",
    "    \n",
    "    return(X_bc)"
   ]
  },
  {
   "cell_type": "code",
   "execution_count": 93,
   "metadata": {
    "collapsed": true
   },
   "outputs": [],
   "source": [
    "# Let's try to do some more EDA on the 20 features to see if we can find the 5 features."
   ]
  },
  {
   "cell_type": "code",
   "execution_count": 251,
   "metadata": {},
   "outputs": [
    {
     "data": {
      "text/plain": [
       "Lasso(alpha=1.0, copy_X=True, fit_intercept=True, max_iter=1000,\n",
       "   normalize=False, positive=False, precompute=False, random_state=None,\n",
       "   selection='cyclic', tol=0.0001, warm_start=False)"
      ]
     },
     "execution_count": 251,
     "metadata": {},
     "output_type": "execute_result"
    }
   ],
   "source": [
    "lasso = Lasso(alpha=1.0)\n",
    "lasso.fit(X_train_sel_feats_subsets_df[0], y_train_subsets[0])\n"
   ]
  },
  {
   "cell_type": "code",
   "execution_count": 257,
   "metadata": {},
   "outputs": [
    {
     "data": {
      "image/png": "[encoded data removed]",
      "text/plain": [
       "<matplotlib.figure.Figure at 0x7fb699742a90>"
      ]
     },
     "metadata": {},
     "output_type": "display_data"
    }
   ],
   "source": [
    "plt.barh(range(len(lasso.coef_)), lasso.coef_)\n",
    "plt.yticks(range(len(lasso.coef_)), features_selected)\n",
    "plt.show()"
   ]
  },
  {
   "cell_type": "code",
   "execution_count": null,
   "metadata": {
    "collapsed": true
   },
   "outputs": [],
   "source": [
    "# We clearly see here that there are 5 informative features.\n",
    "# [ 64, 378, 433, 475, 493]"
   ]
  },
  {
   "cell_type": "code",
   "execution_count": 258,
   "metadata": {},
   "outputs": [
    {
     "data": {
      "text/plain": [
       "array([ 64, 378, 433, 475, 493])"
      ]
     },
     "execution_count": 258,
     "metadata": {},
     "output_type": "execute_result"
    }
   ],
   "source": [
    "# Select the top 5 features since we know Madelon has 5 informative features.\n",
    "features_selected_lasso = features_selected[abs(lasso.coef_) > 1e-4]\n",
    "features_selected_lasso"
   ]
  },
  {
   "cell_type": "code",
   "execution_count": 56,
   "metadata": {},
   "outputs": [],
   "source": [
    "# X training datasets.\n",
    "X_train_sel_feats_subsets_df = []\n",
    "for X_subset in X_train_subsets:    \n",
    "    X_train_sel_feats_subsets_df.append(X_subset.iloc[:, features_selected])\n",
    "\n",
    "# X validate data.\n",
    "X_validate_sel_feats = X_validate[features_selected]"
   ]
  },
  {
   "cell_type": "code",
   "execution_count": 58,
   "metadata": {},
   "outputs": [],
   "source": [
    "# Scale and normalize the datasets.\n",
    "for i in range(3):    \n",
    "    ss = StandardScaler()    \n",
    "    data = X_train_sel_feats_subsets_df[i]\n",
    "    X_train_sel_feats_subsets_df[i]= ss.fit_transform(data)"
   ]
  },
  {
   "cell_type": "code",
   "execution_count": 59,
   "metadata": {},
   "outputs": [],
   "source": [
    "# Now, since the madelon data is know to have only 5 informative features, let's\n",
    "# do PCA on these dimension reduced datasets. "
   ]
  },
  {
   "cell_type": "code",
   "execution_count": 60,
   "metadata": {},
   "outputs": [],
   "source": [
    "def plot_PCA_explained_var(exp_var, dataset_num):\n",
    "    fig, ax = plt.subplots(figsize=(8,6))\n",
    "    ax.plot(range(1, len(exp_var)+1), exp_var, lw=2)\n",
    "    ax.scatter(range(1, len(exp_var)+1), exp_var, s=120)\n",
    "    ax.set_title('Explained variance pct: dataset' + str(dataset_num), fontsize=14)\n",
    "    ax.set_xlabel('Principal Component', fontsize=12)\n",
    "    ax.set_ylabel('Variance Explained (%)', fontsize=12)\n",
    "    \n",
    "    plt.savefig('../imgNB3/PCA: dataset: ' + str(dataset_num))\n",
    "    plt.show()"
   ]
  },
  {
   "cell_type": "code",
   "execution_count": 63,
   "metadata": {},
   "outputs": [
    {
     "data": {
      "image/png": "[encoded data removed]",
      "text/plain": [
       "<matplotlib.figure.Figure at 0x7f65b8f252b0>"
      ]
     },
     "metadata": {},
     "output_type": "display_data"
    },
    {
     "data": {
      "image/png": "[encoded data removed]",
      "text/plain": [
       "<matplotlib.figure.Figure at 0x7f65b8e96d30>"
      ]
     },
     "metadata": {},
     "output_type": "display_data"
    },
    {
     "data": {
      "image/png": "[encoded data removed]",
      "text/plain": [
       "<matplotlib.figure.Figure at 0x7f65b8e96fd0>"
      ]
     },
     "metadata": {},
     "output_type": "display_data"
    }
   ],
   "source": [
    "cnt = 0\n",
    "for X_subset in X_train_sel_feats_subsets_df:\n",
    "    cnt+=1\n",
    "    pca = PCA()\n",
    "    pca.fit(X_subset)\n",
    "    exp_var = pca.explained_variance_ratio_\n",
    "    \n",
    "    plot_PCA_explained_var(exp_var*100, dataset_num = cnt)"
   ]
  },
  {
   "cell_type": "code",
   "execution_count": 22,
   "metadata": {
    "collapsed": true
   },
   "outputs": [],
   "source": [
    "# We clearly see here that there are 5 informative components of the datasets."
   ]
  },
  {
   "cell_type": "code",
   "execution_count": null,
   "metadata": {
    "collapsed": true
   },
   "outputs": [],
   "source": [
    "# I will now do a gridsearch on all our models, to tune their hyper-parameters. \n",
    "\n",
    "# This will be done by doing the gridsearch on the PCA transformed data.\n",
    "\n",
    "# Find the best model for all subsets for the following four model types:\n",
    "# LogisticRegression, KNeighborsClassifier, DecisionTreeClassifier, SVC"
   ]
  },
  {
   "cell_type": "code",
   "execution_count": 64,
   "metadata": {},
   "outputs": [],
   "source": [
    "# Log output\n",
    "def log_output(dataset_name, model_name, sc_output, pipe):\n",
    "    entry = {                \n",
    "                'dataset'           :  dataset_name,\n",
    "                'model'             :  model_name,\n",
    "                'sc_tr_acc_score'   :  sc_output['train_score'],\n",
    "                'sc_tst_acc_score'  :  sc_output['test_score'],\n",
    "                'sc_recall'         :  sc_output['recall'],\n",
    "                'sc_precision'      :  sc_output['precision'],\n",
    "                'pipe_object'       :  pipe\n",
    "            }\n",
    "    return(entry)"
   ]
  },
  {
   "cell_type": "code",
   "execution_count": 65,
   "metadata": {},
   "outputs": [],
   "source": [
    "def fit_and_score_pipeline(pipe, Xtrain, Xtest, ytrain, ytest, param_grid, target_names):\n",
    "    \n",
    "    gs = GridSearchCV(pipe, cv = 5, param_grid=param_grid)\n",
    "  \n",
    "    # Fit and score pipeline.\n",
    "    gs.fit(Xtrain, ytrain) \n",
    "    \n",
    "    # Mean accuracy score is returned.\n",
    "    train_score = gs.score(Xtrain,ytrain)\n",
    "    test_score = gs.score(Xtest,ytest)  \n",
    "    y_pred = gs.predict(Xtest)\n",
    "    \n",
    "    # Calculate precision and recall.   \n",
    "    recall = recall_score(ytest, y_pred)\n",
    "    precision = precision_score(ytest, y_pred)\n",
    "    \n",
    "    output = {'train_score':train_score, \n",
    "              'test_score':test_score, \n",
    "              'recall':recall, \n",
    "              'precision':precision}\n",
    "    \n",
    "    #classification reports. \n",
    "    class_report_str = classification_report(ytest, y_pred, target_names=target_names)\n",
    "    \n",
    "    #confusion matrix.\n",
    "    conf_matrix_raw = confusion_matrix(ytest, y_pred)\n",
    "    \n",
    "    return(output, class_report_str, conf_matrix_raw)\n"
   ]
  },
  {
   "cell_type": "code",
   "execution_count": 66,
   "metadata": {},
   "outputs": [],
   "source": [
    "def execute_pipeline(model, dataTransformer, param_grid, Xtrain, ytrain, \n",
    "                     Xtest, ytest, target_names, model_results, model_name,\n",
    "                     classification_rep, confusion_mtx):\n",
    "   \n",
    "    # Create a pipeline for the model.\n",
    "    pipe = make_pipeline(StandardScaler(), \n",
    "                          dataTransformer,\n",
    "                         model)\n",
    "                                   \n",
    "    # Fit, score and get model stats.                                           \n",
    "    sc_output, cl_report_str, conf_mtx = fit_and_score_pipeline(pipe, \n",
    "                                                                Xtrain, Xtest, \n",
    "                                                                ytrain, ytest,\n",
    "                                                                param_grid,\n",
    "                                                                target_names=target_names)\n",
    "       \n",
    "    # Save classification report and confusion matrix, scaled data.\n",
    "    key = model_name+str(tst_set+1)\n",
    "    classification_rep[key] = cl_report_str\n",
    "    key = model_name+str(tst_set+1)\n",
    "    confusion_mtx[key] = conf_mtx\n",
    "    \n",
    "    # Log results.\n",
    "    entry = log_output(dataset_name = 'Set_'+str(tst_set+1), \n",
    "                        model_name   = model_name, \n",
    "                        sc_output    = sc_output,\n",
    "                        pipe         = pipe)\n",
    "\n",
    "    # Append the output for this model to a list.\n",
    "    model_results.append(entry)"
   ]
  },
  {
   "cell_type": "code",
   "execution_count": 67,
   "metadata": {},
   "outputs": [],
   "source": [
    "# Setup the pipeline parameter grids."
   ]
  },
  {
   "cell_type": "code",
   "execution_count": 68,
   "metadata": {},
   "outputs": [],
   "source": [
    "param_grid_LR = {\n",
    "                 'pca__n_components'           : [5],\n",
    "                 'logisticregression__C'       : np.logspace(-3,3,7),\n",
    "                 'logisticregression__penalty' : ['l1','l2']}\n",
    "\n",
    "param_grid_DT = {\n",
    "                 'pca__n_components'                   : [5],\n",
    "                 'decisiontreeclassifier__max_depth'   : np.arange(1,8)}\n",
    "                 \n",
    "                 \n",
    "\n",
    "param_grid_SVC = {\n",
    "                  'pca__n_components'  : [5],\n",
    "                  'svc__C'             : np.logspace(-3,3,7), \n",
    "                  'svc__gamma'         : np.logspace(-3,3,7)}\n",
    "           \n",
    "\n",
    "param_grid_KNN = {\n",
    "                  'pca__n_components'                : [5],\n",
    "                  'kneighborsclassifier__n_neighbors': np.arange(3,13,2),\n",
    "                  'kneighborsclassifier__weights'    : ['uniform','distance']}\n",
    "\n",
    "# Make a dictionary of models to run.\n",
    "modelsToexecute_dict = {'LogisticRegression': [LogisticRegression(), param_grid_LR],\n",
    "                        'SVC': [SVC(), param_grid_SVC],\n",
    "                        'DecisionTree': [DecisionTreeClassifier(), param_grid_DT],\n",
    "                        'KNN': [KNeighborsClassifier(), param_grid_KNN]}"
   ]
  },
  {
   "cell_type": "code",
   "execution_count": 69,
   "metadata": {},
   "outputs": [],
   "source": [
    "# Save mean accuracy scores, classification reports and confusion matrix.\n",
    "model_results = []\n",
    "confusion_mtx = {}\n",
    "classification_rep = {}\n",
    "target_names=['class -1', 'class 1']"
   ]
  },
  {
   "cell_type": "code",
   "execution_count": 25,
   "metadata": {
    "collapsed": true
   },
   "outputs": [],
   "source": [
    "# Read in the entire pickled UCI training dataset.\n",
    "X_train_data_df = pd.read_pickle('../dataNB1/' +'X_train_data_df.p')\n",
    "y_train_data_df = pd.read_pickle('../dataNB1/' +'y_train_data.p')\n",
    "y_train_data_arr = np.array([val[0] for val in y_train_data_df.values])"
   ]
  },
  {
   "cell_type": "code",
   "execution_count": 26,
   "metadata": {
    "collapsed": true
   },
   "outputs": [],
   "source": [
    "# Going to use all the 2000 rows of training data for x and y.\n",
    "# X data is subsetted to include only te selected features.\n",
    "Xtest =  X_validate[features_selected]\n",
    "ytest =  y_validate\n",
    "Xtrain = X_train_data_df[features_selected]\n",
    "ytrain = y_train_data_arr"
   ]
  },
  {
   "cell_type": "code",
   "execution_count": 27,
   "metadata": {},
   "outputs": [
    {
     "data": {
      "text/plain": [
       "((600, 20), (2000, 20), (600,), (2000,))"
      ]
     },
     "execution_count": 27,
     "metadata": {},
     "output_type": "execute_result"
    }
   ],
   "source": [
    "Xtest.shape, Xtrain.shape, ytest.shape, ytrain.shape"
   ]
  },
  {
   "cell_type": "code",
   "execution_count": 28,
   "metadata": {},
   "outputs": [
    {
     "name": "stderr",
     "output_type": "stream",
     "text": [
      "100%|██████████| 1/1 [00:54<00:00, 54.72s/it]\n"
     ]
    }
   ],
   "source": [
    "dataTransformer = PCA()\n",
    "num_datasets = 1\n",
    "for tst_set in tqdm(range(num_datasets)):\n",
    "    for model_name, params in modelsToexecute_dict.items():  \n",
    "        \n",
    "        model = params[0]\n",
    "        param_grid = params[1]\n",
    "                \n",
    "        execute_pipeline(model, dataTransformer, param_grid, Xtrain, ytrain, \n",
    "                         Xtest, ytest, target_names, model_results, model_name,\n",
    "                         classification_rep, confusion_mtx)"
   ]
  },
  {
   "cell_type": "code",
   "execution_count": 29,
   "metadata": {},
   "outputs": [
    {
     "data": {
      "text/html": [
       "<div>\n",
       "<table border=\"1\" class=\"dataframe\">\n",
       "  <thead>\n",
       "    <tr style=\"text-align: right;\">\n",
       "      <th></th>\n",
       "      <th>dataset</th>\n",
       "      <th>model</th>\n",
       "      <th>sc_tr_acc_score</th>\n",
       "      <th>sc_tst_acc_score</th>\n",
       "      <th>sc_precision</th>\n",
       "      <th>sc_recall</th>\n",
       "      <th>pipe_object</th>\n",
       "    </tr>\n",
       "  </thead>\n",
       "  <tbody>\n",
       "    <tr>\n",
       "      <th>0</th>\n",
       "      <td>Set_1</td>\n",
       "      <td>LogisticRegression</td>\n",
       "      <td>0.614</td>\n",
       "      <td>0.591667</td>\n",
       "      <td>0.591362</td>\n",
       "      <td>0.593333</td>\n",
       "      <td>Pipeline(steps=[('standardscaler', StandardSca...</td>\n",
       "    </tr>\n",
       "    <tr>\n",
       "      <th>1</th>\n",
       "      <td>Set_1</td>\n",
       "      <td>SVC</td>\n",
       "      <td>0.987</td>\n",
       "      <td>0.915000</td>\n",
       "      <td>0.902913</td>\n",
       "      <td>0.930000</td>\n",
       "      <td>Pipeline(steps=[('standardscaler', StandardSca...</td>\n",
       "    </tr>\n",
       "    <tr>\n",
       "      <th>2</th>\n",
       "      <td>Set_1</td>\n",
       "      <td>DecisionTree</td>\n",
       "      <td>0.870</td>\n",
       "      <td>0.801667</td>\n",
       "      <td>0.771772</td>\n",
       "      <td>0.856667</td>\n",
       "      <td>Pipeline(steps=[('standardscaler', StandardSca...</td>\n",
       "    </tr>\n",
       "    <tr>\n",
       "      <th>3</th>\n",
       "      <td>Set_1</td>\n",
       "      <td>KNN</td>\n",
       "      <td>1.000</td>\n",
       "      <td>0.916667</td>\n",
       "      <td>0.905844</td>\n",
       "      <td>0.930000</td>\n",
       "      <td>Pipeline(steps=[('standardscaler', StandardSca...</td>\n",
       "    </tr>\n",
       "  </tbody>\n",
       "</table>\n",
       "</div>"
      ],
      "text/plain": [
       "  dataset               model  sc_tr_acc_score  sc_tst_acc_score  \\\n",
       "0   Set_1  LogisticRegression            0.614          0.591667   \n",
       "1   Set_1                 SVC            0.987          0.915000   \n",
       "2   Set_1        DecisionTree            0.870          0.801667   \n",
       "3   Set_1                 KNN            1.000          0.916667   \n",
       "\n",
       "   sc_precision  sc_recall                                        pipe_object  \n",
       "0      0.591362   0.593333  Pipeline(steps=[('standardscaler', StandardSca...  \n",
       "1      0.902913   0.930000  Pipeline(steps=[('standardscaler', StandardSca...  \n",
       "2      0.771772   0.856667  Pipeline(steps=[('standardscaler', StandardSca...  \n",
       "3      0.905844   0.930000  Pipeline(steps=[('standardscaler', StandardSca...  "
      ]
     },
     "execution_count": 29,
     "metadata": {},
     "output_type": "execute_result"
    }
   ],
   "source": [
    "# Put all results in a dataframe.\n",
    "model_results_df = pd.DataFrame(model_results)\n",
    "\n",
    "# I am specifying the column arrangements.\n",
    "model_results_df = model_results_df[['dataset', 'model', 'sc_tr_acc_score', 'sc_tst_acc_score',\n",
    "                                     'sc_precision', 'sc_recall', 'pipe_object']]\n",
    "                                     \n",
    "model_results_df #PCA"
   ]
  },
  {
   "cell_type": "code",
   "execution_count": 30,
   "metadata": {},
   "outputs": [
    {
     "data": {
      "text/plain": [
       "<bound method Pipeline.get_params of Pipeline(steps=[('standardscaler', StandardScaler(copy=True, with_mean=True, with_std=True)), ('pca', PCA(copy=True, iterated_power='auto', n_components=None, random_state=None,\n",
       "  svd_solver='auto', tol=0.0, whiten=False)), ('svc', SVC(C=1.0, cache_size=200, class_weight=None, coef0=0.0,\n",
       "  decision_function_shape=None, degree=3, gamma='auto', kernel='rbf',\n",
       "  max_iter=-1, probability=False, random_state=None, shrinking=True,\n",
       "  tol=0.001, verbose=False))])>"
      ]
     },
     "execution_count": 30,
     "metadata": {},
     "output_type": "execute_result"
    }
   ],
   "source": [
    "svc_pipe = model_results_df.pipe_object[1]\n",
    "svc_pipe.get_params"
   ]
  },
  {
   "cell_type": "code",
   "execution_count": 31,
   "metadata": {},
   "outputs": [
    {
     "data": {
      "text/plain": [
       "<bound method Pipeline.get_params of Pipeline(steps=[('standardscaler', StandardScaler(copy=True, with_mean=True, with_std=True)), ('pca', PCA(copy=True, iterated_power='auto', n_components=None, random_state=None,\n",
       "  svd_solver='auto', tol=0.0, whiten=False)), ('kneighborsclassifier', KNeighborsClassifier(algorithm='auto', leaf_size=30, metric='minkowski',\n",
       "           metric_params=None, n_jobs=1, n_neighbors=5, p=2,\n",
       "           weights='uniform'))])>"
      ]
     },
     "execution_count": 31,
     "metadata": {},
     "output_type": "execute_result"
    }
   ],
   "source": [
    "knn_pipe = model_results_df.pipe_object[3]\n",
    "knn_pipe.get_params"
   ]
  },
  {
   "cell_type": "code",
   "execution_count": 32,
   "metadata": {},
   "outputs": [
    {
     "name": "stdout",
     "output_type": "stream",
     "text": [
      "*****  LogisticRegression1  Classification Report ***** \n",
      "\n",
      "              precision    recall  f1-score   support\n",
      "\n",
      "   class -1       0.59      0.59      0.59       300\n",
      "    class 1       0.59      0.59      0.59       300\n",
      "\n",
      "avg / total       0.59      0.59      0.59       600\n",
      " \n",
      "\n",
      "*****  SVC1  Classification Report ***** \n",
      "\n",
      "              precision    recall  f1-score   support\n",
      "\n",
      "   class -1       0.93      0.90      0.91       300\n",
      "    class 1       0.90      0.93      0.92       300\n",
      "\n",
      "avg / total       0.92      0.92      0.91       600\n",
      " \n",
      "\n",
      "*****  DecisionTree1  Classification Report ***** \n",
      "\n",
      "              precision    recall  f1-score   support\n",
      "\n",
      "   class -1       0.84      0.75      0.79       300\n",
      "    class 1       0.77      0.86      0.81       300\n",
      "\n",
      "avg / total       0.81      0.80      0.80       600\n",
      " \n",
      "\n",
      "*****  KNN1  Classification Report ***** \n",
      "\n",
      "              precision    recall  f1-score   support\n",
      "\n",
      "   class -1       0.93      0.90      0.92       300\n",
      "    class 1       0.91      0.93      0.92       300\n",
      "\n",
      "avg / total       0.92      0.92      0.92       600\n",
      " \n",
      "\n"
     ]
    }
   ],
   "source": [
    "# Display classification reports.\n",
    "for k,v in classification_rep.items():\n",
    "    print('*****  ' + k + '  Classification Report *****', '\\n\\n', v, '\\n')"
   ]
  },
  {
   "cell_type": "code",
   "execution_count": 33,
   "metadata": {
    "collapsed": true
   },
   "outputs": [],
   "source": [
    "model_results_df.to_pickle('../dataNB3/FinalModels_GOOD_df.p')"
   ]
  },
  {
   "cell_type": "code",
   "execution_count": null,
   "metadata": {
    "collapsed": true
   },
   "outputs": [],
   "source": [
    "# Now let's try the Lasso selected features instead of using PCA and do a gridsearch."
   ]
  },
  {
   "cell_type": "code",
   "execution_count": 269,
   "metadata": {
    "collapsed": true
   },
   "outputs": [],
   "source": [
    "# Going to use all the 2000 rows of training data for x and y.\n",
    "# X data is subsetted to include only te selected features.\n",
    "Xtest =  X_validate[features_selected_lasso]\n",
    "ytest =  y_validate\n",
    "Xtrain = X_train_data_df[features_selected_lasso]\n",
    "ytrain = y_train_data_arr"
   ]
  },
  {
   "cell_type": "code",
   "execution_count": 270,
   "metadata": {},
   "outputs": [
    {
     "name": "stderr",
     "output_type": "stream",
     "text": [
      "100%|██████████| 1/1 [00:57<00:00, 57.96s/it]\n"
     ]
    }
   ],
   "source": [
    "#dataTransformer = PCA()\n",
    "num_datasets = 1\n",
    "for tst_set in tqdm(range(num_datasets)):\n",
    "    for model_name, params in modelsToexecute_dict.items():  \n",
    "        \n",
    "        model = params[0]\n",
    "        param_grid = params[1]\n",
    "                \n",
    "        execute_pipeline(model, dataTransformer, param_grid, Xtrain, ytrain, \n",
    "                         Xtest, ytest, target_names, model_results, model_name,\n",
    "                         classification_rep, confusion_mtx)"
   ]
  },
  {
   "cell_type": "code",
   "execution_count": 271,
   "metadata": {},
   "outputs": [
    {
     "data": {
      "text/html": [
       "<div>\n",
       "<table border=\"1\" class=\"dataframe\">\n",
       "  <thead>\n",
       "    <tr style=\"text-align: right;\">\n",
       "      <th></th>\n",
       "      <th>dataset</th>\n",
       "      <th>model</th>\n",
       "      <th>sc_tr_acc_score</th>\n",
       "      <th>sc_tst_acc_score</th>\n",
       "      <th>sc_precision</th>\n",
       "      <th>sc_recall</th>\n",
       "      <th>pipe_object</th>\n",
       "    </tr>\n",
       "  </thead>\n",
       "  <tbody>\n",
       "    <tr>\n",
       "      <th>0</th>\n",
       "      <td>Set_1</td>\n",
       "      <td>LogisticRegression</td>\n",
       "      <td>0.6200</td>\n",
       "      <td>0.596667</td>\n",
       "      <td>0.597315</td>\n",
       "      <td>0.593333</td>\n",
       "      <td>Pipeline(steps=[('standardscaler', StandardSca...</td>\n",
       "    </tr>\n",
       "    <tr>\n",
       "      <th>1</th>\n",
       "      <td>Set_1</td>\n",
       "      <td>SVC</td>\n",
       "      <td>0.9395</td>\n",
       "      <td>0.780000</td>\n",
       "      <td>0.769231</td>\n",
       "      <td>0.800000</td>\n",
       "      <td>Pipeline(steps=[('standardscaler', StandardSca...</td>\n",
       "    </tr>\n",
       "    <tr>\n",
       "      <th>2</th>\n",
       "      <td>Set_1</td>\n",
       "      <td>DecisionTree</td>\n",
       "      <td>0.8140</td>\n",
       "      <td>0.688333</td>\n",
       "      <td>0.699647</td>\n",
       "      <td>0.660000</td>\n",
       "      <td>Pipeline(steps=[('standardscaler', StandardSca...</td>\n",
       "    </tr>\n",
       "    <tr>\n",
       "      <th>3</th>\n",
       "      <td>Set_1</td>\n",
       "      <td>KNN</td>\n",
       "      <td>1.0000</td>\n",
       "      <td>0.785000</td>\n",
       "      <td>0.768025</td>\n",
       "      <td>0.816667</td>\n",
       "      <td>Pipeline(steps=[('standardscaler', StandardSca...</td>\n",
       "    </tr>\n",
       "  </tbody>\n",
       "</table>\n",
       "</div>"
      ],
      "text/plain": [
       "  dataset               model  sc_tr_acc_score  sc_tst_acc_score  \\\n",
       "0   Set_1  LogisticRegression           0.6200          0.596667   \n",
       "1   Set_1                 SVC           0.9395          0.780000   \n",
       "2   Set_1        DecisionTree           0.8140          0.688333   \n",
       "3   Set_1                 KNN           1.0000          0.785000   \n",
       "\n",
       "   sc_precision  sc_recall                                        pipe_object  \n",
       "0      0.597315   0.593333  Pipeline(steps=[('standardscaler', StandardSca...  \n",
       "1      0.769231   0.800000  Pipeline(steps=[('standardscaler', StandardSca...  \n",
       "2      0.699647   0.660000  Pipeline(steps=[('standardscaler', StandardSca...  \n",
       "3      0.768025   0.816667  Pipeline(steps=[('standardscaler', StandardSca...  "
      ]
     },
     "execution_count": 271,
     "metadata": {},
     "output_type": "execute_result"
    }
   ],
   "source": [
    "# Put all results in a dataframe.\n",
    "model_results_df = pd.DataFrame(model_results)\n",
    "\n",
    "# I am specifying the column arrangements.\n",
    "model_results_df = model_results_df[['dataset', 'model', 'sc_tr_acc_score', 'sc_tst_acc_score',\n",
    "                                     'sc_precision', 'sc_recall', 'pipe_object']]\n",
    "                                     \n",
    "model_results_df \n",
    "\n",
    "# Lasso Results"
   ]
  },
  {
   "cell_type": "code",
   "execution_count": null,
   "metadata": {
    "collapsed": true
   },
   "outputs": [],
   "source": [
    "# Above is the Lasso selected features results. Its worse Then the PCA transformed data \n",
    "# results."
   ]
  }
 ],
 "metadata": {
  "kernelspec": {
   "display_name": "Python 3",
   "language": "python",
   "name": "python3"
  },
  "language_info": {
   "codemirror_mode": {
    "name": "ipython",
    "version": 3
   },
   "file_extension": ".py",
   "mimetype": "text/x-python",
   "name": "python",
   "nbconvert_exporter": "python",
   "pygments_lexer": "ipython3",
   "version": "3.6.2"
  }
 },
 "nbformat": 4,
 "nbformat_minor": 2
}
