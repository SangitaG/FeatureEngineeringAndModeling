{
 "cells": [
  {
   "cell_type": "markdown",
   "metadata": {},
   "source": [
    "##### Jupyter Notebook, Step 1 - Benchmarking\n",
    "- build pipeline to perform a naive fit for each of the base model classes:\n",
    "\t- logistic regression\n",
    "\t- decision tree\n",
    "\t- k nearest neighbors\n",
    "\t- support vector classifier\n",
    "- in order to do this, you will need to set a high `C` value in order to perform \n",
    "minimal regularization, in the case of logistic regression and support vector classifier."
   ]
  },
  {
   "cell_type": "code",
   "execution_count": 4,
   "metadata": {
    "collapsed": true
   },
   "outputs": [],
   "source": [
    "import pandas as pd\n",
    "import numpy as np\n",
    "import seaborn as sns\n",
    "import matplotlib.pyplot as plt\n",
    "import itertools\n",
    "\n",
    "from sklearn.svm import SVC\n",
    "from sklearn.tree import DecisionTreeClassifier\n",
    "from sklearn.neighbors import KNeighborsClassifier\n",
    "from sklearn.linear_model import LogisticRegression\n",
    "\n",
    "from sklearn.model_selection import train_test_split\n",
    "from sklearn.preprocessing import StandardScaler\n",
    "from sklearn.metrics import classification_report, precision_recall_curve,confusion_matrix \n",
    "from sklearn.pipeline import make_pipeline, Pipeline\n",
    "\n",
    "from sklearn.metrics import (precision_score, \n",
    "                             accuracy_score, \n",
    "                             roc_auc_score, \n",
    "                             roc_curve, \n",
    "                             precision_recall_curve, \n",
    "                             recall_score,\n",
    "                             make_scorer,\n",
    "                             auc)\n",
    "                            \n",
    "from tqdm import tqdm\n",
    "\n",
    "%matplotlib inline"
   ]
  },
  {
   "cell_type": "code",
   "execution_count": 5,
   "metadata": {
    "collapsed": true
   },
   "outputs": [],
   "source": [
    "class Read_UCI_madelon_Data(object):\n",
    "   \n",
    "    # Initializing object.\n",
    "    def __init__(self):\n",
    "       \n",
    "        self.data_dir = '../MadelonUCIData/'\n",
    "\n",
    "        self.XtestData_file   = self.data_dir + 'madelon_test_data.csv'\n",
    "        self.XtrainData_file  = self.data_dir + 'madelon_train_data.csv'\n",
    "        self.XvalidData_file  = self.data_dir + 'madelon_valid_data.csv'  \n",
    "        self.yvalid_file      = self.data_dir + 'madelon_valid_labels.csv'\n",
    "        self.ytrain_file      = self.data_dir + 'madelon_train_labels.csv'\n",
    "\n",
    "        self.read_all_data_from_files()\n",
    "    \n",
    "        \n",
    "    def get_X_train_data(self):\n",
    "        return(self.X_train_data_df)\n",
    "    \n",
    "    def get_X_valid_data(self):\n",
    "        return(self.X_valid_data_df)   \n",
    "\n",
    "    def get_X_test_data(self):\n",
    "        return(self.X_test_data_df)\n",
    "       \n",
    "    def get_y_train_data(self):        \n",
    "        # y data should be a 1D array of labels. It is now read as a dataframe of 1 column with each\n",
    "        # element as a list of one int.  We want it to be just an int not a list.\n",
    "        self.y_train_arr = np.array([val[0] for val in self.y_train_df.values])\n",
    "        return(self.y_train_arr)\n",
    "    \n",
    "    def get_y_valid_data(self):        \n",
    "        # y data should be a 1D array of labels. It is now read as a dataframe of 1 column with each\n",
    "        # element as a list of one int.  We want it to be just an int not a list.\n",
    "        self.y_valid_arr = np.array([val[0] for val in self.y_valid_df.values])\n",
    "        return(self.y_valid_arr)\n",
    "   \n",
    "    def read_all_data_from_files(self):\n",
    "            self.X_test_data_df    = pd.read_csv(self.XtestData_file, delimiter=' ', header=None)\n",
    "            self.X_train_data_df   = pd.read_csv(self.XtrainData_file, delimiter=' ', header=None)\n",
    "            self.X_valid_data_df   = pd.read_csv(self.XvalidData_file, delimiter=' ', header=None)\n",
    "            self.y_valid_df        = pd.read_csv(self.yvalid_file, delimiter=' ', header=None)\n",
    "            self.y_train_df        = pd.read_csv(self.ytrain_file, delimiter=' ', header=None)"
   ]
  },
  {
   "cell_type": "code",
   "execution_count": 6,
   "metadata": {},
   "outputs": [],
   "source": [
    "# Read in the Madelon UCI data.\n",
    "UCI_madelonData = Read_UCI_madelon_Data()\n",
    "\n",
    "# Get the X train data, X test data and X validate data.\n",
    "X_train_data_df = UCI_madelonData.get_X_train_data()\n",
    "X_valid_data_df = UCI_madelonData.get_X_valid_data()\n",
    "X_test_data_df =  UCI_madelonData.get_X_test_data()"
   ]
  },
  {
   "cell_type": "code",
   "execution_count": 7,
   "metadata": {},
   "outputs": [
    {
     "name": "stdout",
     "output_type": "stream",
     "text": [
      "0\n",
      "0\n",
      "0\n"
     ]
    }
   ],
   "source": [
    "# Check for nulls.\n",
    "X_train_col_null_cnt = X_train_data_df.isnull().sum()\n",
    "X_valid_col_null_cnt = X_valid_data_df.isnull().sum()\n",
    "X_test_col_null_cnt = X_test_data_df.isnull().sum()\n",
    "\n",
    "# Since col 500 seems to be all nulls, let's drop it from all the X dataframes.\n",
    "X_train_data_df.drop(500, axis = 1, inplace=True)\n",
    "X_valid_data_df.drop(500, axis = 1, inplace=True)\n",
    "X_test_data_df.drop(500, axis = 1, inplace=True)\n",
    "\n",
    "print(X_train_data_df.isnull().sum().sum())\n",
    "print(X_valid_data_df.isnull().sum().sum())\n",
    "print(X_test_data_df.isnull().sum().sum())"
   ]
  },
  {
   "cell_type": "code",
   "execution_count": 8,
   "metadata": {},
   "outputs": [
    {
     "data": {
      "text/plain": [
       "((2000, 500), (600, 500), (1800, 500))"
      ]
     },
     "execution_count": 8,
     "metadata": {},
     "output_type": "execute_result"
    }
   ],
   "source": [
    "X_train_data_df.shape, X_valid_data_df.shape, X_test_data_df.shape"
   ]
  },
  {
   "cell_type": "code",
   "execution_count": 9,
   "metadata": {},
   "outputs": [
    {
     "data": {
      "text/plain": [
       "((2000,), 0)"
      ]
     },
     "execution_count": 9,
     "metadata": {},
     "output_type": "execute_result"
    }
   ],
   "source": [
    "# Now lets read in the y_train data. It is 2000 rows by 1 col. and there are no nulls.\n",
    "y_train_data = UCI_madelonData.get_y_train_data()\n",
    "y_train_data.shape, np.isnan(y_train_data).sum()"
   ]
  },
  {
   "cell_type": "code",
   "execution_count": 10,
   "metadata": {},
   "outputs": [
    {
     "data": {
      "text/plain": [
       "((600,), 0)"
      ]
     },
     "execution_count": 10,
     "metadata": {},
     "output_type": "execute_result"
    }
   ],
   "source": [
    "# Now lets read in the y_valid data. It is 600 rows by 1 col. and there are no nulls.\n",
    "y_valid_data = UCI_madelonData.get_y_valid_data()\n",
    "y_valid_data.shape, np.isnan(y_valid_data).sum()"
   ]
  },
  {
   "cell_type": "code",
   "execution_count": 11,
   "metadata": {
    "collapsed": true
   },
   "outputs": [],
   "source": [
    "# I will take 600 random samples (rows) from the 2000 rows of data.\n",
    "# We need 3 sets of 200 (10%) rows of data. I\n",
    "sampleX_df = X_train_data_df.sample(n=600, axis = 0)"
   ]
  },
  {
   "cell_type": "code",
   "execution_count": 12,
   "metadata": {},
   "outputs": [
    {
     "data": {
      "text/plain": [
       "<matplotlib.text.Text at 0x7efd4a28b748>"
      ]
     },
     "execution_count": 12,
     "metadata": {},
     "output_type": "execute_result"
    },
    {
     "data": {
      "image/png": "[encoded data removed]",
      "text/plain": [
       "<matplotlib.figure.Figure at 0x7efd4a2b2278>"
      ]
     },
     "metadata": {},
     "output_type": "display_data"
    }
   ],
   "source": [
    "plt.scatter(sampleX_df.mean(), sampleX_df.std())\n",
    "plt.title('UCI madelon data sample of 600 rows')\n",
    "plt.xlabel('feature means')\n",
    "plt.ylabel('feature std')"
   ]
  },
  {
   "cell_type": "code",
   "execution_count": 14,
   "metadata": {
    "collapsed": true
   },
   "outputs": [],
   "source": [
    "# Split the train data into 3 sets of 10% of data. \n",
    "# Since the data is 2000 rows we need 3 samples of 200\n",
    "# rows each. I will get 600 random samples and split them into \n",
    "# 3 groups.\n",
    "\n",
    "X_train_data_df_1 = sampleX_df.iloc[0:200,:]\n",
    "X_train_data_df_2 = sampleX_df.iloc[200:400,:]\n",
    "X_train_data_df_3 = sampleX_df.iloc[400:600,:]\n",
    "\n",
    "\n",
    "# Get the corresponding y_train values for the 600 sampled\n",
    "# rows of train_data.\n",
    "\n",
    "sampley = y_train_data[sampleX_df.index]\n",
    "y_train_data_1 = sampley[0:200]\n",
    "y_train_data_2 = sampley[200:400]\n",
    "y_train_data_3 = sampley[400:600]\n"
   ]
  },
  {
   "cell_type": "code",
   "execution_count": 15,
   "metadata": {
    "collapsed": true
   },
   "outputs": [],
   "source": [
    "# Pickle the DataFrames for all the X train, test, validate and y data.\n",
    "# So I can use in other notebooks.\n",
    "\n",
    "X_train_data_df.to_pickle('../dataNB1/X_train_data_df.p')\n",
    "X_train_data_df_1.to_pickle('../dataNB1/X_train_data_df_1.p')\n",
    "X_train_data_df_2.to_pickle('../dataNB1/X_train_data_df_2.p')\n",
    "X_train_data_df_3.to_pickle('../dataNB1/X_train_data_df_3.p')\n",
    "\n",
    "X_valid_data_df.to_pickle('../dataNB1/X_valid_data_df.p')\n",
    "X_test_data_df.to_pickle('../dataNB1/X_test_data_df.p')\n",
    "\n",
    "pd.DataFrame(y_train_data).to_pickle('../dataNB1/y_train_data.p')\n",
    "pd.DataFrame(y_train_data_1).to_pickle('../dataNB1/y_train_data_1.p')\n",
    "pd.DataFrame(y_train_data_2).to_pickle('../dataNB1/y_train_data_2.p')\n",
    "pd.DataFrame(y_train_data_3).to_pickle('../dataNB1/y_train_data_3.p')"
   ]
  },
  {
   "cell_type": "code",
   "execution_count": 16,
   "metadata": {
    "collapsed": true
   },
   "outputs": [],
   "source": [
    "pd.DataFrame(y_valid_data).to_pickle('../dataNB1/y_valid_data_3.p')"
   ]
  },
  {
   "cell_type": "markdown",
   "metadata": {
    "collapsed": true
   },
   "source": [
    "** USE THESE PICKLED DATA SET SAMPLES FOR CONSISTENCY **"
   ]
  },
  {
   "cell_type": "code",
   "execution_count": 7,
   "metadata": {
    "collapsed": true
   },
   "outputs": [],
   "source": [
    "# I will read in pickled X train and y rain subset data so my results are consistent.\n",
    "# I can remove before submitting.\n",
    "X_train_data_df_1 = pd.read_pickle('../dataNB1/' +'X_train_data_df_1.p')\n",
    "X_train_data_df_2 = pd.read_pickle('../dataNB1/' +'X_train_data_df_2.p')\n",
    "X_train_data_df_3 = pd.read_pickle('../dataNB1/' +'X_train_data_df_3.p')\n",
    "        \n",
    "y_train_data_1 = pd.read_pickle('../dataNB1/' + 'y_train_data_1.p')\n",
    "y_train_data_2 = pd.read_pickle('../dataNB1/' + 'y_train_data_2.p')\n",
    "y_train_data_3 = pd.read_pickle('../dataNB1/' + 'y_train_data_3.p')\n",
    "\n",
    "y_train_data_1 = np.array([val[0] for val in y_train_data_1.values])\n",
    "y_train_data_2 = np.array([val[0] for val in y_train_data_2.values])\n",
    "y_train_data_3 = np.array([val[0] for val in y_train_data_3.values])"
   ]
  },
  {
   "cell_type": "code",
   "execution_count": 8,
   "metadata": {
    "collapsed": true
   },
   "outputs": [],
   "source": [
    "# Make a list of our X and y train data subsets.\n",
    "X_train_lst = [X_train_data_df_1,X_train_data_df_2,X_train_data_df_3]\n",
    "y_train_lst = [y_train_data_1,y_train_data_2,y_train_data_3]"
   ]
  },
  {
   "cell_type": "code",
   "execution_count": 9,
   "metadata": {
    "collapsed": true
   },
   "outputs": [],
   "source": [
    "# Log output\n",
    "def log_output(dataset_name, model_name, raw_output, sc_output):\n",
    "    entry = {                \n",
    "                'dataset'           :  dataset_name,\n",
    "                'model'             :  model_name,\n",
    "                'raw_tr_acc_score'  :  raw_output['train_score'],\n",
    "                'raw_tst_acc_score' :  raw_output['test_score'],\n",
    "                'sc_tr_acc_score'   :  sc_output['train_score'],\n",
    "                'sc_tst_acc_score'  :  sc_output['test_score'],\n",
    "                'raw_recall'        :  raw_output['recall'],\n",
    "                'raw_precision'     :  raw_output['precision'],\n",
    "                'sc_recall'         :  sc_output['recall'],\n",
    "                'sc_precision'      :  sc_output['precision']\n",
    "            }\n",
    "    return(entry)"
   ]
  },
  {
   "cell_type": "code",
   "execution_count": 10,
   "metadata": {
    "collapsed": true
   },
   "outputs": [],
   "source": [
    "def fit_and_score_pipeline(pipe, Xtrain, Xtest, ytrain, ytest, target_names):\n",
    "    \n",
    "    # Fit and score Logistic Regression raw pipeline.\n",
    "    pipe.fit(Xtrain, ytrain) \n",
    "    \n",
    "    # Mean accuracy score is returned.\n",
    "    train_score = pipe.score(Xtrain,ytrain)\n",
    "    test_score = pipe.score(Xtest,ytest)  \n",
    "    y_pred = pipe.predict(Xtest)\n",
    "\n",
    "    # Calculate precision and recall.   \n",
    "    recall = recall_score(ytest, y_pred)\n",
    "    precision = precision_score(ytest, y_pred)\n",
    "  \n",
    "    output = {'train_score':train_score, \n",
    "              'test_score':test_score, \n",
    "              'recall':recall, \n",
    "              'precision':precision}\n",
    "    \n",
    "    #classification reports. \n",
    "    class_report_str = classification_report(ytest, y_pred, target_names=target_names)\n",
    "    \n",
    "    #confusion matrix.\n",
    "    conf_matrix_raw = confusion_matrix(ytest, y_pred)\n",
    "  \n",
    "    return(output, class_report_str, conf_matrix_raw)\n"
   ]
  },
  {
   "cell_type": "code",
   "execution_count": 11,
   "metadata": {
    "collapsed": true
   },
   "outputs": [],
   "source": [
    "# Save mean accuracy scores, classification reports and confusion matrix.\n",
    "model_results = []\n",
    "confusion_mtx = {}\n",
    "classification_rep = {}\n",
    "target_names=['class -1', 'class 1']"
   ]
  },
  {
   "cell_type": "code",
   "execution_count": 12,
   "metadata": {
    "collapsed": true
   },
   "outputs": [],
   "source": [
    "#************************ Benchmark *************************** \n",
    "# Use high C=1e10 for logistic regression and support\n",
    "# vector classifier, so there is no regularization. \n",
    "# KNeighbors default is k=5\n",
    "#**************************************************************"
   ]
  },
  {
   "cell_type": "code",
   "execution_count": 13,
   "metadata": {},
   "outputs": [
    {
     "name": "stderr",
     "output_type": "stream",
     "text": [
      "  0%|          | 0/3 [00:00<?, ?it/s]/opt/conda/lib/python3.6/site-packages/sklearn/metrics/classification.py:1113: UndefinedMetricWarning: Precision is ill-defined and being set to 0.0 due to no predicted samples.\n",
      "  'precision', 'predicted', average, warn_for)\n",
      "/opt/conda/lib/python3.6/site-packages/sklearn/metrics/classification.py:1113: UndefinedMetricWarning: Precision and F-score are ill-defined and being set to 0.0 in labels with no predicted samples.\n",
      "  'precision', 'predicted', average, warn_for)\n",
      " 33%|███▎      | 1/3 [00:00<00:00,  3.97it/s]/opt/conda/lib/python3.6/site-packages/sklearn/metrics/classification.py:1113: UndefinedMetricWarning: Precision is ill-defined and being set to 0.0 due to no predicted samples.\n",
      "  'precision', 'predicted', average, warn_for)\n",
      "/opt/conda/lib/python3.6/site-packages/sklearn/metrics/classification.py:1113: UndefinedMetricWarning: Precision and F-score are ill-defined and being set to 0.0 in labels with no predicted samples.\n",
      "  'precision', 'predicted', average, warn_for)\n",
      " 67%|██████▋   | 2/3 [00:00<00:00,  4.02it/s]/opt/conda/lib/python3.6/site-packages/sklearn/metrics/classification.py:1113: UndefinedMetricWarning: Precision and F-score are ill-defined and being set to 0.0 in labels with no predicted samples.\n",
      "  'precision', 'predicted', average, warn_for)\n",
      "100%|██████████| 3/3 [00:00<00:00,  4.03it/s]\n"
     ]
    }
   ],
   "source": [
    "# Fit naive models to benchmark the 3 data subsets.\n",
    "for tst_set in tqdm(range(3)):\n",
    "\n",
    "    # Split the data.\n",
    "    Xtrain, Xtest, ytrain, ytest = train_test_split(X_train_lst[tst_set], \n",
    "                                                    y_train_lst[tst_set], \n",
    "                                                    test_size=0.33)\n",
    "                              \n",
    "    # Logistic Regression pipes.\n",
    "    LR_naive_raw_pipe  =   make_pipeline(LogisticRegression(C=1e10, random_state=42))\n",
    "    LR_naive_scaled_pipe = make_pipeline(StandardScaler(), \n",
    "                                         LogisticRegression(C=1e10, random_state=42))\n",
    "    \n",
    "    # fit and score pipeline with raw and scaled data. Results are stored in a dict.\n",
    "    raw_output, cl_report_str, conf_mtx = fit_and_score_pipeline(LR_naive_raw_pipe, \n",
    "                                                                 Xtrain, Xtest,     \n",
    "                                                                 ytrain, ytest,\n",
    "                                                                 target_names=target_names)\n",
    "\n",
    "    # Save classification report and confusion matrix, raw data.\n",
    "    classification_rep['LR_raw_report'] = cl_report_str\n",
    "    confusion_mtx['LR_raw_conf_mtx'] = conf_mtx\n",
    "                                           \n",
    "    sc_output, cl_report_str, conf_mtx = fit_and_score_pipeline(LR_naive_scaled_pipe, \n",
    "                                                                Xtrain, Xtest, \n",
    "                                                                ytrain, ytest,\n",
    "                                                                target_names=target_names)\n",
    "       \n",
    "    # Save classification report and confusion matrix, scaled data.\n",
    "    classification_rep['LR_scaled_report'] = cl_report_str\n",
    "    confusion_mtx['LR_scaled_conf_mtx'] = conf_mtx\n",
    "    \n",
    "    # Output results\n",
    "    entry    = log_output(dataset_name = 'Set_'+str(tst_set+1), \n",
    "                          model_name   = 'LogisticRegression', \n",
    "                          raw_output   = raw_output,\n",
    "                          sc_output    = sc_output)\n",
    "\n",
    "    model_results.append(entry)\n",
    "    \n",
    "    #*******************************************************************************\n",
    "    \n",
    "    # SVC pipes.\n",
    "    SVC_naive_raw_pipe =  make_pipeline(SVC(C=1e10, random_state=42))                                  \n",
    "    SVC_naive_scaled_pipe = make_pipeline(StandardScaler(), \n",
    "                                          SVC(C=1e10, random_state=42))                                  \n",
    "\n",
    "        \n",
    "    # fit and score pipeline with raw and scaled data. Results are stored in a dict.\n",
    "    raw_output, cl_report_str, conf_mtx = fit_and_score_pipeline(SVC_naive_raw_pipe, \n",
    "                                                                 Xtrain, Xtest,     \n",
    "                                                                 ytrain, ytest,\n",
    "                                                                 target_names=target_names)\n",
    "\n",
    "    # Save classification report and confusion matrix, raw data.\n",
    "    classification_rep['SVC_raw_report'] = cl_report_str\n",
    "    confusion_mtx['SVC_raw_conf_mtx'] = conf_mtx\n",
    "                                           \n",
    "    sc_output, cl_report_str, conf_mtx = fit_and_score_pipeline(SVC_naive_scaled_pipe, \n",
    "                                                                Xtrain, Xtest, \n",
    "                                                                ytrain, ytest,\n",
    "                                                                target_names=target_names)\n",
    "       \n",
    "    # Save classification report and confusion matrix, scaled data.\n",
    "    classification_rep['SVC_scaled_report'] = cl_report_str\n",
    "    confusion_mtx['SVC_scaled_conf_mtx'] = conf_mtx       \n",
    "    \n",
    "    # Output results\n",
    "    entry = log_output(dataset_name = 'Set_'+str(tst_set+1), \n",
    "                       model_name   = 'SVC', \n",
    "                       raw_output   = raw_output,\n",
    "                       sc_output    = sc_output)\n",
    "\n",
    "    model_results.append(entry)    \n",
    "\n",
    "    #*******************************************************************************\n",
    "\n",
    "    # Decision Tree pipes.\n",
    "    DT_naive_raw_pipe  =  make_pipeline(DecisionTreeClassifier(random_state=42))\n",
    "    DT_naive_scaled_pipe = make_pipeline(StandardScaler(), \n",
    "                                         DecisionTreeClassifier(random_state=42))\n",
    "\n",
    "    # fit and score pipeline with raw and scaled data. Results are stored in a dict.\n",
    "    raw_output, cl_report_str, conf_mtx = fit_and_score_pipeline(DT_naive_raw_pipe, \n",
    "                                                                 Xtrain, Xtest,     \n",
    "                                                                 ytrain, ytest,\n",
    "                                                                 target_names=target_names)\n",
    "\n",
    "    # Save classification report and confusion matrix, raw data.\n",
    "    classification_rep['DT_raw_report'] = cl_report_str\n",
    "    confusion_mtx['DT_raw_conf_mtx'] = conf_mtx\n",
    "                                           \n",
    "    sc_output, cl_report_str, conf_mtx = fit_and_score_pipeline(DT_naive_scaled_pipe, \n",
    "                                                                Xtrain, Xtest, \n",
    "                                                                ytrain, ytest,\n",
    "                                                                target_names=target_names)\n",
    "       \n",
    "    # Save classification report and confusion matrix, scaled data.\n",
    "    classification_rep['DT_scaled_report'] = cl_report_str\n",
    "    confusion_mtx['DT_scaled_conf_mtx'] = conf_mtx   \n",
    "    \n",
    "    # Output results\n",
    "    entry = log_output(dataset_name = 'Set_'+str(tst_set+1), \n",
    "                       model_name   = 'DecisionTree', \n",
    "                       raw_output   = raw_output,\n",
    "                       sc_output    = sc_output)\n",
    "\n",
    "    model_results.append(entry)\n",
    "  \n",
    "    #*******************************************************************************\n",
    "   \n",
    "    # KNN pipes.\n",
    "    KNN_naive_raw_pipe =  make_pipeline(KNeighborsClassifier())\n",
    "    KNN_naive_scaled_pipe = make_pipeline(StandardScaler(), \n",
    "                                          KNeighborsClassifier())                                   \n",
    "\n",
    "    # fit and score pipeline with raw and scaled data. Results are stored in a dict.\n",
    "    raw_output, cl_report_str, conf_mtx = fit_and_score_pipeline(KNN_naive_raw_pipe, \n",
    "                                                                 Xtrain, Xtest,     \n",
    "                                                                 ytrain, ytest,\n",
    "                                                                 target_names=target_names)\n",
    "\n",
    "    # Save classification report and confusion matrix, raw data.\n",
    "    classification_rep['KNN_raw_report'] = cl_report_str\n",
    "    confusion_mtx['KNN_raw_conf_mtx'] = conf_mtx\n",
    "                                           \n",
    "    sc_output, cl_report_str, conf_mtx = fit_and_score_pipeline(KNN_naive_scaled_pipe, \n",
    "                                                                Xtrain, Xtest, \n",
    "                                                                ytrain, ytest,\n",
    "                                                                target_names=target_names)\n",
    "       \n",
    "    # Save classification report and confusion matrix, scaled data.\n",
    "    classification_rep['KNN_scaled_report'] = cl_report_str\n",
    "    confusion_mtx['KNN_scaled_conf_mtx'] = conf_mtx   \n",
    "    \n",
    "    # Output results.\n",
    "    entry = log_output(dataset_name = 'Set_'+str(tst_set+1), \n",
    "                       model_name   = 'KNN', \n",
    "                       raw_output   = raw_output,\n",
    "                       sc_output    = sc_output)\n",
    "    \n",
    "    model_results.append(entry)\n",
    "        "
   ]
  },
  {
   "cell_type": "code",
   "execution_count": 14,
   "metadata": {},
   "outputs": [
    {
     "data": {
      "text/html": [
       "<div>\n",
       "<table border=\"1\" class=\"dataframe\">\n",
       "  <thead>\n",
       "    <tr style=\"text-align: right;\">\n",
       "      <th></th>\n",
       "      <th>dataset</th>\n",
       "      <th>model</th>\n",
       "      <th>raw_tr_acc_score</th>\n",
       "      <th>raw_tst_acc_score</th>\n",
       "      <th>raw_precision</th>\n",
       "      <th>raw_recall</th>\n",
       "      <th>sc_tr_acc_score</th>\n",
       "      <th>sc_tst_acc_score</th>\n",
       "      <th>sc_precision</th>\n",
       "      <th>sc_recall</th>\n",
       "    </tr>\n",
       "  </thead>\n",
       "  <tbody>\n",
       "    <tr>\n",
       "      <th>0</th>\n",
       "      <td>Set_1</td>\n",
       "      <td>LogisticRegression</td>\n",
       "      <td>1.000000</td>\n",
       "      <td>0.500000</td>\n",
       "      <td>0.548387</td>\n",
       "      <td>0.472222</td>\n",
       "      <td>1.000000</td>\n",
       "      <td>0.454545</td>\n",
       "      <td>0.500000</td>\n",
       "      <td>0.416667</td>\n",
       "    </tr>\n",
       "    <tr>\n",
       "      <th>1</th>\n",
       "      <td>Set_1</td>\n",
       "      <td>SVC</td>\n",
       "      <td>1.000000</td>\n",
       "      <td>0.454545</td>\n",
       "      <td>0.000000</td>\n",
       "      <td>0.000000</td>\n",
       "      <td>1.000000</td>\n",
       "      <td>0.500000</td>\n",
       "      <td>0.565217</td>\n",
       "      <td>0.361111</td>\n",
       "    </tr>\n",
       "    <tr>\n",
       "      <th>2</th>\n",
       "      <td>Set_1</td>\n",
       "      <td>DecisionTree</td>\n",
       "      <td>1.000000</td>\n",
       "      <td>0.454545</td>\n",
       "      <td>0.500000</td>\n",
       "      <td>0.472222</td>\n",
       "      <td>1.000000</td>\n",
       "      <td>0.454545</td>\n",
       "      <td>0.500000</td>\n",
       "      <td>0.472222</td>\n",
       "    </tr>\n",
       "    <tr>\n",
       "      <th>3</th>\n",
       "      <td>Set_1</td>\n",
       "      <td>KNN</td>\n",
       "      <td>0.783582</td>\n",
       "      <td>0.560606</td>\n",
       "      <td>0.629630</td>\n",
       "      <td>0.472222</td>\n",
       "      <td>0.753731</td>\n",
       "      <td>0.545455</td>\n",
       "      <td>0.615385</td>\n",
       "      <td>0.444444</td>\n",
       "    </tr>\n",
       "    <tr>\n",
       "      <th>4</th>\n",
       "      <td>Set_2</td>\n",
       "      <td>LogisticRegression</td>\n",
       "      <td>1.000000</td>\n",
       "      <td>0.560606</td>\n",
       "      <td>0.448276</td>\n",
       "      <td>0.500000</td>\n",
       "      <td>1.000000</td>\n",
       "      <td>0.545455</td>\n",
       "      <td>0.423077</td>\n",
       "      <td>0.423077</td>\n",
       "    </tr>\n",
       "    <tr>\n",
       "      <th>5</th>\n",
       "      <td>Set_2</td>\n",
       "      <td>SVC</td>\n",
       "      <td>1.000000</td>\n",
       "      <td>0.606061</td>\n",
       "      <td>0.000000</td>\n",
       "      <td>0.000000</td>\n",
       "      <td>1.000000</td>\n",
       "      <td>0.590909</td>\n",
       "      <td>0.473684</td>\n",
       "      <td>0.346154</td>\n",
       "    </tr>\n",
       "    <tr>\n",
       "      <th>6</th>\n",
       "      <td>Set_2</td>\n",
       "      <td>DecisionTree</td>\n",
       "      <td>1.000000</td>\n",
       "      <td>0.575758</td>\n",
       "      <td>0.473684</td>\n",
       "      <td>0.692308</td>\n",
       "      <td>1.000000</td>\n",
       "      <td>0.575758</td>\n",
       "      <td>0.473684</td>\n",
       "      <td>0.692308</td>\n",
       "    </tr>\n",
       "    <tr>\n",
       "      <th>7</th>\n",
       "      <td>Set_2</td>\n",
       "      <td>KNN</td>\n",
       "      <td>0.776119</td>\n",
       "      <td>0.606061</td>\n",
       "      <td>0.500000</td>\n",
       "      <td>0.576923</td>\n",
       "      <td>0.686567</td>\n",
       "      <td>0.575758</td>\n",
       "      <td>0.466667</td>\n",
       "      <td>0.538462</td>\n",
       "    </tr>\n",
       "    <tr>\n",
       "      <th>8</th>\n",
       "      <td>Set_3</td>\n",
       "      <td>LogisticRegression</td>\n",
       "      <td>1.000000</td>\n",
       "      <td>0.560606</td>\n",
       "      <td>0.562500</td>\n",
       "      <td>0.545455</td>\n",
       "      <td>1.000000</td>\n",
       "      <td>0.484848</td>\n",
       "      <td>0.484848</td>\n",
       "      <td>0.484848</td>\n",
       "    </tr>\n",
       "    <tr>\n",
       "      <th>9</th>\n",
       "      <td>Set_3</td>\n",
       "      <td>SVC</td>\n",
       "      <td>1.000000</td>\n",
       "      <td>0.500000</td>\n",
       "      <td>0.500000</td>\n",
       "      <td>1.000000</td>\n",
       "      <td>1.000000</td>\n",
       "      <td>0.530303</td>\n",
       "      <td>0.527778</td>\n",
       "      <td>0.575758</td>\n",
       "    </tr>\n",
       "    <tr>\n",
       "      <th>10</th>\n",
       "      <td>Set_3</td>\n",
       "      <td>DecisionTree</td>\n",
       "      <td>1.000000</td>\n",
       "      <td>0.454545</td>\n",
       "      <td>0.457143</td>\n",
       "      <td>0.484848</td>\n",
       "      <td>1.000000</td>\n",
       "      <td>0.454545</td>\n",
       "      <td>0.457143</td>\n",
       "      <td>0.484848</td>\n",
       "    </tr>\n",
       "    <tr>\n",
       "      <th>11</th>\n",
       "      <td>Set_3</td>\n",
       "      <td>KNN</td>\n",
       "      <td>0.813433</td>\n",
       "      <td>0.651515</td>\n",
       "      <td>0.656250</td>\n",
       "      <td>0.636364</td>\n",
       "      <td>0.708955</td>\n",
       "      <td>0.515152</td>\n",
       "      <td>0.514286</td>\n",
       "      <td>0.545455</td>\n",
       "    </tr>\n",
       "  </tbody>\n",
       "</table>\n",
       "</div>"
      ],
      "text/plain": [
       "   dataset               model  raw_tr_acc_score  raw_tst_acc_score  \\\n",
       "0    Set_1  LogisticRegression          1.000000           0.500000   \n",
       "1    Set_1                 SVC          1.000000           0.454545   \n",
       "2    Set_1        DecisionTree          1.000000           0.454545   \n",
       "3    Set_1                 KNN          0.783582           0.560606   \n",
       "4    Set_2  LogisticRegression          1.000000           0.560606   \n",
       "5    Set_2                 SVC          1.000000           0.606061   \n",
       "6    Set_2        DecisionTree          1.000000           0.575758   \n",
       "7    Set_2                 KNN          0.776119           0.606061   \n",
       "8    Set_3  LogisticRegression          1.000000           0.560606   \n",
       "9    Set_3                 SVC          1.000000           0.500000   \n",
       "10   Set_3        DecisionTree          1.000000           0.454545   \n",
       "11   Set_3                 KNN          0.813433           0.651515   \n",
       "\n",
       "    raw_precision  raw_recall  sc_tr_acc_score  sc_tst_acc_score  \\\n",
       "0        0.548387    0.472222         1.000000          0.454545   \n",
       "1        0.000000    0.000000         1.000000          0.500000   \n",
       "2        0.500000    0.472222         1.000000          0.454545   \n",
       "3        0.629630    0.472222         0.753731          0.545455   \n",
       "4        0.448276    0.500000         1.000000          0.545455   \n",
       "5        0.000000    0.000000         1.000000          0.590909   \n",
       "6        0.473684    0.692308         1.000000          0.575758   \n",
       "7        0.500000    0.576923         0.686567          0.575758   \n",
       "8        0.562500    0.545455         1.000000          0.484848   \n",
       "9        0.500000    1.000000         1.000000          0.530303   \n",
       "10       0.457143    0.484848         1.000000          0.454545   \n",
       "11       0.656250    0.636364         0.708955          0.515152   \n",
       "\n",
       "    sc_precision  sc_recall  \n",
       "0       0.500000   0.416667  \n",
       "1       0.565217   0.361111  \n",
       "2       0.500000   0.472222  \n",
       "3       0.615385   0.444444  \n",
       "4       0.423077   0.423077  \n",
       "5       0.473684   0.346154  \n",
       "6       0.473684   0.692308  \n",
       "7       0.466667   0.538462  \n",
       "8       0.484848   0.484848  \n",
       "9       0.527778   0.575758  \n",
       "10      0.457143   0.484848  \n",
       "11      0.514286   0.545455  "
      ]
     },
     "execution_count": 14,
     "metadata": {},
     "output_type": "execute_result"
    }
   ],
   "source": [
    "# Put all results in a dataframe.\n",
    "model_results_df = pd.DataFrame(model_results)\n",
    "\n",
    "# I am here specifying the column arrangements.\n",
    "model_results_df = model_results_df[['dataset', 'model', 'raw_tr_acc_score', \\\n",
    "                                     'raw_tst_acc_score', 'raw_precision', 'raw_recall', \\\n",
    "                                     'sc_tr_acc_score', 'sc_tst_acc_score', 'sc_precision', \\\n",
    "                                     'sc_recall']]\n",
    "model_results_df"
   ]
  },
  {
   "cell_type": "code",
   "execution_count": 15,
   "metadata": {},
   "outputs": [
    {
     "name": "stdout",
     "output_type": "stream",
     "text": [
      "*****LR_raw_report Classification Report ***** \n",
      "\n",
      "              precision    recall  f1-score   support\n",
      "\n",
      "   class -1       0.56      0.58      0.57        33\n",
      "    class 1       0.56      0.55      0.55        33\n",
      "\n",
      "avg / total       0.56      0.56      0.56        66\n",
      " \n",
      "\n",
      "*****LR_scaled_report Classification Report ***** \n",
      "\n",
      "              precision    recall  f1-score   support\n",
      "\n",
      "   class -1       0.48      0.48      0.48        33\n",
      "    class 1       0.48      0.48      0.48        33\n",
      "\n",
      "avg / total       0.48      0.48      0.48        66\n",
      " \n",
      "\n",
      "*****SVC_raw_report Classification Report ***** \n",
      "\n",
      "              precision    recall  f1-score   support\n",
      "\n",
      "   class -1       0.00      0.00      0.00        33\n",
      "    class 1       0.50      1.00      0.67        33\n",
      "\n",
      "avg / total       0.25      0.50      0.33        66\n",
      " \n",
      "\n",
      "*****SVC_scaled_report Classification Report ***** \n",
      "\n",
      "              precision    recall  f1-score   support\n",
      "\n",
      "   class -1       0.53      0.48      0.51        33\n",
      "    class 1       0.53      0.58      0.55        33\n",
      "\n",
      "avg / total       0.53      0.53      0.53        66\n",
      " \n",
      "\n",
      "*****DT_raw_report Classification Report ***** \n",
      "\n",
      "              precision    recall  f1-score   support\n",
      "\n",
      "   class -1       0.45      0.42      0.44        33\n",
      "    class 1       0.46      0.48      0.47        33\n",
      "\n",
      "avg / total       0.45      0.45      0.45        66\n",
      " \n",
      "\n",
      "*****DT_scaled_report Classification Report ***** \n",
      "\n",
      "              precision    recall  f1-score   support\n",
      "\n",
      "   class -1       0.45      0.42      0.44        33\n",
      "    class 1       0.46      0.48      0.47        33\n",
      "\n",
      "avg / total       0.45      0.45      0.45        66\n",
      " \n",
      "\n",
      "*****KNN_raw_report Classification Report ***** \n",
      "\n",
      "              precision    recall  f1-score   support\n",
      "\n",
      "   class -1       0.65      0.67      0.66        33\n",
      "    class 1       0.66      0.64      0.65        33\n",
      "\n",
      "avg / total       0.65      0.65      0.65        66\n",
      " \n",
      "\n",
      "*****KNN_scaled_report Classification Report ***** \n",
      "\n",
      "              precision    recall  f1-score   support\n",
      "\n",
      "   class -1       0.52      0.48      0.50        33\n",
      "    class 1       0.51      0.55      0.53        33\n",
      "\n",
      "avg / total       0.52      0.52      0.51        66\n",
      " \n",
      "\n"
     ]
    }
   ],
   "source": [
    "# Display classification reports.\n",
    "for k,v in classification_rep.items():\n",
    "    print('*****' + k + ' Classification Report *****', '\\n\\n', v, '\\n')"
   ]
  },
  {
   "cell_type": "code",
   "execution_count": 33,
   "metadata": {
    "collapsed": true
   },
   "outputs": [],
   "source": [
    "def plot_confusion_matrix(cm, classes,\n",
    "                          normalize=False,\n",
    "                          title='Confusion matrix',\n",
    "                          cmap=plt.cm.Blues):\n",
    "    \n",
    "    #This function plots and saves the confusion matrix.\n",
    "    #Its normalized.\n",
    "    \n",
    "    plt.imshow(cm, interpolation='nearest', cmap=cmap)\n",
    "    plt.title(title)\n",
    "    plt.colorbar()\n",
    "    tick_marks = np.arange(len(classes))\n",
    "    plt.xticks(tick_marks, classes, rotation=45)\n",
    "    plt.yticks(tick_marks, classes)\n",
    "    plt.grid('off')\n",
    "\n",
    "\n",
    "    cm = cm.astype('float') / cm.sum(axis=1)[:, np.newaxis]\n",
    "    print(\"Normalized confusion matrix\")\n",
    "\n",
    "    print(cm)\n",
    "\n",
    "    thresh = cm.max() / 2.\n",
    "    for i, j in itertools.product(range(cm.shape[0]), range(cm.shape[1])):\n",
    "        plt.text(j, i, cm[i, j],\n",
    "                 horizontalalignment=\"center\",\n",
    "                 color=\"red\")\n",
    "\n",
    "    plt.tight_layout()\n",
    "    plt.ylabel('True label')\n",
    "    plt.xlabel('Predicted label')\n",
    "    \n",
    "    plt.savefig('../imgNB1/' + title + '.png', bbox_inches='tight')\n",
    "    plt.show()"
   ]
  },
  {
   "cell_type": "code",
   "execution_count": 34,
   "metadata": {},
   "outputs": [
    {
     "name": "stdout",
     "output_type": "stream",
     "text": [
      "Normalized confusion matrix\n",
      "[[ 0.58064516  0.41935484]\n",
      " [ 0.6         0.4       ]]\n"
     ]
    },
    {
     "data": {
      "image/png": "[encoded data removed]",
      "text/plain": [
       "<matplotlib.figure.Figure at 0x7fb2e1818208>"
      ]
     },
     "metadata": {},
     "output_type": "display_data"
    },
    {
     "name": "stdout",
     "output_type": "stream",
     "text": [
      "Normalized confusion matrix\n",
      "[[ 0.4516129   0.5483871 ]\n",
      " [ 0.62857143  0.37142857]]\n"
     ]
    },
    {
     "data": {
      "image/png": "[encoded data removed]",
      "text/plain": [
       "<matplotlib.figure.Figure at 0x7fb2e1767d30>"
      ]
     },
     "metadata": {},
     "output_type": "display_data"
    },
    {
     "name": "stdout",
     "output_type": "stream",
     "text": [
      "Normalized confusion matrix\n",
      "[[ 0.  1.]\n",
      " [ 0.  1.]]\n"
     ]
    },
    {
     "data": {
      "image/png": "[encoded data removed]",
      "text/plain": [
       "<matplotlib.figure.Figure at 0x7fb2e166de48>"
      ]
     },
     "metadata": {},
     "output_type": "display_data"
    },
    {
     "name": "stdout",
     "output_type": "stream",
     "text": [
      "Normalized confusion matrix\n",
      "[[ 0.41935484  0.58064516]\n",
      " [ 0.51428571  0.48571429]]\n"
     ]
    },
    {
     "data": {
      "image/png": "[encoded data removed]",
      "text/plain": [
       "<matplotlib.figure.Figure at 0x7fb2e156b9b0>"
      ]
     },
     "metadata": {},
     "output_type": "display_data"
    },
    {
     "name": "stdout",
     "output_type": "stream",
     "text": [
      "Normalized confusion matrix\n",
      "[[ 0.29032258  0.70967742]\n",
      " [ 0.48571429  0.51428571]]\n"
     ]
    },
    {
     "data": {
      "image/png": "[encoded data removed]",
      "text/plain": [
       "<matplotlib.figure.Figure at 0x7fb2e20882e8>"
      ]
     },
     "metadata": {},
     "output_type": "display_data"
    },
    {
     "name": "stdout",
     "output_type": "stream",
     "text": [
      "Normalized confusion matrix\n",
      "[[ 0.29032258  0.70967742]\n",
      " [ 0.48571429  0.51428571]]\n"
     ]
    },
    {
     "data": {
      "image/png": "[encoded data removed]",
      "text/plain": [
       "<matplotlib.figure.Figure at 0x7fb2e14a86d8>"
      ]
     },
     "metadata": {},
     "output_type": "display_data"
    },
    {
     "name": "stdout",
     "output_type": "stream",
     "text": [
      "Normalized confusion matrix\n",
      "[[ 0.61290323  0.38709677]\n",
      " [ 0.45714286  0.54285714]]\n"
     ]
    },
    {
     "data": {
      "image/png": "[encoded data removed]",
      "text/plain": [
       "<matplotlib.figure.Figure at 0x7fb2e1521dd8>"
      ]
     },
     "metadata": {},
     "output_type": "display_data"
    },
    {
     "name": "stdout",
     "output_type": "stream",
     "text": [
      "Normalized confusion matrix\n",
      "[[ 0.29032258  0.70967742]\n",
      " [ 0.28571429  0.71428571]]\n"
     ]
    },
    {
     "data": {
      "image/png": "[encoded data removed]",
      "text/plain": [
       "<matplotlib.figure.Figure at 0x7fb2e1490cf8>"
      ]
     },
     "metadata": {},
     "output_type": "display_data"
    }
   ],
   "source": [
    "# Plot confusion matrices, for all models.\n",
    "\n",
    "for k,conf_mtx in confusion_mtx.items():\n",
    "    plot_confusion_matrix(conf_mtx, classes=['-1','1'], normalize=True,\n",
    "                          title= 'confusion_matrix:'+k)\n",
    "    "
   ]
  }
 ],
 "metadata": {
  "kernelspec": {
   "display_name": "Python 3",
   "language": "python",
   "name": "python3"
  },
  "language_info": {
   "codemirror_mode": {
    "name": "ipython",
    "version": 3
   },
   "file_extension": ".py",
   "mimetype": "text/x-python",
   "name": "python",
   "nbconvert_exporter": "python",
   "pygments_lexer": "ipython3",
   "version": "3.6.2"
  }
 },
 "nbformat": 4,
 "nbformat_minor": 2
}
