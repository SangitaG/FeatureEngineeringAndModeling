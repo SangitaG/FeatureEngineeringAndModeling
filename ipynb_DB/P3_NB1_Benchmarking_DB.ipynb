{
 "cells": [
  {
   "cell_type": "markdown",
   "metadata": {},
   "source": [
    "##### Jupyter Notebook, Step 1 - Benchmarking\n",
    "- build pipeline to perform a naive fit for each of the base model classes:\n",
    "\t- logistic regression\n",
    "\t- decision tree\n",
    "\t- k nearest neighbors\n",
    "\t- support vector classifier\n",
    "- in order to do this, you will need to set a high `C` value in order to perform \n",
    "minimal regularization, in the case of logistic regression and support vector classifier."
   ]
  },
  {
   "cell_type": "code",
   "execution_count": 1,
   "metadata": {},
   "outputs": [
    {
     "ename": "ModuleNotFoundError",
     "evalue": "No module named 'tqdm'",
     "output_type": "error",
     "traceback": [
      "\u001b[0;31m---------------------------------------------------------------------------\u001b[0m",
      "\u001b[0;31mModuleNotFoundError\u001b[0m                       Traceback (most recent call last)",
      "\u001b[0;32m<ipython-input-1-2d077b80327c>\u001b[0m in \u001b[0;36m<module>\u001b[0;34m()\u001b[0m\n\u001b[1;32m      4\u001b[0m \u001b[0;32mimport\u001b[0m \u001b[0mmatplotlib\u001b[0m\u001b[0;34m.\u001b[0m\u001b[0mpyplot\u001b[0m \u001b[0;32mas\u001b[0m \u001b[0mplt\u001b[0m\u001b[0;34m\u001b[0m\u001b[0m\n\u001b[1;32m      5\u001b[0m \u001b[0;32mimport\u001b[0m \u001b[0mitertools\u001b[0m\u001b[0;34m\u001b[0m\u001b[0m\n\u001b[0;32m----> 6\u001b[0;31m \u001b[0;32mfrom\u001b[0m \u001b[0mtqdm\u001b[0m \u001b[0;32mimport\u001b[0m \u001b[0mtqdm\u001b[0m\u001b[0;34m\u001b[0m\u001b[0m\n\u001b[0m\u001b[1;32m      7\u001b[0m \u001b[0;32mfrom\u001b[0m \u001b[0msklearn\u001b[0m\u001b[0;34m.\u001b[0m\u001b[0msvm\u001b[0m \u001b[0;32mimport\u001b[0m \u001b[0mSVC\u001b[0m\u001b[0;34m\u001b[0m\u001b[0m\n\u001b[1;32m      8\u001b[0m \u001b[0;32mfrom\u001b[0m \u001b[0msklearn\u001b[0m\u001b[0;34m.\u001b[0m\u001b[0mpipeline\u001b[0m \u001b[0;32mimport\u001b[0m \u001b[0mmake_pipeline\u001b[0m\u001b[0;34m\u001b[0m\u001b[0m\n",
      "\u001b[0;31mModuleNotFoundError\u001b[0m: No module named 'tqdm'"
     ]
    }
   ],
   "source": [
    "import pandas as pd\n",
    "import numpy as np\n",
    "import seaborn as sns\n",
    "import matplotlib.pyplot as plt\n",
    "import itertools\n",
    "from tqdm import tqdm\n",
    "from sklearn.svm import SVC\n",
    "from sklearn.pipeline import make_pipeline\n",
    "from sklearn.tree import DecisionTreeClassifier\n",
    "from sklearn.preprocessing import StandardScaler\n",
    "from sklearn.neighbors import KNeighborsClassifier\n",
    "from sklearn.linear_model import LogisticRegression\n",
    "\n",
    "from sklearn.model_selection import train_test_split\n",
    "from sklearn.metrics import classification_report,precision_recall_curve,confusion_matrix \n",
    "from sklearn.metrics import (precision_score,accuracy_score,roc_auc_score,roc_curve, \n",
    "                             precision_recall_curve,recall_score,make_scorer,auc) \n",
    "                              \n",
    "\n",
    "%matplotlib inline"
   ]
  },
  {
   "cell_type": "code",
   "execution_count": 2,
   "metadata": {
    "collapsed": true
   },
   "outputs": [],
   "source": [
    "# I was not able to retrive more than 3000 rows of data at a time.\n",
    "# So I retrieved 5 samples of 3000 rows. I will use 3 subsets of data\n",
    "# that are 4000 rows each."
   ]
  },
  {
   "cell_type": "code",
   "execution_count": 3,
   "metadata": {
    "collapsed": true
   },
   "outputs": [],
   "source": [
    "# Read in the pickled Madelon data, retrieved earlier from database.\n",
    "# See notebook 'P3_DB_data_retrieval.ipynb'"
   ]
  },
  {
   "cell_type": "code",
   "execution_count": 4,
   "metadata": {
    "collapsed": true
   },
   "outputs": [],
   "source": [
    "dataset_1_df   = pd.read_pickle('../MadelonDBData/df3000_1.p')\n",
    "dataset_2_df   = pd.read_pickle('../MadelonDBData/df3000_2.p')\n",
    "dataset_3_df   = pd.read_pickle('../MadelonDBData/df3000_3.p')\n",
    "dataset_4_df   = pd.read_pickle('../MadelonDBData/df3000_4.p')\n",
    "dataset_5_df   = pd.read_pickle('../MadelonDBData/df3000_5.p')"
   ]
  },
  {
   "cell_type": "code",
   "execution_count": 5,
   "metadata": {},
   "outputs": [
    {
     "data": {
      "text/plain": [
       "((3000, 1002), (3000, 1002), (3000, 1002), (3000, 1002), (3000, 1002))"
      ]
     },
     "execution_count": 5,
     "metadata": {},
     "output_type": "execute_result"
    }
   ],
   "source": [
    "dataset_1_df.shape, dataset_2_df.shape,dataset_3_df.shape, dataset_4_df.shape, dataset_5_df.shape"
   ]
  },
  {
   "cell_type": "code",
   "execution_count": 6,
   "metadata": {},
   "outputs": [
    {
     "data": {
      "text/html": [
       "<div>\n",
       "<table border=\"1\" class=\"dataframe\">\n",
       "  <thead>\n",
       "    <tr style=\"text-align: right;\">\n",
       "      <th></th>\n",
       "      <th>_id</th>\n",
       "      <th>feat_000</th>\n",
       "      <th>feat_001</th>\n",
       "      <th>feat_002</th>\n",
       "      <th>feat_003</th>\n",
       "      <th>feat_004</th>\n",
       "      <th>feat_005</th>\n",
       "      <th>feat_006</th>\n",
       "      <th>feat_007</th>\n",
       "      <th>feat_008</th>\n",
       "      <th>...</th>\n",
       "      <th>feat_991</th>\n",
       "      <th>feat_992</th>\n",
       "      <th>feat_993</th>\n",
       "      <th>feat_994</th>\n",
       "      <th>feat_995</th>\n",
       "      <th>feat_996</th>\n",
       "      <th>feat_997</th>\n",
       "      <th>feat_998</th>\n",
       "      <th>feat_999</th>\n",
       "      <th>target</th>\n",
       "    </tr>\n",
       "  </thead>\n",
       "  <tbody>\n",
       "    <tr>\n",
       "      <th>0</th>\n",
       "      <td>107971</td>\n",
       "      <td>0.379930</td>\n",
       "      <td>1.263945</td>\n",
       "      <td>-0.788751</td>\n",
       "      <td>0.242238</td>\n",
       "      <td>0.909713</td>\n",
       "      <td>-0.238677</td>\n",
       "      <td>-1.064835</td>\n",
       "      <td>1.598606</td>\n",
       "      <td>0.275761</td>\n",
       "      <td>...</td>\n",
       "      <td>-0.487347</td>\n",
       "      <td>-0.446448</td>\n",
       "      <td>0.434216</td>\n",
       "      <td>0.333720</td>\n",
       "      <td>-0.211308</td>\n",
       "      <td>-0.499448</td>\n",
       "      <td>0.523186</td>\n",
       "      <td>0.064643</td>\n",
       "      <td>0.386545</td>\n",
       "      <td>0</td>\n",
       "    </tr>\n",
       "    <tr>\n",
       "      <th>1</th>\n",
       "      <td>158605</td>\n",
       "      <td>-1.086492</td>\n",
       "      <td>-0.098804</td>\n",
       "      <td>-0.108155</td>\n",
       "      <td>0.091832</td>\n",
       "      <td>-1.041884</td>\n",
       "      <td>-1.286358</td>\n",
       "      <td>-0.263369</td>\n",
       "      <td>-2.908327</td>\n",
       "      <td>-2.062492</td>\n",
       "      <td>...</td>\n",
       "      <td>-0.144838</td>\n",
       "      <td>0.529429</td>\n",
       "      <td>-0.831674</td>\n",
       "      <td>0.678643</td>\n",
       "      <td>0.662404</td>\n",
       "      <td>-0.988360</td>\n",
       "      <td>1.756702</td>\n",
       "      <td>0.942543</td>\n",
       "      <td>-1.854845</td>\n",
       "      <td>1</td>\n",
       "    </tr>\n",
       "    <tr>\n",
       "      <th>2</th>\n",
       "      <td>7693</td>\n",
       "      <td>-0.059343</td>\n",
       "      <td>0.281730</td>\n",
       "      <td>0.396618</td>\n",
       "      <td>1.080609</td>\n",
       "      <td>0.547924</td>\n",
       "      <td>-0.671473</td>\n",
       "      <td>-0.157873</td>\n",
       "      <td>-0.333325</td>\n",
       "      <td>0.805554</td>\n",
       "      <td>...</td>\n",
       "      <td>1.401094</td>\n",
       "      <td>-1.204238</td>\n",
       "      <td>-1.470250</td>\n",
       "      <td>-0.579397</td>\n",
       "      <td>-0.532083</td>\n",
       "      <td>0.812578</td>\n",
       "      <td>-1.271424</td>\n",
       "      <td>-2.091807</td>\n",
       "      <td>0.435828</td>\n",
       "      <td>1</td>\n",
       "    </tr>\n",
       "    <tr>\n",
       "      <th>3</th>\n",
       "      <td>136191</td>\n",
       "      <td>-0.922666</td>\n",
       "      <td>-0.571571</td>\n",
       "      <td>-0.325827</td>\n",
       "      <td>0.683418</td>\n",
       "      <td>1.150821</td>\n",
       "      <td>0.672791</td>\n",
       "      <td>-0.402799</td>\n",
       "      <td>0.912123</td>\n",
       "      <td>-0.196423</td>\n",
       "      <td>...</td>\n",
       "      <td>-0.775974</td>\n",
       "      <td>0.767312</td>\n",
       "      <td>1.093832</td>\n",
       "      <td>2.425454</td>\n",
       "      <td>-0.501526</td>\n",
       "      <td>-1.767517</td>\n",
       "      <td>-0.918765</td>\n",
       "      <td>-1.387155</td>\n",
       "      <td>-0.236656</td>\n",
       "      <td>1</td>\n",
       "    </tr>\n",
       "    <tr>\n",
       "      <th>4</th>\n",
       "      <td>33087</td>\n",
       "      <td>2.130117</td>\n",
       "      <td>-1.457055</td>\n",
       "      <td>0.112199</td>\n",
       "      <td>-1.739049</td>\n",
       "      <td>1.033628</td>\n",
       "      <td>1.268523</td>\n",
       "      <td>0.706005</td>\n",
       "      <td>-0.183416</td>\n",
       "      <td>0.561083</td>\n",
       "      <td>...</td>\n",
       "      <td>1.189077</td>\n",
       "      <td>1.726686</td>\n",
       "      <td>-0.466693</td>\n",
       "      <td>1.057558</td>\n",
       "      <td>1.002655</td>\n",
       "      <td>-0.256453</td>\n",
       "      <td>1.579935</td>\n",
       "      <td>-0.755556</td>\n",
       "      <td>-1.961971</td>\n",
       "      <td>0</td>\n",
       "    </tr>\n",
       "  </tbody>\n",
       "</table>\n",
       "<p>5 rows × 1002 columns</p>\n",
       "</div>"
      ],
      "text/plain": [
       "      _id  feat_000  feat_001  feat_002  feat_003  feat_004  feat_005  \\\n",
       "0  107971  0.379930  1.263945 -0.788751  0.242238  0.909713 -0.238677   \n",
       "1  158605 -1.086492 -0.098804 -0.108155  0.091832 -1.041884 -1.286358   \n",
       "2    7693 -0.059343  0.281730  0.396618  1.080609  0.547924 -0.671473   \n",
       "3  136191 -0.922666 -0.571571 -0.325827  0.683418  1.150821  0.672791   \n",
       "4   33087  2.130117 -1.457055  0.112199 -1.739049  1.033628  1.268523   \n",
       "\n",
       "   feat_006  feat_007  feat_008   ...    feat_991  feat_992  feat_993  \\\n",
       "0 -1.064835  1.598606  0.275761   ...   -0.487347 -0.446448  0.434216   \n",
       "1 -0.263369 -2.908327 -2.062492   ...   -0.144838  0.529429 -0.831674   \n",
       "2 -0.157873 -0.333325  0.805554   ...    1.401094 -1.204238 -1.470250   \n",
       "3 -0.402799  0.912123 -0.196423   ...   -0.775974  0.767312  1.093832   \n",
       "4  0.706005 -0.183416  0.561083   ...    1.189077  1.726686 -0.466693   \n",
       "\n",
       "   feat_994  feat_995  feat_996  feat_997  feat_998  feat_999  target  \n",
       "0  0.333720 -0.211308 -0.499448  0.523186  0.064643  0.386545       0  \n",
       "1  0.678643  0.662404 -0.988360  1.756702  0.942543 -1.854845       1  \n",
       "2 -0.579397 -0.532083  0.812578 -1.271424 -2.091807  0.435828       1  \n",
       "3  2.425454 -0.501526 -1.767517 -0.918765 -1.387155 -0.236656       1  \n",
       "4  1.057558  1.002655 -0.256453  1.579935 -0.755556 -1.961971       0  \n",
       "\n",
       "[5 rows x 1002 columns]"
      ]
     },
     "execution_count": 6,
     "metadata": {},
     "output_type": "execute_result"
    }
   ],
   "source": [
    "dataset_1_df.head()"
   ]
  },
  {
   "cell_type": "code",
   "execution_count": 7,
   "metadata": {},
   "outputs": [
    {
     "data": {
      "text/plain": [
       "(0, 0, 0)"
      ]
     },
     "execution_count": 7,
     "metadata": {},
     "output_type": "execute_result"
    }
   ],
   "source": [
    "dataset_1_df.isnull().sum().sum(), dataset_2_df.isnull().sum().sum(),dataset_3_df.isnull().sum().sum()"
   ]
  },
  {
   "cell_type": "code",
   "execution_count": 8,
   "metadata": {},
   "outputs": [
    {
     "data": {
      "text/plain": [
       "(0, 0)"
      ]
     },
     "execution_count": 8,
     "metadata": {},
     "output_type": "execute_result"
    }
   ],
   "source": [
    "dataset_4_df.isnull().sum().sum(), dataset_5_df.isnull().sum().sum()"
   ]
  },
  {
   "cell_type": "code",
   "execution_count": 9,
   "metadata": {
    "collapsed": true
   },
   "outputs": [],
   "source": [
    "# We see the data has no null values."
   ]
  },
  {
   "cell_type": "code",
   "execution_count": 10,
   "metadata": {
    "collapsed": true
   },
   "outputs": [],
   "source": [
    "# I have 15000 rows of data. I will separate 1500 rows for validation and 1500 for rows\n",
    "# for test data. The remaining 12000 will be divided into 3 training subsets."
   ]
  },
  {
   "cell_type": "code",
   "execution_count": 11,
   "metadata": {
    "collapsed": true
   },
   "outputs": [],
   "source": [
    "X_train_df = dataset_1_df.append(dataset_2_df).append(dataset_3_df).append(dataset_4_df)"
   ]
  },
  {
   "cell_type": "code",
   "execution_count": 12,
   "metadata": {
    "collapsed": true
   },
   "outputs": [],
   "source": [
    "X_validate_df = pd.DataFrame(dataset_4_df.iloc[:1500, :])"
   ]
  },
  {
   "cell_type": "code",
   "execution_count": 13,
   "metadata": {
    "collapsed": true
   },
   "outputs": [],
   "source": [
    "X_test_df = pd.DataFrame(dataset_4_df.iloc[1500:, :])"
   ]
  },
  {
   "cell_type": "code",
   "execution_count": 14,
   "metadata": {},
   "outputs": [
    {
     "data": {
      "text/plain": [
       "((12000, 1002), (1500, 1002), (1500, 1002))"
      ]
     },
     "execution_count": 14,
     "metadata": {},
     "output_type": "execute_result"
    }
   ],
   "source": [
    "X_train_df.shape, X_validate_df.shape, X_test_df.shape"
   ]
  },
  {
   "cell_type": "code",
   "execution_count": 15,
   "metadata": {
    "collapsed": true
   },
   "outputs": [],
   "source": [
    "# Split X_train_data into 3 subsets.\n",
    "X_train_1_df = pd.DataFrame(X_train_df.iloc[:4000, :])\n",
    "X_train_2_df = pd.DataFrame(X_train_df.iloc[4000:8000, :])\n",
    "X_train_3_df = pd.DataFrame(X_train_df.iloc[8000:, :])"
   ]
  },
  {
   "cell_type": "code",
   "execution_count": 16,
   "metadata": {},
   "outputs": [
    {
     "data": {
      "text/plain": [
       "((4000, 1002), (4000, 1002), (4000, 1002))"
      ]
     },
     "execution_count": 16,
     "metadata": {},
     "output_type": "execute_result"
    }
   ],
   "source": [
    "X_train_1_df.shape, X_train_2_df.shape, X_train_3_df.shape"
   ]
  },
  {
   "cell_type": "code",
   "execution_count": 17,
   "metadata": {
    "collapsed": true
   },
   "outputs": [],
   "source": [
    "#Set y as'target' for train, validate and test data. \n",
    "\n",
    "y_train_1 = X_train_1_df['target'].values \n",
    "y_train_2 = X_train_2_df['target'].values\n",
    "y_train_3 = X_train_3_df['target'].values\n",
    "\n",
    "y_validate = X_validate_df['target'].values\n",
    "y_test     = X_test_df['target'].values"
   ]
  },
  {
   "cell_type": "code",
   "execution_count": 18,
   "metadata": {},
   "outputs": [
    {
     "data": {
      "text/plain": [
       "((4000,), (4000,), (4000,), (1500,), (1500,))"
      ]
     },
     "execution_count": 18,
     "metadata": {},
     "output_type": "execute_result"
    }
   ],
   "source": [
    "y_train_1.shape, y_train_2.shape, y_train_3.shape, y_validate.shape, y_test.shape"
   ]
  },
  {
   "cell_type": "code",
   "execution_count": 19,
   "metadata": {
    "collapsed": true
   },
   "outputs": [],
   "source": [
    "# I will drop column '_id' and 'target' from the dataset. \n",
    "\n",
    "X_train_1_df.drop(['_id','target'], axis=1, inplace=True)\n",
    "X_train_2_df.drop(['_id','target'], axis=1, inplace=True)\n",
    "X_train_3_df.drop(['_id','target'], axis=1, inplace=True)\n",
    "\n",
    "X_validate_df.drop(['_id','target'], axis=1, inplace=True)\n",
    "X_test_df.drop(['_id','target'], axis=1, inplace=True)"
   ]
  },
  {
   "cell_type": "code",
   "execution_count": 20,
   "metadata": {},
   "outputs": [
    {
     "data": {
      "text/plain": [
       "((4000, 1000), (4000, 1000), (4000, 1000), (1500, 1000), (1500, 1000))"
      ]
     },
     "execution_count": 20,
     "metadata": {},
     "output_type": "execute_result"
    }
   ],
   "source": [
    "X_train_1_df.shape, X_train_2_df.shape, X_train_3_df.shape, X_validate_df.shape, X_test_df.shape"
   ]
  },
  {
   "cell_type": "code",
   "execution_count": 21,
   "metadata": {
    "collapsed": true
   },
   "outputs": [],
   "source": [
    "del dataset_1_df; del dataset_2_df; del dataset_3_df; del dataset_4_df; del dataset_5_df;"
   ]
  },
  {
   "cell_type": "code",
   "execution_count": 22,
   "metadata": {},
   "outputs": [
    {
     "data": {
      "text/plain": [
       "<matplotlib.text.Text at 0x7f4d61e77f28>"
      ]
     },
     "execution_count": 22,
     "metadata": {},
     "output_type": "execute_result"
    },
    {
     "data": {
      "image/png": "[encoded data removed]",
      "text/plain": [
       "<matplotlib.figure.Figure at 0x7f4d909326a0>"
      ]
     },
     "metadata": {},
     "output_type": "display_data"
    }
   ],
   "source": [
    "plt.scatter(X_train_1_df.mean(), X_train_1_df.std())\n",
    "plt.title('AWS DB madelon data sample 1')\n",
    "plt.xlabel('mean of the 1000 features')\n",
    "plt.ylabel('std of the 1000 features ')"
   ]
  },
  {
   "cell_type": "code",
   "execution_count": 23,
   "metadata": {},
   "outputs": [
    {
     "data": {
      "text/plain": [
       "<matplotlib.axes._subplots.AxesSubplot at 0x7f4d90932b38>"
      ]
     },
     "execution_count": 23,
     "metadata": {},
     "output_type": "execute_result"
    },
    {
     "data": {
      "image/png": "[encoded data removed]",
      "text/plain": [
       "<matplotlib.figure.Figure at 0x7f4d61e87898>"
      ]
     },
     "metadata": {},
     "output_type": "display_data"
    }
   ],
   "source": [
    "sns.distplot(X_train_1_df.mean(), axlabel='feature means dataset1')\n",
    "\n",
    "# The means of the features in dataset 1 seems to be pretty normally distributed."
   ]
  },
  {
   "cell_type": "code",
   "execution_count": 24,
   "metadata": {},
   "outputs": [
    {
     "data": {
      "text/plain": [
       "<matplotlib.text.Text at 0x7f4d61b7d7b8>"
      ]
     },
     "execution_count": 24,
     "metadata": {},
     "output_type": "execute_result"
    },
    {
     "data": {
      "image/png": "[encoded data removed]",
      "text/plain": [
       "<matplotlib.figure.Figure at 0x7f4d61c5b978>"
      ]
     },
     "metadata": {},
     "output_type": "display_data"
    }
   ],
   "source": [
    "plt.scatter(X_train_2_df.mean(), X_train_2_df.std())\n",
    "plt.title('AWS DB madelon data sample 2')\n",
    "plt.xlabel('mean of the 1000 features')\n",
    "plt.ylabel('std of the 1000 features ')"
   ]
  },
  {
   "cell_type": "code",
   "execution_count": 25,
   "metadata": {},
   "outputs": [
    {
     "data": {
      "text/plain": [
       "<matplotlib.axes._subplots.AxesSubplot at 0x7f4d61b8a860>"
      ]
     },
     "execution_count": 25,
     "metadata": {},
     "output_type": "execute_result"
    },
    {
     "data": {
      "image/png": "[encoded data removed]",
      "text/plain": [
       "<matplotlib.figure.Figure at 0x7f4d61e597f0>"
      ]
     },
     "metadata": {},
     "output_type": "display_data"
    }
   ],
   "source": [
    "sns.distplot(X_train_2_df.mean(), axlabel='feature means dataset2')\n",
    "\n",
    "# The means of the features in dataset 2 seems to be pretty normally distributed."
   ]
  },
  {
   "cell_type": "code",
   "execution_count": 26,
   "metadata": {},
   "outputs": [
    {
     "data": {
      "text/plain": [
       "<matplotlib.text.Text at 0x7f4d6191aa90>"
      ]
     },
     "execution_count": 26,
     "metadata": {},
     "output_type": "execute_result"
    },
    {
     "data": {
      "image/png": "[encoded data removed]",
      "text/plain": [
       "<matplotlib.figure.Figure at 0x7f4d61b54b70>"
      ]
     },
     "metadata": {},
     "output_type": "display_data"
    }
   ],
   "source": [
    "plt.scatter(X_train_3_df.mean(), X_train_3_df.std())\n",
    "plt.title('AWS DB madelon data sample 3')\n",
    "plt.xlabel('mean of the 1000 features')\n",
    "plt.ylabel('std of the 1000 features ')"
   ]
  },
  {
   "cell_type": "code",
   "execution_count": 27,
   "metadata": {},
   "outputs": [
    {
     "data": {
      "text/plain": [
       "<matplotlib.axes._subplots.AxesSubplot at 0x7f4d6188f908>"
      ]
     },
     "execution_count": 27,
     "metadata": {},
     "output_type": "execute_result"
    },
    {
     "data": {
      "image/png": "[encoded data removed]",
      "text/plain": [
       "<matplotlib.figure.Figure at 0x7f4d61e59b00>"
      ]
     },
     "metadata": {},
     "output_type": "display_data"
    }
   ],
   "source": [
    "sns.distplot(X_train_3_df.mean(), axlabel='feature means dataset3')\n",
    "\n",
    "# The means of the features in dataset 3 seems to be pretty normally distributed."
   ]
  },
  {
   "cell_type": "code",
   "execution_count": 28,
   "metadata": {
    "collapsed": true
   },
   "outputs": [],
   "source": [
    "# Pickle the DataFrames for all the X and y data.\n",
    "# So I can use in other notebooks.\n",
    "\n",
    "# Write train data.\n",
    "X_train_1_df.to_pickle('../dataNB1_DB/X_train_1_df.p')\n",
    "X_train_2_df.to_pickle('../dataNB1_DB/X_train_2_df.p')\n",
    "X_train_3_df.to_pickle('../dataNB1_DB/X_train_3_df.p')\n",
    "\n",
    "pd.DataFrame(y_train_1).to_pickle('../dataNB1_DB/y_train_1.p')\n",
    "pd.DataFrame(y_train_2).to_pickle('../dataNB1_DB/y_train_2.p')\n",
    "pd.DataFrame(y_train_3).to_pickle('../dataNB1_DB/y_train_3.p')\n",
    "\n",
    "# Write validate data.\n",
    "X_validate_df.to_pickle('../dataNB1_DB/X_validate_df.p')\n",
    "pd.DataFrame(y_validate).to_pickle('../dataNB1_DB/y_validate.p')\n",
    "\n",
    "# Write test data.\n",
    "X_test_df.to_pickle('../dataNB1_DB/X_test_df.p')\n",
    "pd.DataFrame(y_test).to_pickle('../dataNB1_DB/y_test.p')\n"
   ]
  },
  {
   "cell_type": "code",
   "execution_count": null,
   "metadata": {
    "collapsed": true
   },
   "outputs": [],
   "source": [
    "#*************************** READ PICKLED DATA ***************************************"
   ]
  },
  {
   "cell_type": "code",
   "execution_count": null,
   "metadata": {
    "collapsed": true
   },
   "outputs": [],
   "source": [
    "# I will read in pickled X train/test and y train/test data. \n",
    "# I can remove before submitting.\n",
    "\n",
    "# X train data.\n",
    "X_train_1_df = pd.read_pickle('../dataNB1_DB/X_train_1_df.p')\n",
    "X_train_2_df = pd.read_pickle('../dataNB1_DB/X_train_2_df.p')\n",
    "X_train_3_df = pd.read_pickle('../dataNB1_DB/X_train_3_df.p')\n",
    "\n",
    "# X validate data.\n",
    "X_validate_df = pd.read_pickle('../dataNB1_DB/X_validate_df.p')\n",
    "\n",
    "# X test data.\n",
    "X_test_df = pd.read_pickle('../dataNB1_DB/X_test_df.p')\n",
    "\n",
    "\n",
    "# y train data.\n",
    "y_train_1_df = pd.read_pickle('../dataNB1_DB/y_train_1.p')\n",
    "y_train_2_df = pd.read_pickle('../dataNB1_DB/y_train_2.p')\n",
    "y_train_3_df = pd.read_pickle('../dataNB1_DB/y_train_3.p')\n",
    "\n",
    "# y needs to be an array of values.\n",
    "y_train_1 = np.array([val[0] for val in y_train_1_df.values])\n",
    "y_train_2 = np.array([val[0] for val in y_train_2_df.values])\n",
    "y_train_3 = np.array([val[0] for val in y_train_3_df.values])\n",
    "\n",
    "# y validate data.\n",
    "y_validate_df = pd.read_pickle('../dataNB1_DB/y_validate.p')\n",
    "y_validate = np.array([val[0] for val in y_validate_df.values])\n",
    "\n",
    "# y test data.\n",
    "y_test_df = pd.read_pickle('../dataNB1_DB/y_test.p')\n",
    "y_test = np.array([val[0] for val in y_test_df.values])\n"
   ]
  },
  {
   "cell_type": "code",
   "execution_count": 29,
   "metadata": {
    "collapsed": true
   },
   "outputs": [],
   "source": [
    "# Make a list of our X and y train data subsets."
   ]
  },
  {
   "cell_type": "code",
   "execution_count": 30,
   "metadata": {
    "collapsed": true
   },
   "outputs": [],
   "source": [
    "X_train_lst = [X_train_1_df, X_train_2_df, X_train_2_df]\n",
    "y_train_lst = [y_train_1, y_train_2, y_train_3]"
   ]
  },
  {
   "cell_type": "code",
   "execution_count": 31,
   "metadata": {
    "collapsed": true
   },
   "outputs": [],
   "source": [
    "# Log output\n",
    "def log_output(dataset_name, model_name, raw_output, sc_output):\n",
    "    entry = {                \n",
    "                'dataset'           :  dataset_name,\n",
    "                'model'             :  model_name,\n",
    "                'raw_tr_acc_score'  :  raw_output['train_score'],\n",
    "                'raw_tst_acc_score' :  raw_output['test_score'],\n",
    "                'sc_tr_acc_score'   :  sc_output['train_score'],\n",
    "                'sc_tst_acc_score'  :  sc_output['test_score'],\n",
    "                'raw_recall'        :  raw_output['recall'],\n",
    "                'raw_precision'     :  raw_output['precision'],\n",
    "                'sc_recall'         :  sc_output['recall'],\n",
    "                'sc_precision'      :  sc_output['precision']\n",
    "            }\n",
    "    return(entry)"
   ]
  },
  {
   "cell_type": "code",
   "execution_count": 32,
   "metadata": {
    "collapsed": true
   },
   "outputs": [],
   "source": [
    "def fit_and_score_pipeline(pipe, Xtrain, Xtest, ytrain, ytest, target_names):\n",
    "    \n",
    "    # Fit and score Logistic Regression raw pipeline.\n",
    "    pipe.fit(Xtrain, ytrain) \n",
    "    \n",
    "    # Mean accuracy score is returned.\n",
    "    train_score = pipe.score(Xtrain,ytrain)\n",
    "    test_score = pipe.score(Xtest,ytest)  \n",
    "    y_pred = pipe.predict(Xtest)\n",
    "\n",
    "    # Calculate precision and recall.   \n",
    "    recall = recall_score(ytest, y_pred)\n",
    "    precision = precision_score(ytest, y_pred)\n",
    "  \n",
    "    output = {'train_score':train_score, \n",
    "              'test_score':test_score, \n",
    "              'recall':recall, \n",
    "              'precision':precision}\n",
    "    \n",
    "    #classification reports. \n",
    "    class_report_str = classification_report(ytest, y_pred, target_names=target_names)\n",
    "    \n",
    "    #confusion matrix.\n",
    "    conf_matrix_raw = confusion_matrix(ytest, y_pred)\n",
    "  \n",
    "    return(output, class_report_str, conf_matrix_raw)\n"
   ]
  },
  {
   "cell_type": "code",
   "execution_count": 33,
   "metadata": {
    "collapsed": true
   },
   "outputs": [],
   "source": [
    "# Save mean accuracy scores, classification reports and confusion matrix.\n",
    "model_results = []\n",
    "confusion_mtx = {}\n",
    "classification_rep = {}\n",
    "target_names=['class 0', 'class 1']"
   ]
  },
  {
   "cell_type": "code",
   "execution_count": 34,
   "metadata": {},
   "outputs": [
    {
     "name": "stderr",
     "output_type": "stream",
     "text": [
      "100%|██████████| 3/3 [05:37<00:00, 112.42s/it]\n"
     ]
    }
   ],
   "source": [
    "# Benchmark. Use high C=1e10 for logistic regression and support\n",
    "# vector classifier, so there is no regularization. \n",
    "# KNeighbors default is k=5.\n",
    "\n",
    "# Fit naive models to benchmark the 3 data subsets.\n",
    "for tst_set in tqdm(range(3)):\n",
    "\n",
    "    # Split the data.\n",
    "    Xtrain, Xtest, ytrain, ytest = train_test_split(X_train_lst[tst_set], \n",
    "                                                    y_train_lst[tst_set], \n",
    "                                                    test_size=0.33)\n",
    "                              \n",
    "    # Logistic Regression pipes.\n",
    "    LR_naive_raw_pipe  =  make_pipeline(LogisticRegression(C=1e10, random_state=42))\n",
    "    LR_naive_scaled_pipe = make_pipeline(StandardScaler(), \n",
    "                                         LogisticRegression(C=1e10, random_state=42))\n",
    "    \n",
    "    # fit and score pipeline with raw and scaled data. Results are stored in a dict.\n",
    "    raw_output, cl_report_str, conf_mtx = fit_and_score_pipeline(LR_naive_raw_pipe, \n",
    "                                                                 Xtrain, Xtest,     \n",
    "                                                                 ytrain, ytest,\n",
    "                                                                 target_names=target_names)\n",
    "\n",
    "    # Save classification report and confusion matrix, raw data.\n",
    "    key = 'LR_raw_report'+str(tst_set+1)\n",
    "    classification_rep[key] = cl_report_str\n",
    "    key = 'LR_raw_conf_mtx'+str(tst_set+1)\n",
    "    confusion_mtx[key] = conf_mtx\n",
    "                                           \n",
    "    sc_output, cl_report_str, conf_mtx = fit_and_score_pipeline(LR_naive_scaled_pipe, \n",
    "                                                                Xtrain, Xtest, \n",
    "                                                                ytrain, ytest,\n",
    "                                                                target_names=target_names)\n",
    "       \n",
    "    # Save classification report and confusion matrix, scaled data.\n",
    "    key = 'LR_scaled_report'+str(tst_set+1)\n",
    "    classification_rep[] = cl_report_str[key]\n",
    "    key = 'LR_scaled_conf_mtx'+str(tst_set+1)\n",
    "    confusion_mtx[] = conf_mtx[key]\n",
    "    \n",
    "    # Output results\n",
    "    entry    = log_output(dataset_name = 'Data_Set_'+str(tst_set+1), \n",
    "                          model_name   = 'LogisticRegression', \n",
    "                          raw_output   = raw_output,\n",
    "                          sc_output    = sc_output)\n",
    "\n",
    "    model_results.append(entry)\n",
    "    \n",
    "    #*******************************************************************************\n",
    "    \n",
    "    # SVC pipes.\n",
    "    SVC_naive_raw_pipe =  make_pipeline(SVC(C=1e10, random_state=42))                                  \n",
    "    SVC_naive_scaled_pipe = make_pipeline(StandardScaler(), \n",
    "                                          SVC(C=1e10, random_state=42))                                  \n",
    "\n",
    "        \n",
    "    # fit and score pipeline with raw and scaled data. Results are stored in a dict.\n",
    "    raw_output, cl_report_str, conf_mtx = fit_and_score_pipeline(SVC_naive_raw_pipe, \n",
    "                                                                 Xtrain, Xtest,     \n",
    "                                                                 ytrain, ytest,\n",
    "                                                                 target_names=target_names)\n",
    "\n",
    "    # Save classification report and confusion matrix, raw data.\n",
    "    key = 'SVC_raw_report'+str(tst_set+1)\n",
    "    classification_rep[] = cl_report_str\n",
    "    key = 'SVC_raw_conf_mtx'+str(tst_set+1)\n",
    "    confusion_mtx[key] = conf_mtx\n",
    "                                           \n",
    "    sc_output, cl_report_str, conf_mtx = fit_and_score_pipeline(SVC_naive_scaled_pipe, \n",
    "                                                                Xtrain, Xtest, \n",
    "                                                                ytrain, ytest,\n",
    "                                                                target_names=target_names)\n",
    "       \n",
    "    # Save classification report and confusion matrix, scaled data.\n",
    "    key = 'SVC_scaled_report'+str(tst_set+1)\n",
    "    classification_rep[key] = cl_report_str\n",
    "    key = 'SVC_scaled_conf_mtx'+str(tst_set+1)\n",
    "    confusion_mtx[key] = conf_mtx       \n",
    "    \n",
    "    # Output results\n",
    "    entry = log_output(dataset_name = 'Data_Set_'+str(tst_set+1), \n",
    "                       model_name   = 'SVC', \n",
    "                       raw_output   = raw_output,\n",
    "                       sc_output    = sc_output)\n",
    "\n",
    "    model_results.append(entry)    \n",
    "\n",
    "    #*******************************************************************************\n",
    "\n",
    "    # Decision Tree pipes.\n",
    "    DT_naive_raw_pipe  =  make_pipeline(DecisionTreeClassifier(random_state=42))\n",
    "    DT_naive_scaled_pipe = make_pipeline(StandardScaler(), \n",
    "                                         DecisionTreeClassifier(random_state=42))\n",
    "\n",
    "    # fit and score pipeline with raw and scaled data. Results are stored in a dict.\n",
    "    raw_output, cl_report_str, conf_mtx = fit_and_score_pipeline(DT_naive_raw_pipe, \n",
    "                                                                 Xtrain, Xtest,     \n",
    "                                                                 ytrain, ytest,\n",
    "                                                                 target_names=target_names)\n",
    "\n",
    "    # Save classification report and confusion matrix, raw data.\n",
    "    key = 'DT_raw_report'+str(tst_set+1)\n",
    "    classification_rep[key] = cl_report_str\n",
    "    key = 'DT_raw_conf_mtx'+str(tst_set+1)\n",
    "    confusion_mtx[key] = conf_mtx\n",
    "                                           \n",
    "    sc_output, cl_report_str, conf_mtx = fit_and_score_pipeline(DT_naive_scaled_pipe, \n",
    "                                                                Xtrain, Xtest, \n",
    "                                                                ytrain, ytest,\n",
    "                                                                target_names=target_names)\n",
    "       \n",
    "    # Save classification report and confusion matrix, scaled data.\n",
    "    key = 'DT_scaled_report'+str(tst_set+1)\n",
    "    classification_rep[key] = cl_report_str\n",
    "    key = 'DT_scaled_conf_mtx'+str(tst_set+1)\n",
    "    confusion_mtx[key] = conf_mtx   \n",
    "    \n",
    "    # Output results\n",
    "    entry = log_output(dataset_name = 'Data_Set_'+str(tst_set+1), \n",
    "                       model_name   = 'DecisionTree', \n",
    "                       raw_output   = raw_output,\n",
    "                       sc_output    = sc_output)\n",
    "\n",
    "    model_results.append(entry)\n",
    "  \n",
    "    #*******************************************************************************\n",
    "   \n",
    "    # KNN pipes.\n",
    "    KNN_naive_raw_pipe =  make_pipeline(KNeighborsClassifier())\n",
    "    KNN_naive_scaled_pipe = make_pipeline(StandardScaler(), \n",
    "                                          KNeighborsClassifier())                                   \n",
    "\n",
    "    # fit and score pipeline with raw and scaled data. Results are stored in a dict.\n",
    "    raw_output, cl_report_str, conf_mtx = fit_and_score_pipeline(KNN_naive_raw_pipe, \n",
    "                                                                 Xtrain, Xtest,     \n",
    "                                                                 ytrain, ytest,\n",
    "                                                                 target_names=target_names)\n",
    "\n",
    "    # Save classification report and confusion matrix, raw data.\n",
    "    key = 'KNN_raw_report'+str(tst_set+1)\n",
    "    classification_rep[key] = cl_report_str\n",
    "    key = 'KNN_raw_conf_mtx'+str(tst_set+1)\n",
    "    confusion_mtx[key] = conf_mtx\n",
    "                                           \n",
    "    sc_output, cl_report_str, conf_mtx = fit_and_score_pipeline(KNN_naive_scaled_pipe, \n",
    "                                                                Xtrain, Xtest, \n",
    "                                                                ytrain, ytest,\n",
    "                                                                target_names=target_names)\n",
    "       \n",
    "    # Save classification report and confusion matrix, scaled data.\n",
    "    key = 'KNN_scaled_report'+str(tst_set+1)\n",
    "    classification_rep[key] = cl_report_str\n",
    "    key = 'KNN_scaled_conf_mtx'+str(tst_set+1)\n",
    "    confusion_mtx[key] = conf_mtx   \n",
    "    \n",
    "    # Output results.\n",
    "    entry = log_output(dataset_name = 'Data_Set_'+str(tst_set+1), \n",
    "                       model_name   = 'KNN', \n",
    "                       raw_output   = raw_output,\n",
    "                       sc_output    = sc_output)\n",
    "    \n",
    "    model_results.append(entry)\n",
    "        "
   ]
  },
  {
   "cell_type": "code",
   "execution_count": 36,
   "metadata": {},
   "outputs": [
    {
     "data": {
      "text/html": [
       "<div>\n",
       "<table border=\"1\" class=\"dataframe\">\n",
       "  <thead>\n",
       "    <tr style=\"text-align: right;\">\n",
       "      <th></th>\n",
       "      <th>dataset</th>\n",
       "      <th>model</th>\n",
       "      <th>raw_tr_acc_score</th>\n",
       "      <th>raw_tst_acc_score</th>\n",
       "      <th>raw_precision</th>\n",
       "      <th>raw_recall</th>\n",
       "      <th>sc_tr_acc_score</th>\n",
       "      <th>sc_tst_acc_score</th>\n",
       "      <th>sc_precision</th>\n",
       "      <th>sc_recall</th>\n",
       "    </tr>\n",
       "  </thead>\n",
       "  <tbody>\n",
       "    <tr>\n",
       "      <th>0</th>\n",
       "      <td>Test_Set_1</td>\n",
       "      <td>LogisticRegression</td>\n",
       "      <td>0.801866</td>\n",
       "      <td>0.543182</td>\n",
       "      <td>0.537984</td>\n",
       "      <td>0.532209</td>\n",
       "      <td>0.801866</td>\n",
       "      <td>0.543182</td>\n",
       "      <td>0.537984</td>\n",
       "      <td>0.532209</td>\n",
       "    </tr>\n",
       "    <tr>\n",
       "      <th>1</th>\n",
       "      <td>Test_Set_1</td>\n",
       "      <td>SVC</td>\n",
       "      <td>1.000000</td>\n",
       "      <td>0.623485</td>\n",
       "      <td>0.614815</td>\n",
       "      <td>0.636503</td>\n",
       "      <td>1.000000</td>\n",
       "      <td>0.579545</td>\n",
       "      <td>0.573374</td>\n",
       "      <td>0.581288</td>\n",
       "    </tr>\n",
       "    <tr>\n",
       "      <th>2</th>\n",
       "      <td>Test_Set_1</td>\n",
       "      <td>DecisionTree</td>\n",
       "      <td>1.000000</td>\n",
       "      <td>0.595455</td>\n",
       "      <td>0.592187</td>\n",
       "      <td>0.581288</td>\n",
       "      <td>1.000000</td>\n",
       "      <td>0.595455</td>\n",
       "      <td>0.592187</td>\n",
       "      <td>0.581288</td>\n",
       "    </tr>\n",
       "    <tr>\n",
       "      <th>3</th>\n",
       "      <td>Test_Set_1</td>\n",
       "      <td>KNN</td>\n",
       "      <td>0.754104</td>\n",
       "      <td>0.599242</td>\n",
       "      <td>0.584131</td>\n",
       "      <td>0.654908</td>\n",
       "      <td>0.718284</td>\n",
       "      <td>0.517424</td>\n",
       "      <td>0.510067</td>\n",
       "      <td>0.582822</td>\n",
       "    </tr>\n",
       "    <tr>\n",
       "      <th>4</th>\n",
       "      <td>Test_Set_2</td>\n",
       "      <td>LogisticRegression</td>\n",
       "      <td>0.803731</td>\n",
       "      <td>0.538636</td>\n",
       "      <td>0.570533</td>\n",
       "      <td>0.520744</td>\n",
       "      <td>0.803731</td>\n",
       "      <td>0.538636</td>\n",
       "      <td>0.570533</td>\n",
       "      <td>0.520744</td>\n",
       "    </tr>\n",
       "    <tr>\n",
       "      <th>5</th>\n",
       "      <td>Test_Set_2</td>\n",
       "      <td>SVC</td>\n",
       "      <td>1.000000</td>\n",
       "      <td>0.621970</td>\n",
       "      <td>0.648810</td>\n",
       "      <td>0.623748</td>\n",
       "      <td>1.000000</td>\n",
       "      <td>0.582576</td>\n",
       "      <td>0.615265</td>\n",
       "      <td>0.565093</td>\n",
       "    </tr>\n",
       "    <tr>\n",
       "      <th>6</th>\n",
       "      <td>Test_Set_2</td>\n",
       "      <td>DecisionTree</td>\n",
       "      <td>1.000000</td>\n",
       "      <td>0.628030</td>\n",
       "      <td>0.647727</td>\n",
       "      <td>0.652361</td>\n",
       "      <td>1.000000</td>\n",
       "      <td>0.628030</td>\n",
       "      <td>0.647727</td>\n",
       "      <td>0.652361</td>\n",
       "    </tr>\n",
       "    <tr>\n",
       "      <th>7</th>\n",
       "      <td>Test_Set_2</td>\n",
       "      <td>KNN</td>\n",
       "      <td>0.760448</td>\n",
       "      <td>0.593182</td>\n",
       "      <td>0.616379</td>\n",
       "      <td>0.613734</td>\n",
       "      <td>0.717910</td>\n",
       "      <td>0.563636</td>\n",
       "      <td>0.586742</td>\n",
       "      <td>0.595136</td>\n",
       "    </tr>\n",
       "    <tr>\n",
       "      <th>8</th>\n",
       "      <td>Test_Set_3</td>\n",
       "      <td>LogisticRegression</td>\n",
       "      <td>0.795149</td>\n",
       "      <td>0.496970</td>\n",
       "      <td>0.519461</td>\n",
       "      <td>0.502899</td>\n",
       "      <td>0.795149</td>\n",
       "      <td>0.496970</td>\n",
       "      <td>0.519461</td>\n",
       "      <td>0.502899</td>\n",
       "    </tr>\n",
       "    <tr>\n",
       "      <th>9</th>\n",
       "      <td>Test_Set_3</td>\n",
       "      <td>SVC</td>\n",
       "      <td>0.998134</td>\n",
       "      <td>0.504545</td>\n",
       "      <td>0.527864</td>\n",
       "      <td>0.494203</td>\n",
       "      <td>0.998134</td>\n",
       "      <td>0.500758</td>\n",
       "      <td>0.524181</td>\n",
       "      <td>0.486957</td>\n",
       "    </tr>\n",
       "    <tr>\n",
       "      <th>10</th>\n",
       "      <td>Test_Set_3</td>\n",
       "      <td>DecisionTree</td>\n",
       "      <td>0.998134</td>\n",
       "      <td>0.492424</td>\n",
       "      <td>0.514881</td>\n",
       "      <td>0.501449</td>\n",
       "      <td>0.998134</td>\n",
       "      <td>0.492424</td>\n",
       "      <td>0.514881</td>\n",
       "      <td>0.501449</td>\n",
       "    </tr>\n",
       "    <tr>\n",
       "      <th>11</th>\n",
       "      <td>Test_Set_3</td>\n",
       "      <td>KNN</td>\n",
       "      <td>0.684328</td>\n",
       "      <td>0.500758</td>\n",
       "      <td>0.524181</td>\n",
       "      <td>0.486957</td>\n",
       "      <td>0.694030</td>\n",
       "      <td>0.525000</td>\n",
       "      <td>0.548686</td>\n",
       "      <td>0.514493</td>\n",
       "    </tr>\n",
       "  </tbody>\n",
       "</table>\n",
       "</div>"
      ],
      "text/plain": [
       "       dataset               model  raw_tr_acc_score  raw_tst_acc_score  \\\n",
       "0   Test_Set_1  LogisticRegression          0.801866           0.543182   \n",
       "1   Test_Set_1                 SVC          1.000000           0.623485   \n",
       "2   Test_Set_1        DecisionTree          1.000000           0.595455   \n",
       "3   Test_Set_1                 KNN          0.754104           0.599242   \n",
       "4   Test_Set_2  LogisticRegression          0.803731           0.538636   \n",
       "5   Test_Set_2                 SVC          1.000000           0.621970   \n",
       "6   Test_Set_2        DecisionTree          1.000000           0.628030   \n",
       "7   Test_Set_2                 KNN          0.760448           0.593182   \n",
       "8   Test_Set_3  LogisticRegression          0.795149           0.496970   \n",
       "9   Test_Set_3                 SVC          0.998134           0.504545   \n",
       "10  Test_Set_3        DecisionTree          0.998134           0.492424   \n",
       "11  Test_Set_3                 KNN          0.684328           0.500758   \n",
       "\n",
       "    raw_precision  raw_recall  sc_tr_acc_score  sc_tst_acc_score  \\\n",
       "0        0.537984    0.532209         0.801866          0.543182   \n",
       "1        0.614815    0.636503         1.000000          0.579545   \n",
       "2        0.592187    0.581288         1.000000          0.595455   \n",
       "3        0.584131    0.654908         0.718284          0.517424   \n",
       "4        0.570533    0.520744         0.803731          0.538636   \n",
       "5        0.648810    0.623748         1.000000          0.582576   \n",
       "6        0.647727    0.652361         1.000000          0.628030   \n",
       "7        0.616379    0.613734         0.717910          0.563636   \n",
       "8        0.519461    0.502899         0.795149          0.496970   \n",
       "9        0.527864    0.494203         0.998134          0.500758   \n",
       "10       0.514881    0.501449         0.998134          0.492424   \n",
       "11       0.524181    0.486957         0.694030          0.525000   \n",
       "\n",
       "    sc_precision  sc_recall  \n",
       "0       0.537984   0.532209  \n",
       "1       0.573374   0.581288  \n",
       "2       0.592187   0.581288  \n",
       "3       0.510067   0.582822  \n",
       "4       0.570533   0.520744  \n",
       "5       0.615265   0.565093  \n",
       "6       0.647727   0.652361  \n",
       "7       0.586742   0.595136  \n",
       "8       0.519461   0.502899  \n",
       "9       0.524181   0.486957  \n",
       "10      0.514881   0.501449  \n",
       "11      0.548686   0.514493  "
      ]
     },
     "execution_count": 36,
     "metadata": {},
     "output_type": "execute_result"
    }
   ],
   "source": [
    "# Put all results in a dataframe.\n",
    "model_results_df = pd.DataFrame(model_results)\n",
    "model_results_df = model_results_df[['dataset', 'model', 'raw_tr_acc_score', \\\n",
    "                                     'raw_tst_acc_score', 'raw_precision', 'raw_recall', \\\n",
    "                                     'sc_tr_acc_score', 'sc_tst_acc_score', 'sc_precision', \\\n",
    "                                     'sc_recall']]\n",
    "model_results_df"
   ]
  },
  {
   "cell_type": "code",
   "execution_count": 38,
   "metadata": {},
   "outputs": [
    {
     "name": "stdout",
     "output_type": "stream",
     "text": [
      "*****LR_raw_report Classification Report ***** \n",
      "\n",
      "              precision    recall  f1-score   support\n",
      "\n",
      "    class 0       0.47      0.49      0.48       630\n",
      "    class 1       0.52      0.50      0.51       690\n",
      "\n",
      "avg / total       0.50      0.50      0.50      1320\n",
      " \n",
      "\n",
      "*****LR_scaled_report Classification Report ***** \n",
      "\n",
      "              precision    recall  f1-score   support\n",
      "\n",
      "    class 0       0.47      0.49      0.48       630\n",
      "    class 1       0.52      0.50      0.51       690\n",
      "\n",
      "avg / total       0.50      0.50      0.50      1320\n",
      " \n",
      "\n",
      "*****SVC_raw_report Classification Report ***** \n",
      "\n",
      "              precision    recall  f1-score   support\n",
      "\n",
      "    class 0       0.48      0.52      0.50       630\n",
      "    class 1       0.53      0.49      0.51       690\n",
      "\n",
      "avg / total       0.51      0.50      0.50      1320\n",
      " \n",
      "\n",
      "*****SVC_scaled_report Classification Report ***** \n",
      "\n",
      "              precision    recall  f1-score   support\n",
      "\n",
      "    class 0       0.48      0.52      0.50       630\n",
      "    class 1       0.52      0.49      0.50       690\n",
      "\n",
      "avg / total       0.50      0.50      0.50      1320\n",
      " \n",
      "\n",
      "*****DT_raw_report Classification Report ***** \n",
      "\n",
      "              precision    recall  f1-score   support\n",
      "\n",
      "    class 0       0.47      0.48      0.48       630\n",
      "    class 1       0.51      0.50      0.51       690\n",
      "\n",
      "avg / total       0.49      0.49      0.49      1320\n",
      " \n",
      "\n",
      "*****DT_scaled_report Classification Report ***** \n",
      "\n",
      "              precision    recall  f1-score   support\n",
      "\n",
      "    class 0       0.47      0.48      0.48       630\n",
      "    class 1       0.51      0.50      0.51       690\n",
      "\n",
      "avg / total       0.49      0.49      0.49      1320\n",
      " \n",
      "\n",
      "*****KNN_raw_report Classification Report ***** \n",
      "\n",
      "              precision    recall  f1-score   support\n",
      "\n",
      "    class 0       0.48      0.52      0.50       630\n",
      "    class 1       0.52      0.49      0.50       690\n",
      "\n",
      "avg / total       0.50      0.50      0.50      1320\n",
      " \n",
      "\n",
      "*****KNN_scaled_report Classification Report ***** \n",
      "\n",
      "              precision    recall  f1-score   support\n",
      "\n",
      "    class 0       0.50      0.54      0.52       630\n",
      "    class 1       0.55      0.51      0.53       690\n",
      "\n",
      "avg / total       0.53      0.53      0.53      1320\n",
      " \n",
      "\n"
     ]
    }
   ],
   "source": [
    "# Display classification reports.\n",
    "for k,v in classification_rep.items():\n",
    "    print('*****' + k + ' Classification Report *****', '\\n\\n', v, '\\n')"
   ]
  },
  {
   "cell_type": "code",
   "execution_count": null,
   "metadata": {
    "collapsed": true
   },
   "outputs": [],
   "source": []
  }
 ],
 "metadata": {
  "kernelspec": {
   "display_name": "Python 3",
   "language": "python",
   "name": "python3"
  },
  "language_info": {
   "codemirror_mode": {
    "name": "ipython",
    "version": 3
   },
   "file_extension": ".py",
   "mimetype": "text/x-python",
   "name": "python",
   "nbconvert_exporter": "python",
   "pygments_lexer": "ipython3",
   "version": "3.6.2"
  }
 },
 "nbformat": 4,
 "nbformat_minor": 2
}
