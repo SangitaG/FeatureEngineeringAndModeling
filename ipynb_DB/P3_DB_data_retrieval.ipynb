{
 "cells": [
  {
   "cell_type": "code",
   "execution_count": null,
   "metadata": {
    "collapsed": true
   },
   "outputs": [],
   "source": [
    "#!conda install psycopg2 --yes"
   ]
  },
  {
   "cell_type": "code",
   "execution_count": 1,
   "metadata": {
    "collapsed": true
   },
   "outputs": [],
   "source": [
    "import psycopg2 as pg2\n",
    "from psycopg2.extras import RealDictCursor\n",
    "import pandas as pd\n",
    "import numpy as np\n",
    "import seaborn as sns\n",
    "%matplotlib inline"
   ]
  },
  {
   "cell_type": "markdown",
   "metadata": {},
   "source": [
    "Write a function to connect to the database.\n",
    "Make sure to close your connections. This is a best practice, but remember the more connections left hanging, the less memory the server will have. You are all sharing this server!"
   ]
  },
  {
   "cell_type": "code",
   "execution_count": 2,
   "metadata": {
    "collapsed": true
   },
   "outputs": [],
   "source": [
    "class DataBaseCommunication(object):\n",
    "   \n",
    "    # Initializing object.\n",
    "    def __init__(self, host, dbname, user):\n",
    "       \n",
    "        self.host = host\n",
    "        self.dbname = dbname\n",
    "        self.user = user\n",
    "        self.connected = False\n",
    "       \n",
    "    def connect(self):\n",
    "        # Create a connection to a server\n",
    "        self.con = pg2.connect(host = self.host,\n",
    "                              dbname = self.dbname,\n",
    "                              user = self.user)\n",
    "\n",
    "        # Using a RealDictCursor as a means to do things over the\n",
    "        # connection.\n",
    "        self.cur = self.con.cursor(cursor_factory=RealDictCursor)\n",
    "       \n",
    "        self.connected = True\n",
    "       \n",
    "        return(\"Database connected\")\n",
    "       \n",
    "    def execute(self, command_str, pdDataFrame = False):\n",
    "        # Check if our class has connected, if not assert.\n",
    "        assert self.connected, \"Have not connected to the database!\"\n",
    "           \n",
    "        self.cur.execute(command_str)\n",
    "        results = self.cur.fetchall()\n",
    "       \n",
    "        # If res_pdDataFrame = True, return results a pandas dataframe.\n",
    "        if (pdDataFrame):\n",
    "            return(pd.DataFrame(results))\n",
    "        else:\n",
    "            return(results)\n",
    "   \n",
    "    def close(self):\n",
    "        if (self.connected):\n",
    "           \n",
    "            self.con.close()\n",
    "            self.connected = False          \n",
    "            return(\"Database closed\")\n",
    "       \n",
    "        else:\n",
    "            return(\"Database not connected\")"
   ]
  },
  {
   "cell_type": "code",
   "execution_count": 3,
   "metadata": {
    "collapsed": true
   },
   "outputs": [],
   "source": [
    "# Connect to a database to retrieve data."
   ]
  },
  {
   "cell_type": "code",
   "execution_count": 4,
   "metadata": {
    "collapsed": true
   },
   "outputs": [],
   "source": [
    "# Open connection.\n",
    "db = DataBaseCommunication(host = '34.211.227.227',\n",
    "                           dbname = 'postgres',\n",
    "                           user = 'postgres')"
   ]
  },
  {
   "cell_type": "code",
   "execution_count": 5,
   "metadata": {},
   "outputs": [
    {
     "data": {
      "text/plain": [
       "'Database connected'"
      ]
     },
     "execution_count": 5,
     "metadata": {},
     "output_type": "execute_result"
    }
   ],
   "source": [
    "# Connect.\n",
    "db.connect()"
   ]
  },
  {
   "cell_type": "code",
   "execution_count": 6,
   "metadata": {},
   "outputs": [
    {
     "data": {
      "text/plain": [
       "[{'count': 200000}]"
      ]
     },
     "execution_count": 6,
     "metadata": {},
     "output_type": "execute_result"
    }
   ],
   "source": [
    "# Retrieve data.\n",
    "sql = '''\n",
    "SELECT COUNT(*) \n",
    "FROM madelon\n",
    "'''\n",
    "result = db.execute(sql)\n",
    "result"
   ]
  },
  {
   "cell_type": "code",
   "execution_count": 7,
   "metadata": {},
   "outputs": [
    {
     "data": {
      "text/plain": [
       "[{'count': 1002}]"
      ]
     },
     "execution_count": 7,
     "metadata": {},
     "output_type": "execute_result"
    }
   ],
   "source": [
    "# Retrieve data.\n",
    "sql = '''\n",
    "SELECT COUNT(*)\n",
    "FROM INFORMATION_SCHEMA.COLUMNS\n",
    "WHERE table_name = 'madelon'\n",
    "'''\n",
    "result = db.execute(sql)\n",
    "result"
   ]
  },
  {
   "cell_type": "code",
   "execution_count": null,
   "metadata": {
    "collapsed": true
   },
   "outputs": [],
   "source": [
    "# Retrieve datasets in chunks of 3000 rows. Offset by 3000 to get unique rows of data.\n",
    "sql = '''\n",
    "SELECT *\n",
    "FROM madelon\n",
    "ORDER BY random()\n",
    "OFFSET 0\n",
    "LIMIT 3000\n",
    "'''\n",
    "df = db.execute(sql, pdDataFrame = True)\n",
    "# Pickle the data as I get it.\n",
    "df.to_pickle('../MadelonDBData/df3000_1.p')"
   ]
  },
  {
   "cell_type": "code",
   "execution_count": null,
   "metadata": {
    "collapsed": true
   },
   "outputs": [],
   "source": [
    "# Retrieve datasets in chunks of 3000 rows. Offset by 3000 to get unique rows of data.\n",
    "sql = '''\n",
    "SELECT *\n",
    "FROM madelon\n",
    "ORDER BY random()\n",
    "OFFSET 3001\n",
    "LIMIT 3000\n",
    "'''\n",
    "df = db.execute(sql, pdDataFrame = True)\n",
    "# Pickle the data as I get it.\n",
    "df.to_pickle('../MadelonDBData/df3000_2.p')"
   ]
  },
  {
   "cell_type": "code",
   "execution_count": null,
   "metadata": {
    "collapsed": true
   },
   "outputs": [],
   "source": [
    "# Retrieve datasets in chunks of 3000 rows. Offset by 3000 to get unique rows of data.\n",
    "sql = '''\n",
    "SELECT *\n",
    "FROM madelon\n",
    "ORDER BY random()\n",
    "OFFSET 6001\n",
    "LIMIT 3000\n",
    "'''\n",
    "df = db.execute(sql, pdDataFrame = True)\n",
    "# Pickle the data as I get it.\n",
    "df.to_pickle('../MadelonDBData/df3000_3.p')"
   ]
  },
  {
   "cell_type": "code",
   "execution_count": null,
   "metadata": {
    "collapsed": true
   },
   "outputs": [],
   "source": [
    "# Retrieve datasets in chunks of 3000 rows. Offset by 3000 to get unique rows of data.\n",
    "sql = '''\n",
    "SELECT *\n",
    "FROM madelon\n",
    "ORDER BY random()\n",
    "OFFSET 9001\n",
    "LIMIT 3000\n",
    "'''\n",
    "df = db.execute(sql, pdDataFrame = True)\n",
    "# Pickle the data as I get it.\n",
    "df.to_pickle('../MadelonDBData/df3000_4.p')"
   ]
  },
  {
   "cell_type": "code",
   "execution_count": 26,
   "metadata": {},
   "outputs": [
    {
     "data": {
      "text/html": [
       "<div>\n",
       "<table border=\"1\" class=\"dataframe\">\n",
       "  <thead>\n",
       "    <tr style=\"text-align: right;\">\n",
       "      <th></th>\n",
       "      <th>_id</th>\n",
       "      <th>feat_000</th>\n",
       "      <th>feat_001</th>\n",
       "      <th>feat_002</th>\n",
       "      <th>feat_003</th>\n",
       "      <th>feat_004</th>\n",
       "      <th>feat_005</th>\n",
       "      <th>feat_006</th>\n",
       "      <th>feat_007</th>\n",
       "      <th>feat_008</th>\n",
       "      <th>...</th>\n",
       "      <th>feat_991</th>\n",
       "      <th>feat_992</th>\n",
       "      <th>feat_993</th>\n",
       "      <th>feat_994</th>\n",
       "      <th>feat_995</th>\n",
       "      <th>feat_996</th>\n",
       "      <th>feat_997</th>\n",
       "      <th>feat_998</th>\n",
       "      <th>feat_999</th>\n",
       "      <th>target</th>\n",
       "    </tr>\n",
       "  </thead>\n",
       "  <tbody>\n",
       "    <tr>\n",
       "      <th>0</th>\n",
       "      <td>99076</td>\n",
       "      <td>-0.680963</td>\n",
       "      <td>0.781023</td>\n",
       "      <td>-2.928894</td>\n",
       "      <td>-1.220431</td>\n",
       "      <td>0.331080</td>\n",
       "      <td>-0.008883</td>\n",
       "      <td>0.772567</td>\n",
       "      <td>-0.109983</td>\n",
       "      <td>-0.813973</td>\n",
       "      <td>...</td>\n",
       "      <td>0.310181</td>\n",
       "      <td>-1.224689</td>\n",
       "      <td>0.566445</td>\n",
       "      <td>-0.820767</td>\n",
       "      <td>-0.749266</td>\n",
       "      <td>1.049864</td>\n",
       "      <td>-0.757293</td>\n",
       "      <td>-1.756745</td>\n",
       "      <td>0.084222</td>\n",
       "      <td>1</td>\n",
       "    </tr>\n",
       "    <tr>\n",
       "      <th>1</th>\n",
       "      <td>29813</td>\n",
       "      <td>-1.582677</td>\n",
       "      <td>-1.203802</td>\n",
       "      <td>-1.459738</td>\n",
       "      <td>-0.424029</td>\n",
       "      <td>-0.079318</td>\n",
       "      <td>0.357695</td>\n",
       "      <td>0.840665</td>\n",
       "      <td>1.337775</td>\n",
       "      <td>-1.945062</td>\n",
       "      <td>...</td>\n",
       "      <td>2.423974</td>\n",
       "      <td>0.693843</td>\n",
       "      <td>0.186011</td>\n",
       "      <td>0.307245</td>\n",
       "      <td>-0.054781</td>\n",
       "      <td>-0.872673</td>\n",
       "      <td>-0.249878</td>\n",
       "      <td>-0.737719</td>\n",
       "      <td>-0.155513</td>\n",
       "      <td>1</td>\n",
       "    </tr>\n",
       "    <tr>\n",
       "      <th>2</th>\n",
       "      <td>21770</td>\n",
       "      <td>-0.565946</td>\n",
       "      <td>1.154471</td>\n",
       "      <td>-1.042816</td>\n",
       "      <td>0.087441</td>\n",
       "      <td>0.227700</td>\n",
       "      <td>0.443144</td>\n",
       "      <td>0.006693</td>\n",
       "      <td>1.197519</td>\n",
       "      <td>-0.372018</td>\n",
       "      <td>...</td>\n",
       "      <td>0.278993</td>\n",
       "      <td>0.670340</td>\n",
       "      <td>1.011310</td>\n",
       "      <td>-0.236214</td>\n",
       "      <td>-0.164880</td>\n",
       "      <td>0.771283</td>\n",
       "      <td>-0.711590</td>\n",
       "      <td>-0.948966</td>\n",
       "      <td>-0.710685</td>\n",
       "      <td>0</td>\n",
       "    </tr>\n",
       "    <tr>\n",
       "      <th>3</th>\n",
       "      <td>123320</td>\n",
       "      <td>0.814731</td>\n",
       "      <td>0.408574</td>\n",
       "      <td>-0.206024</td>\n",
       "      <td>-0.694499</td>\n",
       "      <td>-0.087560</td>\n",
       "      <td>0.142431</td>\n",
       "      <td>0.949714</td>\n",
       "      <td>1.032601</td>\n",
       "      <td>0.902994</td>\n",
       "      <td>...</td>\n",
       "      <td>-0.617573</td>\n",
       "      <td>-1.302798</td>\n",
       "      <td>0.687416</td>\n",
       "      <td>0.581351</td>\n",
       "      <td>0.145801</td>\n",
       "      <td>0.783219</td>\n",
       "      <td>0.253495</td>\n",
       "      <td>0.300426</td>\n",
       "      <td>-0.323970</td>\n",
       "      <td>1</td>\n",
       "    </tr>\n",
       "    <tr>\n",
       "      <th>4</th>\n",
       "      <td>110006</td>\n",
       "      <td>1.828520</td>\n",
       "      <td>0.287529</td>\n",
       "      <td>-0.124284</td>\n",
       "      <td>1.304462</td>\n",
       "      <td>-0.735334</td>\n",
       "      <td>0.411033</td>\n",
       "      <td>-1.393248</td>\n",
       "      <td>0.730282</td>\n",
       "      <td>-0.856952</td>\n",
       "      <td>...</td>\n",
       "      <td>-1.517283</td>\n",
       "      <td>1.032568</td>\n",
       "      <td>-2.251032</td>\n",
       "      <td>0.686866</td>\n",
       "      <td>-1.564867</td>\n",
       "      <td>-0.262296</td>\n",
       "      <td>-0.240384</td>\n",
       "      <td>-0.851318</td>\n",
       "      <td>-0.320499</td>\n",
       "      <td>0</td>\n",
       "    </tr>\n",
       "  </tbody>\n",
       "</table>\n",
       "<p>5 rows × 1002 columns</p>\n",
       "</div>"
      ],
      "text/plain": [
       "      _id  feat_000  feat_001  feat_002  feat_003  feat_004  feat_005  \\\n",
       "0   99076 -0.680963  0.781023 -2.928894 -1.220431  0.331080 -0.008883   \n",
       "1   29813 -1.582677 -1.203802 -1.459738 -0.424029 -0.079318  0.357695   \n",
       "2   21770 -0.565946  1.154471 -1.042816  0.087441  0.227700  0.443144   \n",
       "3  123320  0.814731  0.408574 -0.206024 -0.694499 -0.087560  0.142431   \n",
       "4  110006  1.828520  0.287529 -0.124284  1.304462 -0.735334  0.411033   \n",
       "\n",
       "   feat_006  feat_007  feat_008   ...    feat_991  feat_992  feat_993  \\\n",
       "0  0.772567 -0.109983 -0.813973   ...    0.310181 -1.224689  0.566445   \n",
       "1  0.840665  1.337775 -1.945062   ...    2.423974  0.693843  0.186011   \n",
       "2  0.006693  1.197519 -0.372018   ...    0.278993  0.670340  1.011310   \n",
       "3  0.949714  1.032601  0.902994   ...   -0.617573 -1.302798  0.687416   \n",
       "4 -1.393248  0.730282 -0.856952   ...   -1.517283  1.032568 -2.251032   \n",
       "\n",
       "   feat_994  feat_995  feat_996  feat_997  feat_998  feat_999  target  \n",
       "0 -0.820767 -0.749266  1.049864 -0.757293 -1.756745  0.084222       1  \n",
       "1  0.307245 -0.054781 -0.872673 -0.249878 -0.737719 -0.155513       1  \n",
       "2 -0.236214 -0.164880  0.771283 -0.711590 -0.948966 -0.710685       0  \n",
       "3  0.581351  0.145801  0.783219  0.253495  0.300426 -0.323970       1  \n",
       "4  0.686866 -1.564867 -0.262296 -0.240384 -0.851318 -0.320499       0  \n",
       "\n",
       "[5 rows x 1002 columns]"
      ]
     },
     "execution_count": 26,
     "metadata": {},
     "output_type": "execute_result"
    }
   ],
   "source": [
    "# Retrieve datasets in chunks of 3000 rows. Offset by 3000 to get unique rows of data.\n",
    "sql = '''\n",
    "SELECT *\n",
    "FROM madelon\n",
    "ORDER BY random()\n",
    "OFFSET 12001\n",
    "LIMIT 3000\n",
    "'''\n",
    "df = db.execute(sql, pdDataFrame = True)\n",
    "# Pickle the data as I get it.\n",
    "df.to_pickle('../MadelonDBData/df3000_5.p')\n",
    "df.head(5)"
   ]
  },
  {
   "cell_type": "code",
   "execution_count": 28,
   "metadata": {},
   "outputs": [
    {
     "data": {
      "text/plain": [
       "'Database closed'"
      ]
     },
     "execution_count": 28,
     "metadata": {},
     "output_type": "execute_result"
    }
   ],
   "source": [
    "# Close connection.\n",
    "db.close()"
   ]
  }
 ],
 "metadata": {
  "kernelspec": {
   "display_name": "Python 3",
   "language": "python",
   "name": "python3"
  },
  "language_info": {
   "codemirror_mode": {
    "name": "ipython",
    "version": 3
   },
   "file_extension": ".py",
   "mimetype": "text/x-python",
   "name": "python",
   "nbconvert_exporter": "python",
   "pygments_lexer": "ipython3",
   "version": "3.6.2"
  }
 },
 "nbformat": 4,
 "nbformat_minor": 2
}
