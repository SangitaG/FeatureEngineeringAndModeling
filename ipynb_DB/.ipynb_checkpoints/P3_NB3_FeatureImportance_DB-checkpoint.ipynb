{
 "cells": [
  {
   "cell_type": "markdown",
   "metadata": {},
   "source": [
    "##### Jupyter Notebook, Step 3 - Feature Importance\n",
    "- Use the results from step 2 to discuss feature importance in the dataset\n",
    "- Considering these results, develop a strategy for building a final predictive model\n",
    "- recommended approaches:\n",
    "    - Use feature selection to reduce the dataset to a manageable size then use conventional methods\n",
    "    - Use dimension reduction to reduce the dataset to a manageable size then use conventional methods\n",
    "    - Use an iterative model training method to use the entire dataset"
   ]
  },
  {
   "cell_type": "code",
   "execution_count": 1,
   "metadata": {
    "collapsed": true
   },
   "outputs": [],
   "source": [
    "import pandas as pd\n",
    "import numpy as np\n",
    "import seaborn as sns\n",
    "import matplotlib.pyplot as plt\n",
    "import itertools\n",
    "from tqdm import tqdm\n",
    "from sklearn.svm import SVC\n",
    "from sklearn.pipeline import make_pipeline\n",
    "from sklearn.tree import DecisionTreeClassifier, DecisionTreeRegressor\n",
    "from sklearn.preprocessing import StandardScaler\n",
    "from sklearn.neighbors import KNeighborsClassifier, KNeighborsRegressor\n",
    "from sklearn.linear_model import LogisticRegression\n",
    "from sklearn.model_selection import GridSearchCV, train_test_split   \n",
    "from sklearn.decomposition import PCA\n",
    "from sklearn.metrics import classification_report,precision_recall_curve,confusion_matrix \n",
    "from sklearn.metrics import (precision_score,accuracy_score,roc_auc_score,roc_curve, \n",
    "                             precision_recall_curve,recall_score,make_scorer,auc) \n",
    "from scipy.stats import boxcox, skew\n",
    "import pickle\n",
    "%matplotlib inline"
   ]
  },
  {
   "cell_type": "code",
   "execution_count": 2,
   "metadata": {
    "collapsed": true
   },
   "outputs": [],
   "source": [
    "class Read_pickled_madelon_Datasets(object):\n",
    "   \n",
    "    # Initializing object.\n",
    "    def __init__(self):\n",
    "       \n",
    "        # Read pickled data from NB1.\n",
    "        self.data_dir = '../dataNB1_DB/'    \n",
    "\n",
    "        self.read_all_data_from_files()\n",
    "        \n",
    "    def read_all_data_from_files(self):\n",
    "        # Read train data.\n",
    "        self.X_train_data_df_1 = pd.read_pickle(self.data_dir +'X_train_1_df.p')\n",
    "        self.X_train_data_df_2 = pd.read_pickle(self.data_dir +'X_train_2_df.p')\n",
    "        self.X_train_data_df_3 = pd.read_pickle(self.data_dir +'X_train_3_df.p')\n",
    "\n",
    "        # X test data.\n",
    "        self.X_test_df = pd.read_pickle(self.data_dir +'X_test_df.p')\n",
    "        \n",
    "        # X test data.\n",
    "        self.X_validate_df = pd.read_pickle(self.data_dir +'X_validate_df.p')\n",
    "\n",
    "        # y train data.\n",
    "        self.y_train_data_1 = pd.read_pickle(self.data_dir + 'y_train_1.p')\n",
    "        self.y_train_data_2 = pd.read_pickle(self.data_dir + 'y_train_2.p')\n",
    "        self.y_train_data_3 = pd.read_pickle(self.data_dir + 'y_train_3.p')\n",
    "        \n",
    "        # y test data.\n",
    "        self.y_test_data_1 = pd.read_pickle(self.data_dir + 'y_test.p')\n",
    " \n",
    "    def get_X_train_data_sets(self):\n",
    "        return(self.X_train_data_df_1, self.X_train_data_df_2, self.X_train_data_df_3)\n",
    "    \n",
    "    def get_X_valid_data(self):\n",
    "        return(self.X_validate_df)\n",
    "    \n",
    "\n",
    "    def get_X_test_data(self):\n",
    "        return(self.X_test_df)\n",
    "       \n",
    "    def get_y_train_data(self):        \n",
    "        # y data should be a 1D array of labels. It is now read as a dataframe of 1 column with each\n",
    "        # element as a list of one int.  We want it to be just an int not a list.\n",
    "        self.y_train_data_1 = np.array([val[0] for val in self.y_train_data_1.values])\n",
    "        self.y_train_data_2 = np.array([val[0] for val in self.y_train_data_2.values])\n",
    "        self.y_train_data_3 = np.array([val[0] for val in self.y_train_data_3.values])\n",
    "        \n",
    "        return(self.y_train_data_1, self.y_train_data_2, self.y_train_data_3)\n",
    "    \n",
    "    def get_y_test_data(self):\n",
    "        # y data should be a 1D array of labels. It is now read as a dataframe of 1 column with each\n",
    "        # element as a list of one int.  We want it to be just an int not a list.\n",
    "        self.y_test = np.array([val[0] for val in self.y_test_data_1.values])\n",
    "        \n",
    "        return(self.y_test)"
   ]
  },
  {
   "cell_type": "code",
   "execution_count": 3,
   "metadata": {
    "collapsed": true
   },
   "outputs": [],
   "source": [
    "# Read in DB Madelon Data. For this notebook we only need the X and y train data.\n",
    "read_data = Read_pickled_madelon_Datasets()"
   ]
  },
  {
   "cell_type": "code",
   "execution_count": 4,
   "metadata": {
    "collapsed": true
   },
   "outputs": [],
   "source": [
    "# X train data.\n",
    "X_train_data_df_1, X_train_data_df_2, X_train_data_df_3 = \\\n",
    "                                                        read_data.get_X_train_data_sets()\n",
    "# y train data.\n",
    "y_train_1, y_train_2, y_train_3 = read_data.get_y_train_data()\n",
    "\n",
    "# X train datasets in a list.\n",
    "X_train_subsets = [X_train_data_df_1, X_train_data_df_2, X_train_data_df_3]\n",
    "\n",
    "# y train datasets in a list.\n",
    "y_train_subsets = [y_train_1, y_train_2, y_train_3]\n",
    "\n",
    "# Read X and y test data.\n",
    "Xtest = read_data.get_X_test_data()\n",
    "ytest = read_data.get_y_test_data()"
   ]
  },
  {
   "cell_type": "code",
   "execution_count": 5,
   "metadata": {},
   "outputs": [
    {
     "data": {
      "text/plain": [
       "((1500, 1000), (1500,))"
      ]
     },
     "execution_count": 5,
     "metadata": {},
     "output_type": "execute_result"
    }
   ],
   "source": [
    "Xtest.shape, ytest.shape"
   ]
  },
  {
   "cell_type": "code",
   "execution_count": 6,
   "metadata": {},
   "outputs": [
    {
     "data": {
      "text/html": [
       "<div>\n",
       "<table border=\"1\" class=\"dataframe\">\n",
       "  <thead>\n",
       "    <tr style=\"text-align: right;\">\n",
       "      <th></th>\n",
       "      <th>feat_000</th>\n",
       "      <th>feat_001</th>\n",
       "      <th>feat_002</th>\n",
       "      <th>feat_003</th>\n",
       "      <th>feat_004</th>\n",
       "      <th>feat_005</th>\n",
       "      <th>feat_006</th>\n",
       "      <th>feat_007</th>\n",
       "      <th>feat_008</th>\n",
       "      <th>feat_009</th>\n",
       "      <th>...</th>\n",
       "      <th>feat_990</th>\n",
       "      <th>feat_991</th>\n",
       "      <th>feat_992</th>\n",
       "      <th>feat_993</th>\n",
       "      <th>feat_994</th>\n",
       "      <th>feat_995</th>\n",
       "      <th>feat_996</th>\n",
       "      <th>feat_997</th>\n",
       "      <th>feat_998</th>\n",
       "      <th>feat_999</th>\n",
       "    </tr>\n",
       "  </thead>\n",
       "  <tbody>\n",
       "    <tr>\n",
       "      <th>0</th>\n",
       "      <td>0.379930</td>\n",
       "      <td>1.263945</td>\n",
       "      <td>-0.788751</td>\n",
       "      <td>0.242238</td>\n",
       "      <td>0.909713</td>\n",
       "      <td>-0.238677</td>\n",
       "      <td>-1.064835</td>\n",
       "      <td>1.598606</td>\n",
       "      <td>0.275761</td>\n",
       "      <td>0.174466</td>\n",
       "      <td>...</td>\n",
       "      <td>-0.080200</td>\n",
       "      <td>-0.487347</td>\n",
       "      <td>-0.446448</td>\n",
       "      <td>0.434216</td>\n",
       "      <td>0.333720</td>\n",
       "      <td>-0.211308</td>\n",
       "      <td>-0.499448</td>\n",
       "      <td>0.523186</td>\n",
       "      <td>0.064643</td>\n",
       "      <td>0.386545</td>\n",
       "    </tr>\n",
       "    <tr>\n",
       "      <th>1</th>\n",
       "      <td>-1.086492</td>\n",
       "      <td>-0.098804</td>\n",
       "      <td>-0.108155</td>\n",
       "      <td>0.091832</td>\n",
       "      <td>-1.041884</td>\n",
       "      <td>-1.286358</td>\n",
       "      <td>-0.263369</td>\n",
       "      <td>-2.908327</td>\n",
       "      <td>-2.062492</td>\n",
       "      <td>-0.785130</td>\n",
       "      <td>...</td>\n",
       "      <td>-1.527617</td>\n",
       "      <td>-0.144838</td>\n",
       "      <td>0.529429</td>\n",
       "      <td>-0.831674</td>\n",
       "      <td>0.678643</td>\n",
       "      <td>0.662404</td>\n",
       "      <td>-0.988360</td>\n",
       "      <td>1.756702</td>\n",
       "      <td>0.942543</td>\n",
       "      <td>-1.854845</td>\n",
       "    </tr>\n",
       "    <tr>\n",
       "      <th>2</th>\n",
       "      <td>-0.059343</td>\n",
       "      <td>0.281730</td>\n",
       "      <td>0.396618</td>\n",
       "      <td>1.080609</td>\n",
       "      <td>0.547924</td>\n",
       "      <td>-0.671473</td>\n",
       "      <td>-0.157873</td>\n",
       "      <td>-0.333325</td>\n",
       "      <td>0.805554</td>\n",
       "      <td>0.616626</td>\n",
       "      <td>...</td>\n",
       "      <td>-0.709488</td>\n",
       "      <td>1.401094</td>\n",
       "      <td>-1.204238</td>\n",
       "      <td>-1.470250</td>\n",
       "      <td>-0.579397</td>\n",
       "      <td>-0.532083</td>\n",
       "      <td>0.812578</td>\n",
       "      <td>-1.271424</td>\n",
       "      <td>-2.091807</td>\n",
       "      <td>0.435828</td>\n",
       "    </tr>\n",
       "    <tr>\n",
       "      <th>3</th>\n",
       "      <td>-0.922666</td>\n",
       "      <td>-0.571571</td>\n",
       "      <td>-0.325827</td>\n",
       "      <td>0.683418</td>\n",
       "      <td>1.150821</td>\n",
       "      <td>0.672791</td>\n",
       "      <td>-0.402799</td>\n",
       "      <td>0.912123</td>\n",
       "      <td>-0.196423</td>\n",
       "      <td>0.642991</td>\n",
       "      <td>...</td>\n",
       "      <td>-1.254477</td>\n",
       "      <td>-0.775974</td>\n",
       "      <td>0.767312</td>\n",
       "      <td>1.093832</td>\n",
       "      <td>2.425454</td>\n",
       "      <td>-0.501526</td>\n",
       "      <td>-1.767517</td>\n",
       "      <td>-0.918765</td>\n",
       "      <td>-1.387155</td>\n",
       "      <td>-0.236656</td>\n",
       "    </tr>\n",
       "    <tr>\n",
       "      <th>4</th>\n",
       "      <td>2.130117</td>\n",
       "      <td>-1.457055</td>\n",
       "      <td>0.112199</td>\n",
       "      <td>-1.739049</td>\n",
       "      <td>1.033628</td>\n",
       "      <td>1.268523</td>\n",
       "      <td>0.706005</td>\n",
       "      <td>-0.183416</td>\n",
       "      <td>0.561083</td>\n",
       "      <td>0.350083</td>\n",
       "      <td>...</td>\n",
       "      <td>2.196117</td>\n",
       "      <td>1.189077</td>\n",
       "      <td>1.726686</td>\n",
       "      <td>-0.466693</td>\n",
       "      <td>1.057558</td>\n",
       "      <td>1.002655</td>\n",
       "      <td>-0.256453</td>\n",
       "      <td>1.579935</td>\n",
       "      <td>-0.755556</td>\n",
       "      <td>-1.961971</td>\n",
       "    </tr>\n",
       "  </tbody>\n",
       "</table>\n",
       "<p>5 rows × 1000 columns</p>\n",
       "</div>"
      ],
      "text/plain": [
       "   feat_000  feat_001  feat_002  feat_003  feat_004  feat_005  feat_006  \\\n",
       "0  0.379930  1.263945 -0.788751  0.242238  0.909713 -0.238677 -1.064835   \n",
       "1 -1.086492 -0.098804 -0.108155  0.091832 -1.041884 -1.286358 -0.263369   \n",
       "2 -0.059343  0.281730  0.396618  1.080609  0.547924 -0.671473 -0.157873   \n",
       "3 -0.922666 -0.571571 -0.325827  0.683418  1.150821  0.672791 -0.402799   \n",
       "4  2.130117 -1.457055  0.112199 -1.739049  1.033628  1.268523  0.706005   \n",
       "\n",
       "   feat_007  feat_008  feat_009    ...     feat_990  feat_991  feat_992  \\\n",
       "0  1.598606  0.275761  0.174466    ...    -0.080200 -0.487347 -0.446448   \n",
       "1 -2.908327 -2.062492 -0.785130    ...    -1.527617 -0.144838  0.529429   \n",
       "2 -0.333325  0.805554  0.616626    ...    -0.709488  1.401094 -1.204238   \n",
       "3  0.912123 -0.196423  0.642991    ...    -1.254477 -0.775974  0.767312   \n",
       "4 -0.183416  0.561083  0.350083    ...     2.196117  1.189077  1.726686   \n",
       "\n",
       "   feat_993  feat_994  feat_995  feat_996  feat_997  feat_998  feat_999  \n",
       "0  0.434216  0.333720 -0.211308 -0.499448  0.523186  0.064643  0.386545  \n",
       "1 -0.831674  0.678643  0.662404 -0.988360  1.756702  0.942543 -1.854845  \n",
       "2 -1.470250 -0.579397 -0.532083  0.812578 -1.271424 -2.091807  0.435828  \n",
       "3  1.093832  2.425454 -0.501526 -1.767517 -0.918765 -1.387155 -0.236656  \n",
       "4 -0.466693  1.057558  1.002655 -0.256453  1.579935 -0.755556 -1.961971  \n",
       "\n",
       "[5 rows x 1000 columns]"
      ]
     },
     "execution_count": 6,
     "metadata": {},
     "output_type": "execute_result"
    }
   ],
   "source": [
    "X_train_subsets[0].head()"
   ]
  },
  {
   "cell_type": "code",
   "execution_count": 6,
   "metadata": {
    "collapsed": true
   },
   "outputs": [],
   "source": [
    "# Read pickled dataframes from feature selection in NB2.\n",
    "SKB_Results_for_all_sets_df = []\n",
    "SP_Results_for_all_sets_df = []\n",
    "SFMlasso_Results_for_all_sets_df = []\n",
    "SFM_DT_Results_for_all_sets_df = []\n",
    "\n",
    "SKB_Results_for_all_sets_df.append(pd.read_pickle('../dataNB2_DB/SKB_feature_Results_TS1_df.p'))\n",
    "SP_Results_for_all_sets_df.append(pd.read_pickle('../dataNB2_DB/SP_feature_Results_TS1_df.p'))\n",
    "SFMlasso_Results_for_all_sets_df.append(pd.read_pickle('../dataNB2_DB/Lasso_feature_Results_TS1_df.p'))    \n",
    "SFM_DT_Results_for_all_sets_df.append(pd.read_pickle('../dataNB2_DB/DT_feature_Results_TS1_df.p'))\n",
    "\n",
    "SKB_Results_for_all_sets_df.append(pd.read_pickle('../dataNB2_DB/SKB_feature_Results_TS2_df.p'))\n",
    "SP_Results_for_all_sets_df.append(pd.read_pickle('../dataNB2_DB/SP_feature_Results_TS2_df.p'))\n",
    "SFMlasso_Results_for_all_sets_df.append(pd.read_pickle('../dataNB2_DB/Lasso_feature_Results_TS2_df.p'))\n",
    "SFM_DT_Results_for_all_sets_df.append(pd.read_pickle('../dataNB2_DB/DT_feature_Results_TS2_df.p'))\n",
    "\n",
    "SKB_Results_for_all_sets_df.append(pd.read_pickle('../dataNB2_DB/SKB_feature_Results_TS3_df.p'))\n",
    "SP_Results_for_all_sets_df.append(pd.read_pickle('../dataNB2_DB/SP_feature_Results_TS3_df.p'))\n",
    "SFMlasso_Results_for_all_sets_df.append(pd.read_pickle('../dataNB2_DB/Lasso_feature_Results_TS3_df.p'))\n",
    "SFM_DT_Results_for_all_sets_df.append(pd.read_pickle('../dataNB2_DB/DT_feature_Results_TS3_df.p'))"
   ]
  },
  {
   "cell_type": "code",
   "execution_count": 8,
   "metadata": {},
   "outputs": [
    {
     "data": {
      "text/plain": [
       "<matplotlib.axes._subplots.AxesSubplot at 0x7fe354501470>"
      ]
     },
     "execution_count": 8,
     "metadata": {},
     "output_type": "execute_result"
    },
    {
     "data": {
      "image/png": "[encoded data removed]",
      "text/plain": [
       "<matplotlib.figure.Figure at 0x7fe354501550>"
      ]
     },
     "metadata": {},
     "output_type": "display_data"
    }
   ],
   "source": [
    "# Data looks pretty normally distributed.\n",
    "sns.distplot(X_train_subsets[0].mean(), axlabel='feature means dataset3')"
   ]
  },
  {
   "cell_type": "code",
   "execution_count": 9,
   "metadata": {
    "collapsed": true
   },
   "outputs": [],
   "source": [
    "# Extract the features selected in Notebook 2."
   ]
  },
  {
   "cell_type": "code",
   "execution_count": 7,
   "metadata": {
    "collapsed": true
   },
   "outputs": [],
   "source": [
    "# Dataset 1\n",
    "SKB_feats1 = SKB_Results_for_all_sets_df[0]['feature']\n",
    "SP_feats1 = SP_Results_for_all_sets_df[0]['feature']\n",
    "Lasso_feats1 = SFMlasso_Results_for_all_sets_df[0]['feature']\n",
    "DT_feats1 = SFM_DT_Results_for_all_sets_df[0]['feature']\n",
    "\n",
    "# Dataset 2\n",
    "SKB_feats2 = SKB_Results_for_all_sets_df[1]['feature']\n",
    "SP_feats2 = SP_Results_for_all_sets_df[1]['feature']\n",
    "Lasso_feats2 = SFMlasso_Results_for_all_sets_df[1]['feature']\n",
    "DT_feats2 = SFM_DT_Results_for_all_sets_df[1]['feature']\n",
    "\n",
    "# Dataset 3\n",
    "SKB_feats3 = SKB_Results_for_all_sets_df[2]['feature']\n",
    "SP_feats3 = SP_Results_for_all_sets_df[2]['feature']\n",
    "Lasso_feats3 = SFMlasso_Results_for_all_sets_df[2]['feature']\n",
    "DT_feats3 = SFM_DT_Results_for_all_sets_df[2]['feature']"
   ]
  },
  {
   "cell_type": "code",
   "execution_count": 8,
   "metadata": {
    "collapsed": true
   },
   "outputs": [],
   "source": [
    "# Since we used 3 datasets for feature selection, I will take the union of all the features selected by\n",
    "# each set, with different feature selection methods."
   ]
  },
  {
   "cell_type": "code",
   "execution_count": 9,
   "metadata": {
    "collapsed": true
   },
   "outputs": [],
   "source": [
    "feats_union1 = np.union1d(\n",
    "                 np.union1d(\n",
    "                    np.union1d(\n",
    "                        SKB_feats1, SP_feats1), \n",
    "                    Lasso_feats1), \n",
    "                DT_feats1)\n",
    "\n",
    "feats_union2 = np.union1d(\n",
    "                 np.union1d(\n",
    "                    np.union1d(\n",
    "                        SKB_feats2, SP_feats2), \n",
    "                    Lasso_feats2), \n",
    "                DT_feats2)\n",
    "\n",
    "feats_union3 = np.union1d(\n",
    "                 np.union1d(\n",
    "                    np.union1d(\n",
    "                        SKB_feats3, SP_feats3), \n",
    "                    Lasso_feats3), \n",
    "                DT_feats3)"
   ]
  },
  {
   "cell_type": "code",
   "execution_count": 10,
   "metadata": {
    "collapsed": true
   },
   "outputs": [],
   "source": [
    "# Now let's look at the common selected features between all 4 methods.\n",
    "# Features from the union of feature seletion methods used, across all subsets of data.\n",
    "# The methods used were:\n",
    "#    SelectKBest, SelectPercentile, SelectfromModel: Lasso and DecisionTreeRegressor"
   ]
  },
  {
   "cell_type": "code",
   "execution_count": 11,
   "metadata": {},
   "outputs": [
    {
     "data": {
      "text/plain": [
       "(array([ 67, 134, 257, 269, 274, 308, 315, 330, 336, 341, 360, 395, 431,\n",
       "        454, 492, 504, 526, 639, 681, 685, 701, 724, 736, 743, 769, 808,\n",
       "        811, 825, 829, 841, 867, 920]), 32)"
      ]
     },
     "execution_count": 11,
     "metadata": {},
     "output_type": "execute_result"
    }
   ],
   "source": [
    "# I see that there were 32 common features selected by all 3 datasets. \n",
    "\n",
    "features_selected = np.intersect1d(feats_union1, np.intersect1d(feats_union2, feats_union3)) \n",
    "features_selected, len(features_selected)"
   ]
  },
  {
   "cell_type": "code",
   "execution_count": 12,
   "metadata": {
    "collapsed": true
   },
   "outputs": [],
   "source": [
    "# Let's now subset the datasets further, to only have the selected features."
   ]
  },
  {
   "cell_type": "code",
   "execution_count": 13,
   "metadata": {
    "collapsed": true
   },
   "outputs": [],
   "source": [
    "X_train_sel_feats_subsets_df = []\n",
    "cnt=0\n",
    "for X_subset in X_train_subsets:    \n",
    "    X_train_sel_feats_subsets_df.append(X_subset.iloc[:, features_selected])\n",
    "    cnt+=1"
   ]
  },
  {
   "cell_type": "code",
   "execution_count": 14,
   "metadata": {
    "collapsed": true
   },
   "outputs": [],
   "source": [
    "# I now have 3 subsets of data with 32 features each."
   ]
  },
  {
   "cell_type": "code",
   "execution_count": 15,
   "metadata": {},
   "outputs": [
    {
     "data": {
      "text/plain": [
       "((4000, 32), (4000, 32), (4000, 32))"
      ]
     },
     "execution_count": 15,
     "metadata": {},
     "output_type": "execute_result"
    }
   ],
   "source": [
    "X_train_sel_feats_subsets_df[0].shape,X_train_sel_feats_subsets_df[1].shape,X_train_sel_feats_subsets_df[2].shape"
   ]
  },
  {
   "cell_type": "code",
   "execution_count": 19,
   "metadata": {
    "collapsed": true
   },
   "outputs": [],
   "source": [
    "# Since we know that Madelon has 20 good features, I will now pass the data through the Josh's noise\n",
    "# reduction method, to eliminate any noisy features that may not have been eliminated.\n",
    "#  \n",
    "# I will use the KNeighborsRegressor to do this."
   ]
  },
  {
   "cell_type": "code",
   "execution_count": 20,
   "metadata": {
    "collapsed": true
   },
   "outputs": [],
   "source": [
    "#***********************************************************\n",
    "# NOISE ELIMINATION METHOD 1: KNeighborsRegressor                                    \n",
    "#\n",
    "# For each feature, we will drop it from the rest of the\n",
    "# predictors and predict on it with this model. This will\n",
    "# tell us if any of the features selected is like noise. \n",
    "# If the R2 is < 0, then the feature will be considered\n",
    "# to be noise.\n",
    "#\n",
    "# We want to eliminate the noisy features, since this dataframe \n",
    "# has a lot of noisy data.\n",
    "#***********************************************************"
   ]
  },
  {
   "cell_type": "code",
   "execution_count": 21,
   "metadata": {
    "collapsed": true
   },
   "outputs": [],
   "source": [
    "# Plotting R2 scores for DecisionTreeRegressor and KNeighborsRegressor sfm methods.\n",
    "def plot_R2_scores(df_input, title_str):\n",
    "    \n",
    "    # Bar plot for KNN top features, R2>0, with sorted R2 values.\n",
    "    df_sort_R2 = df_input.sort_values(by ='r2_score')\n",
    "    df_sort_R2.r2_score.plot(kind = 'barh', fontsize = 14, figsize=(8,5), width = 0.5) \n",
    "\n",
    "    plt.title(title_str, fontsize = 14)\n",
    "    plt.yticks(range(len(df_sort_R2.feature)), df_sort_R2.feature)\n",
    "    plt.xlabel('R2 scores', fontsize = 12); plt.ylabel('features', fontsize = 12)\n",
    "    plt.tight_layout()\n",
    "    \n",
    "    # Save file in ../imgNB3_DB/\n",
    "    plt.savefig(('../imgNB3_DB/' + title_str.replace(' ', '_') + '.png'))\n",
    "    \n",
    "    plt.show()"
   ]
  },
  {
   "cell_type": "code",
   "execution_count": 22,
   "metadata": {
    "collapsed": true
   },
   "outputs": [],
   "source": [
    "def write_NE_best_features_to_DF(feature_r2_score_list, model_name, \n",
    "                                 data_set_name, feature_labels):\n",
    "\n",
    "    # Store results for this feature selection model in a list of dicts.\n",
    "    dictlst_DT_Results_TS1=[]\n",
    "    \n",
    "    # If R2 > 0, select it.\n",
    "    for ind, val in enumerate(feature_r2_score_list):\n",
    "\n",
    "        if (val > 0):\n",
    "            entry = {\n",
    "                    'Noise_elim_model' : model_name,\n",
    "                    'train_set'        : data_set_name,\n",
    "                    'feature'          : feature_labels[ind],\n",
    "                    'r2_score'         : val            \n",
    "            }\n",
    "\n",
    "            dictlst_DT_Results_TS1.append(entry)\n",
    "        \n",
    "    # return a dataframe of results.\n",
    "    return (pd.DataFrame(dictlst_DT_Results_TS1))"
   ]
  },
  {
   "cell_type": "code",
   "execution_count": 23,
   "metadata": {
    "collapsed": true
   },
   "outputs": [],
   "source": [
    "def calculate_r_2_for_feature(X, X_column, model):\n",
    "    tmp_X = X.drop(X_column, axis=1)\n",
    "    tmp_y = X[X_column]\n",
    "\n",
    "    tmp_X_train, tmp_X_test, tmp_y_train, tmp_y_test =  \\\n",
    "                                train_test_split(tmp_X,tmp_y,test_size=0.25)                                                                   \n",
    "\n",
    "    # We pass in the model so we can test various regressors.\n",
    "    regressor = model()\n",
    "    regressor.fit(tmp_X_train, tmp_y_train)\n",
    "\n",
    "    score = regressor.score(tmp_X_test, tmp_y_test)\n",
    "    return score"
   ]
  },
  {
   "cell_type": "code",
   "execution_count": 24,
   "metadata": {
    "collapsed": true
   },
   "outputs": [],
   "source": [
    "# This method is calling the calculate_r_2_for_feature 10 times and \n",
    "# taking the avg of their r2 scores.\n",
    "def mean_r2_for_feature(X, X_column, model, runs = 10):\n",
    "    scores = []\n",
    "    for _ in range(runs):\n",
    "        scores.append(calculate_r_2_for_feature(X, X_column, model))\n",
    "        \n",
    "    scores = np.array(scores)\n",
    "    return scores.mean()"
   ]
  },
  {
   "cell_type": "code",
   "execution_count": 25,
   "metadata": {},
   "outputs": [
    {
     "name": "stderr",
     "output_type": "stream",
     "text": [
      "100%|██████████| 32/32 [00:39<00:00,  1.23s/it]\n",
      "100%|██████████| 32/32 [00:39<00:00,  1.23s/it]\n",
      "100%|██████████| 32/32 [00:39<00:00,  1.25s/it]\n"
     ]
    }
   ],
   "source": [
    "KNN_mean_R2scores_subsets = []\n",
    "features_sel_labels = X_train_sel_feats_subsets_df[0].columns\n",
    "for X_subset in X_train_sel_feats_subsets_df:\n",
    "    \n",
    "    KNN_mean_R2scores = []\n",
    "    for i in tqdm(features_sel_labels):\n",
    "        score = mean_r2_for_feature(X_subset, i, KNeighborsRegressor)\n",
    "        KNN_mean_R2scores.append(score)\n",
    "        \n",
    "    KNN_mean_R2scores_subsets.append(KNN_mean_R2scores)"
   ]
  },
  {
   "cell_type": "code",
   "execution_count": 26,
   "metadata": {
    "collapsed": true
   },
   "outputs": [],
   "source": [
    "# Write results for all training sets. Create a list of output dataframes for KNN results\n",
    "# for each subset of X train data.\n",
    "KNN_feature_Subsets_Results_df = []\n",
    "cnt=0\n",
    "for subset_scores in KNN_mean_R2scores_subsets: \n",
    "    cnt+=1\n",
    "    df = write_NE_best_features_to_DF(subset_scores, \n",
    "                                      'KNeighborsRegressor',\n",
    "                                      'train_data_df_'+str(cnt), \n",
    "                                      features_sel_labels)\n",
    "    \n",
    "    KNN_feature_Subsets_Results_df.append(df)"
   ]
  },
  {
   "cell_type": "code",
   "execution_count": 27,
   "metadata": {},
   "outputs": [
    {
     "data": {
      "text/plain": [
       "(       Noise_elim_model   feature  r2_score        train_set\n",
       " 0   KNeighborsRegressor  feat_257  0.931497  train_data_df_1\n",
       " 1   KNeighborsRegressor  feat_269  0.949543  train_data_df_1\n",
       " 2   KNeighborsRegressor  feat_308  0.848251  train_data_df_1\n",
       " 3   KNeighborsRegressor  feat_315  0.953600  train_data_df_1\n",
       " 4   KNeighborsRegressor  feat_336  0.947533  train_data_df_1\n",
       " 5   KNeighborsRegressor  feat_341  0.963857  train_data_df_1\n",
       " 6   KNeighborsRegressor  feat_395  0.938981  train_data_df_1\n",
       " 7   KNeighborsRegressor  feat_504  0.915687  train_data_df_1\n",
       " 8   KNeighborsRegressor  feat_526  0.932820  train_data_df_1\n",
       " 9   KNeighborsRegressor  feat_639  0.965577  train_data_df_1\n",
       " 10  KNeighborsRegressor  feat_681  0.861615  train_data_df_1\n",
       " 11  KNeighborsRegressor  feat_701  0.942710  train_data_df_1\n",
       " 12  KNeighborsRegressor  feat_724  0.943290  train_data_df_1\n",
       " 13  KNeighborsRegressor  feat_736  0.915889  train_data_df_1\n",
       " 14  KNeighborsRegressor  feat_769  0.916026  train_data_df_1\n",
       " 15  KNeighborsRegressor  feat_808  0.922233  train_data_df_1\n",
       " 16  KNeighborsRegressor  feat_829  0.913691  train_data_df_1\n",
       " 17  KNeighborsRegressor  feat_867  0.949879  train_data_df_1\n",
       " 18  KNeighborsRegressor  feat_920  0.920247  train_data_df_1,\n",
       "        Noise_elim_model   feature  r2_score        train_set\n",
       " 0   KNeighborsRegressor  feat_257  0.935147  train_data_df_2\n",
       " 1   KNeighborsRegressor  feat_269  0.951590  train_data_df_2\n",
       " 2   KNeighborsRegressor  feat_308  0.842230  train_data_df_2\n",
       " 3   KNeighborsRegressor  feat_315  0.955471  train_data_df_2\n",
       " 4   KNeighborsRegressor  feat_336  0.946048  train_data_df_2\n",
       " 5   KNeighborsRegressor  feat_341  0.962532  train_data_df_2\n",
       " 6   KNeighborsRegressor  feat_395  0.941167  train_data_df_2\n",
       " 7   KNeighborsRegressor  feat_504  0.904680  train_data_df_2\n",
       " 8   KNeighborsRegressor  feat_526  0.936861  train_data_df_2\n",
       " 9   KNeighborsRegressor  feat_639  0.963161  train_data_df_2\n",
       " 10  KNeighborsRegressor  feat_681  0.861951  train_data_df_2\n",
       " 11  KNeighborsRegressor  feat_701  0.944717  train_data_df_2\n",
       " 12  KNeighborsRegressor  feat_724  0.944700  train_data_df_2\n",
       " 13  KNeighborsRegressor  feat_736  0.918630  train_data_df_2\n",
       " 14  KNeighborsRegressor  feat_769  0.921335  train_data_df_2\n",
       " 15  KNeighborsRegressor  feat_808  0.925557  train_data_df_2\n",
       " 16  KNeighborsRegressor  feat_829  0.908150  train_data_df_2\n",
       " 17  KNeighborsRegressor  feat_867  0.948174  train_data_df_2\n",
       " 18  KNeighborsRegressor  feat_920  0.913640  train_data_df_2,\n",
       "        Noise_elim_model   feature  r2_score        train_set\n",
       " 0   KNeighborsRegressor  feat_257  0.929600  train_data_df_3\n",
       " 1   KNeighborsRegressor  feat_269  0.950276  train_data_df_3\n",
       " 2   KNeighborsRegressor  feat_308  0.842322  train_data_df_3\n",
       " 3   KNeighborsRegressor  feat_315  0.951150  train_data_df_3\n",
       " 4   KNeighborsRegressor  feat_336  0.948873  train_data_df_3\n",
       " 5   KNeighborsRegressor  feat_341  0.963258  train_data_df_3\n",
       " 6   KNeighborsRegressor  feat_395  0.941500  train_data_df_3\n",
       " 7   KNeighborsRegressor  feat_504  0.907995  train_data_df_3\n",
       " 8   KNeighborsRegressor  feat_526  0.933544  train_data_df_3\n",
       " 9   KNeighborsRegressor  feat_639  0.963250  train_data_df_3\n",
       " 10  KNeighborsRegressor  feat_681  0.862144  train_data_df_3\n",
       " 11  KNeighborsRegressor  feat_701  0.943951  train_data_df_3\n",
       " 12  KNeighborsRegressor  feat_724  0.942673  train_data_df_3\n",
       " 13  KNeighborsRegressor  feat_736  0.921192  train_data_df_3\n",
       " 14  KNeighborsRegressor  feat_769  0.923117  train_data_df_3\n",
       " 15  KNeighborsRegressor  feat_808  0.919701  train_data_df_3\n",
       " 16  KNeighborsRegressor  feat_829  0.913773  train_data_df_3\n",
       " 17  KNeighborsRegressor  feat_867  0.947948  train_data_df_3\n",
       " 18  KNeighborsRegressor  feat_920  0.913987  train_data_df_3)"
      ]
     },
     "execution_count": 27,
     "metadata": {},
     "output_type": "execute_result"
    }
   ],
   "source": [
    "KNN_feature_Subsets_Results_df[0], KNN_feature_Subsets_Results_df[1], KNN_feature_Subsets_Results_df[2]"
   ]
  },
  {
   "cell_type": "code",
   "execution_count": 46,
   "metadata": {},
   "outputs": [
    {
     "data": {
      "image/png": "[encoded data removed]",
      "text/plain": [
       "<matplotlib.figure.Figure at 0x7f4220f89278>"
      ]
     },
     "metadata": {},
     "output_type": "display_data"
    }
   ],
   "source": [
    "# Dataset 1, features selected after noise elimination.\n",
    "plot_R2_scores(KNN_feature_Subsets_Results_df[0], \n",
    "               'KNN R2 scores for selected features: dataset1')"
   ]
  },
  {
   "cell_type": "code",
   "execution_count": 47,
   "metadata": {},
   "outputs": [
    {
     "data": {
      "image/png": "[encoded data removed]",
      "text/plain": [
       "<matplotlib.figure.Figure at 0x7f42211f2d68>"
      ]
     },
     "metadata": {},
     "output_type": "display_data"
    }
   ],
   "source": [
    "# Dataset 2, features selected after noise elimination.\n",
    "plot_R2_scores(KNN_feature_Subsets_Results_df[1], \n",
    "               'KNN R2 scores for selected features: dataset2')"
   ]
  },
  {
   "cell_type": "code",
   "execution_count": 29,
   "metadata": {},
   "outputs": [
    {
     "data": {
      "image/png": "[encoded data removed]",
      "text/plain": [
       "<matplotlib.figure.Figure at 0x7ff101298978>"
      ]
     },
     "metadata": {},
     "output_type": "display_data"
    }
   ],
   "source": [
    "# Dataset 3, features selected after noise elimination.\n",
    "plot_R2_scores(KNN_feature_Subsets_Results_df[2], \n",
    "               'KNN R2 scores for selected features: dataset3')"
   ]
  },
  {
   "cell_type": "code",
   "execution_count": 29,
   "metadata": {
    "collapsed": true
   },
   "outputs": [],
   "source": [
    "# We see that for all 3 datasets, the KNeighborsRegressor model selects the\n",
    "# same 19 features, all with a very high R2 score.\n",
    "\n",
    "# The features selected are: \n",
    "# feat_341, feat_639, feat_269, feat_315, feat_867, feat_336, feat_395, feat_701, feat_724\n",
    "# feat_526, feat_257, feat_769, feat_736, feat_808, feat_920, feat_828, feat_504, feat_681\n",
    "# feat_308"
   ]
  },
  {
   "cell_type": "code",
   "execution_count": 30,
   "metadata": {
    "collapsed": true
   },
   "outputs": [],
   "source": [
    "# Let's now take data only from the final 19 selected features."
   ]
  },
  {
   "cell_type": "code",
   "execution_count": 28,
   "metadata": {
    "collapsed": true
   },
   "outputs": [],
   "source": [
    "final_features = KNN_feature_Subsets_Results_df[0]['feature']"
   ]
  },
  {
   "cell_type": "code",
   "execution_count": 29,
   "metadata": {
    "collapsed": true
   },
   "outputs": [],
   "source": [
    "# X test data.\n",
    "Xtest_sel_feats = Xtest[final_features]\n",
    "X_train_sel_feats_subsets_df = []\n",
    "cnt=0\n",
    "for X_subset in X_train_subsets:    \n",
    "    X_train_sel_feats_subsets_df.append(X_subset[final_features])\n",
    "    cnt+=1"
   ]
  },
  {
   "cell_type": "code",
   "execution_count": 30,
   "metadata": {
    "collapsed": true
   },
   "outputs": [],
   "source": [
    "# I now have 3 subsets of data with 19 features each."
   ]
  },
  {
   "cell_type": "code",
   "execution_count": 17,
   "metadata": {},
   "outputs": [
    {
     "data": {
      "text/plain": [
       "((4000, 19), (4000, 19), (4000, 19), (1500, 19))"
      ]
     },
     "execution_count": 17,
     "metadata": {},
     "output_type": "execute_result"
    }
   ],
   "source": [
    "X_train_sel_feats_subsets_df[0].shape,X_train_sel_feats_subsets_df[1].shape,X_train_sel_feats_subsets_df[2].shape, Xtest_sel_feats.shape"
   ]
  },
  {
   "cell_type": "code",
   "execution_count": 32,
   "metadata": {
    "collapsed": true
   },
   "outputs": [],
   "source": [
    "# Pickle the datasets, with only the final 19 features selected.\n",
    "X_train_sel_feats_subsets_df[0].to_pickle('../dataNB3_DB/X_train_sel_feats_subsets_df1.p')\n",
    "X_train_sel_feats_subsets_df[1].to_pickle('../dataNB3_DB/X_train_sel_feats_subsets_df2.p')\n",
    "X_train_sel_feats_subsets_df[2].to_pickle('../dataNB3_DB/X_train_sel_feats_subsets_df3.p')\n",
    "\n",
    "Xtest_sel_feats.to_pickle('../dataNB3_DB/X_test_sel_feats_df.p')"
   ]
  },
  {
   "cell_type": "code",
   "execution_count": 16,
   "metadata": {
    "collapsed": true
   },
   "outputs": [],
   "source": [
    "# Read pickled data.\n",
    "X_train_sel_feats_subsets_df=[]\n",
    "X_train_sel_feats_subsets_df.append(pd.read_pickle('../dataNB3_DB/X_train_sel_feats_subsets_df1.p'))\n",
    "X_train_sel_feats_subsets_df.append(pd.read_pickle('../dataNB3_DB/X_train_sel_feats_subsets_df2.p'))\n",
    "X_train_sel_feats_subsets_df.append(pd.read_pickle('../dataNB3_DB/X_train_sel_feats_subsets_df3.p'))\n",
    "\n",
    "Xtest_sel_feats = pd.read_pickle('../dataNB3_DB/X_test_sel_feats_df.p')"
   ]
  },
  {
   "cell_type": "code",
   "execution_count": 33,
   "metadata": {
    "collapsed": true
   },
   "outputs": [],
   "source": [
    "# Scale and normalize the datasets.\n",
    "X_train_sel_feats_subsets_scaled_df = []\n",
    "for i in range(3):    \n",
    "    ss = StandardScaler()    \n",
    "    data = X_train_sel_feats_subsets_df[i]\n",
    "    X_train_sel_feats_subsets_scaled_df.append(ss.fit_transform(data))"
   ]
  },
  {
   "cell_type": "code",
   "execution_count": 34,
   "metadata": {
    "collapsed": true
   },
   "outputs": [],
   "source": [
    "# Now, since the madelon data is know to have only 5 informative features, let's\n",
    "# do PCA on these dimension reduced datasets. "
   ]
  },
  {
   "cell_type": "code",
   "execution_count": 35,
   "metadata": {
    "collapsed": true
   },
   "outputs": [],
   "source": [
    "def plot_PCA_explained_var(exp_var, dataset_num):\n",
    "    fig, ax = plt.subplots(figsize=(8,6))\n",
    "    ax.plot(range(1, len(exp_var)+1), exp_var, lw=2)\n",
    "    ax.scatter(range(1, len(exp_var)+1), exp_var, s=120)\n",
    "    ax.set_title('Explained variance pct: dataset' + str(dataset_num), fontsize=14)\n",
    "    ax.set_xlabel('Principal Component', fontsize=12)\n",
    "    ax.set_ylabel('Variance Explained (%)', fontsize=12)\n",
    "    plt.show()"
   ]
  },
  {
   "cell_type": "code",
   "execution_count": 36,
   "metadata": {},
   "outputs": [
    {
     "data": {
      "image/png": "[encoded data removed]",
      "text/plain": [
       "<matplotlib.figure.Figure at 0x7fe353805b70>"
      ]
     },
     "metadata": {},
     "output_type": "display_data"
    },
    {
     "data": {
      "image/png": "[encoded data removed]",
      "text/plain": [
       "<matplotlib.figure.Figure at 0x7fe35412ebe0>"
      ]
     },
     "metadata": {},
     "output_type": "display_data"
    },
    {
     "data": {
      "image/png": "[encoded data removed]",
      "text/plain": [
       "<matplotlib.figure.Figure at 0x7fe3545011d0>"
      ]
     },
     "metadata": {},
     "output_type": "display_data"
    }
   ],
   "source": [
    "cnt = 0\n",
    "for X_subset in X_train_sel_feats_subsets_scaled_df:\n",
    "    cnt+=1\n",
    "    pca = PCA()\n",
    "    pca.fit(X_subset)\n",
    "    exp_var = pca.explained_variance_\n",
    "    \n",
    "    plot_PCA_explained_var(exp_var, dataset_num = cnt)"
   ]
  },
  {
   "cell_type": "code",
   "execution_count": 37,
   "metadata": {
    "collapsed": true
   },
   "outputs": [],
   "source": [
    "# We clearly see here that there are 5 informative components of the datasets."
   ]
  },
  {
   "cell_type": "code",
   "execution_count": 39,
   "metadata": {
    "collapsed": true
   },
   "outputs": [],
   "source": [
    "# I will now do a gridsearch on all our models, to tune their hyper-parameters. \n",
    "\n",
    "# This will be done by doing a gridsearch on the PCA transformed data.\n",
    "\n",
    "# Find the best model for all subsets for the following four model types:\n",
    "# LogisticRegression, KNeighborsClassifier, DecisionTreeClassifier, SVC"
   ]
  },
  {
   "cell_type": "code",
   "execution_count": 18,
   "metadata": {
    "collapsed": true
   },
   "outputs": [],
   "source": [
    "# Log output\n",
    "def log_output(dataset_name, model_name, sc_output, pipe):\n",
    "    entry = {                \n",
    "                'dataset'           :  dataset_name,\n",
    "                'model'             :  model_name,\n",
    "                'sc_tr_acc_score'   :  sc_output['train_score'],\n",
    "                'sc_tst_acc_score'  :  sc_output['test_score'],\n",
    "                'sc_recall'         :  sc_output['recall'],\n",
    "                'sc_precision'      :  sc_output['precision'],\n",
    "                'pipe_object'       :  pipe\n",
    "            }\n",
    "    return(entry)"
   ]
  },
  {
   "cell_type": "code",
   "execution_count": 36,
   "metadata": {
    "collapsed": true
   },
   "outputs": [],
   "source": [
    "def execute_pipeline(model, dataTransformer, param_grid, Xtrain, ytrain, \n",
    "                     Xtest, ytest, target_names, model_results, model_name,\n",
    "                     classification_rep, confusion_mtx):\n",
    "   \n",
    "    # Create a pipeline for the model.\n",
    "    pipe = make_pipeline(StandardScaler(), \n",
    "                          dataTransformer,\n",
    "                         model)\n",
    "                                   \n",
    "    # Fit, score and get model stats.                                           \n",
    "    sc_output, cl_report_str, conf_mtx = fit_and_score_pipeline(pipe, \n",
    "                                                                Xtrain, Xtest, \n",
    "                                                                ytrain, ytest,\n",
    "                                                                param_grid,\n",
    "                                                                target_names=target_names)\n",
    "       \n",
    "    # Save classification report and confusion matrix, scaled data.\n",
    "    key = model_name+str(tst_set+1)\n",
    "    classification_rep[key] = cl_report_str\n",
    "    key = model_name+str(tst_set+1)\n",
    "    confusion_mtx[key] = conf_mtx\n",
    "    \n",
    "    # Log results.\n",
    "    entry = log_output(dataset_name = 'Set_'+str(tst_set+1), \n",
    "                        model_name   = model_name, \n",
    "                        sc_output    = sc_output,\n",
    "                        pipe         = pipe)\n",
    "\n",
    "    # Append the output for this model to a list.\n",
    "    model_results.append(entry)"
   ]
  },
  {
   "cell_type": "code",
   "execution_count": 20,
   "metadata": {
    "collapsed": true
   },
   "outputs": [],
   "source": [
    "# Setup the pipeline parameter grids."
   ]
  },
  {
   "cell_type": "code",
   "execution_count": 21,
   "metadata": {
    "collapsed": true
   },
   "outputs": [],
   "source": [
    "param_grid_LR = {\n",
    "                 'pca__n_components'           : [5],\n",
    "                 'logisticregression__C'       : np.logspace(-3,3,7),\n",
    "                 'logisticregression__penalty' : ['l1','l2']}\n",
    "\n",
    "param_grid_DT = {\n",
    "                 'pca__n_components'                   : [5],\n",
    "                 'decisiontreeclassifier__max_depth'   : np.arange(1,8)}\n",
    "                 \n",
    "                 \n",
    "\n",
    "param_grid_SVC = {\n",
    "                  'pca__n_components'  : [5],\n",
    "                  'svc__C'             : np.logspace(-3,3,7), \n",
    "                  'svc__gamma'         : np.logspace(-3,3,7)}\n",
    "           \n",
    "\n",
    "param_grid_KNN = {\n",
    "                  'pca__n_components'                : [5],\n",
    "                  'kneighborsclassifier__n_neighbors': np.arange(3,13,2),\n",
    "                  'kneighborsclassifier__weights'    : ['uniform','distance']}\n",
    "\n",
    "# Make a dictionary of models to run.\n",
    "modelsToexecute_dict = {'LogisticRegression': [LogisticRegression(), param_grid_LR],\n",
    "                        'SVC': [SVC(), param_grid_SVC],\n",
    "                        'DecisionTree': [DecisionTreeClassifier(), param_grid_DT],\n",
    "                        'KNN': [KNeighborsClassifier(), param_grid_KNN]}"
   ]
  },
  {
   "cell_type": "code",
   "execution_count": 22,
   "metadata": {
    "collapsed": true
   },
   "outputs": [],
   "source": [
    "def fit_and_score_pipeline(pipe, Xtrain, Xtest, ytrain, ytest, param_grid, target_names):\n",
    "    \n",
    "    gs = GridSearchCV(pipe, cv = 5, param_grid=param_grid)\n",
    "  \n",
    "    # Fit and score pipeline.\n",
    "    gs.fit(Xtrain, ytrain) \n",
    "    \n",
    "    # Mean accuracy score is returned.\n",
    "    train_score = gs.score(Xtrain,ytrain)\n",
    "    test_score = gs.score(Xtest,ytest)  \n",
    "    y_pred = gs.predict(Xtest)\n",
    "    \n",
    "    # Calculate precision and recall.   \n",
    "    recall = recall_score(ytest, y_pred)\n",
    "    precision = precision_score(ytest, y_pred)\n",
    "    \n",
    "    output = {'train_score':train_score, \n",
    "              'test_score':test_score, \n",
    "              'recall':recall, \n",
    "              'precision':precision}\n",
    "    \n",
    "    #classification reports. \n",
    "    class_report_str = classification_report(ytest, y_pred, target_names=target_names)\n",
    "    \n",
    "    #confusion matrix.\n",
    "    conf_matrix_raw = confusion_matrix(ytest, y_pred)\n",
    "    \n",
    "    return(output, class_report_str, conf_matrix_raw)"
   ]
  },
  {
   "cell_type": "code",
   "execution_count": 28,
   "metadata": {
    "collapsed": true
   },
   "outputs": [],
   "source": [
    "# Save mean accuracy scores, classification reports and confusion matrix.\n",
    "model_results = []\n",
    "confusion_mtx = {}\n",
    "classification_rep = {}\n",
    "target_names=['class 0', 'class 1']"
   ]
  },
  {
   "cell_type": "code",
   "execution_count": 29,
   "metadata": {},
   "outputs": [
    {
     "name": "stderr",
     "output_type": "stream",
     "text": [
      "100%|██████████| 3/3 [12:00<00:00, 240.16s/it]\n"
     ]
    }
   ],
   "source": [
    "dataTransformer = PCA()\n",
    "num_datasets = 3\n",
    "Xtest = Xtest_sel_feats\n",
    "ytest = ytest\n",
    "\n",
    "for tst_set in tqdm(range(num_datasets)):\n",
    "    Xtrain = X_train_sel_feats_subsets_df[tst_set] \n",
    "    ytrain = y_train_subsets[tst_set]\n",
    "\n",
    "    for model_name, params in modelsToexecute_dict.items():  \n",
    "        \n",
    "        model = params[0]\n",
    "        param_grid = params[1]\n",
    "                \n",
    "        execute_pipeline(model, dataTransformer, param_grid, Xtrain, ytrain, \n",
    "                         Xtest, ytest, target_names, model_results, model_name,\n",
    "                         classification_rep, confusion_mtx)"
   ]
  },
  {
   "cell_type": "code",
   "execution_count": 30,
   "metadata": {},
   "outputs": [
    {
     "data": {
      "text/html": [
       "<div>\n",
       "<table border=\"1\" class=\"dataframe\">\n",
       "  <thead>\n",
       "    <tr style=\"text-align: right;\">\n",
       "      <th></th>\n",
       "      <th>dataset</th>\n",
       "      <th>model</th>\n",
       "      <th>sc_tr_acc_score</th>\n",
       "      <th>sc_tst_acc_score</th>\n",
       "      <th>sc_precision</th>\n",
       "      <th>sc_recall</th>\n",
       "      <th>pipe_object</th>\n",
       "    </tr>\n",
       "  </thead>\n",
       "  <tbody>\n",
       "    <tr>\n",
       "      <th>0</th>\n",
       "      <td>Set_1</td>\n",
       "      <td>LogisticRegression</td>\n",
       "      <td>0.59850</td>\n",
       "      <td>0.597333</td>\n",
       "      <td>0.587450</td>\n",
       "      <td>0.598639</td>\n",
       "      <td>Pipeline(steps=[('standardscaler', StandardSca...</td>\n",
       "    </tr>\n",
       "    <tr>\n",
       "      <th>1</th>\n",
       "      <td>Set_1</td>\n",
       "      <td>SVC</td>\n",
       "      <td>0.95375</td>\n",
       "      <td>0.791333</td>\n",
       "      <td>0.782086</td>\n",
       "      <td>0.795918</td>\n",
       "      <td>Pipeline(steps=[('standardscaler', StandardSca...</td>\n",
       "    </tr>\n",
       "    <tr>\n",
       "      <th>2</th>\n",
       "      <td>Set_1</td>\n",
       "      <td>DecisionTree</td>\n",
       "      <td>0.73125</td>\n",
       "      <td>0.672000</td>\n",
       "      <td>0.660927</td>\n",
       "      <td>0.678912</td>\n",
       "      <td>Pipeline(steps=[('standardscaler', StandardSca...</td>\n",
       "    </tr>\n",
       "    <tr>\n",
       "      <th>3</th>\n",
       "      <td>Set_1</td>\n",
       "      <td>KNN</td>\n",
       "      <td>1.00000</td>\n",
       "      <td>0.792667</td>\n",
       "      <td>0.784946</td>\n",
       "      <td>0.794558</td>\n",
       "      <td>Pipeline(steps=[('standardscaler', StandardSca...</td>\n",
       "    </tr>\n",
       "    <tr>\n",
       "      <th>4</th>\n",
       "      <td>Set_2</td>\n",
       "      <td>LogisticRegression</td>\n",
       "      <td>0.60425</td>\n",
       "      <td>0.595333</td>\n",
       "      <td>0.587432</td>\n",
       "      <td>0.585034</td>\n",
       "      <td>Pipeline(steps=[('standardscaler', StandardSca...</td>\n",
       "    </tr>\n",
       "    <tr>\n",
       "      <th>5</th>\n",
       "      <td>Set_2</td>\n",
       "      <td>SVC</td>\n",
       "      <td>0.94775</td>\n",
       "      <td>0.809333</td>\n",
       "      <td>0.798141</td>\n",
       "      <td>0.817687</td>\n",
       "      <td>Pipeline(steps=[('standardscaler', StandardSca...</td>\n",
       "    </tr>\n",
       "    <tr>\n",
       "      <th>6</th>\n",
       "      <td>Set_2</td>\n",
       "      <td>DecisionTree</td>\n",
       "      <td>0.77425</td>\n",
       "      <td>0.702000</td>\n",
       "      <td>0.685567</td>\n",
       "      <td>0.723810</td>\n",
       "      <td>Pipeline(steps=[('standardscaler', StandardSca...</td>\n",
       "    </tr>\n",
       "    <tr>\n",
       "      <th>7</th>\n",
       "      <td>Set_2</td>\n",
       "      <td>KNN</td>\n",
       "      <td>1.00000</td>\n",
       "      <td>0.801333</td>\n",
       "      <td>0.784135</td>\n",
       "      <td>0.820408</td>\n",
       "      <td>Pipeline(steps=[('standardscaler', StandardSca...</td>\n",
       "    </tr>\n",
       "    <tr>\n",
       "      <th>8</th>\n",
       "      <td>Set_3</td>\n",
       "      <td>LogisticRegression</td>\n",
       "      <td>0.59750</td>\n",
       "      <td>0.594000</td>\n",
       "      <td>0.580769</td>\n",
       "      <td>0.616327</td>\n",
       "      <td>Pipeline(steps=[('standardscaler', StandardSca...</td>\n",
       "    </tr>\n",
       "    <tr>\n",
       "      <th>9</th>\n",
       "      <td>Set_3</td>\n",
       "      <td>SVC</td>\n",
       "      <td>0.95300</td>\n",
       "      <td>0.960000</td>\n",
       "      <td>0.951807</td>\n",
       "      <td>0.967347</td>\n",
       "      <td>Pipeline(steps=[('standardscaler', StandardSca...</td>\n",
       "    </tr>\n",
       "    <tr>\n",
       "      <th>10</th>\n",
       "      <td>Set_3</td>\n",
       "      <td>DecisionTree</td>\n",
       "      <td>0.75650</td>\n",
       "      <td>0.740667</td>\n",
       "      <td>0.716250</td>\n",
       "      <td>0.779592</td>\n",
       "      <td>Pipeline(steps=[('standardscaler', StandardSca...</td>\n",
       "    </tr>\n",
       "    <tr>\n",
       "      <th>11</th>\n",
       "      <td>Set_3</td>\n",
       "      <td>KNN</td>\n",
       "      <td>1.00000</td>\n",
       "      <td>1.000000</td>\n",
       "      <td>1.000000</td>\n",
       "      <td>1.000000</td>\n",
       "      <td>Pipeline(steps=[('standardscaler', StandardSca...</td>\n",
       "    </tr>\n",
       "  </tbody>\n",
       "</table>\n",
       "</div>"
      ],
      "text/plain": [
       "   dataset               model  sc_tr_acc_score  sc_tst_acc_score  \\\n",
       "0    Set_1  LogisticRegression          0.59850          0.597333   \n",
       "1    Set_1                 SVC          0.95375          0.791333   \n",
       "2    Set_1        DecisionTree          0.73125          0.672000   \n",
       "3    Set_1                 KNN          1.00000          0.792667   \n",
       "4    Set_2  LogisticRegression          0.60425          0.595333   \n",
       "5    Set_2                 SVC          0.94775          0.809333   \n",
       "6    Set_2        DecisionTree          0.77425          0.702000   \n",
       "7    Set_2                 KNN          1.00000          0.801333   \n",
       "8    Set_3  LogisticRegression          0.59750          0.594000   \n",
       "9    Set_3                 SVC          0.95300          0.960000   \n",
       "10   Set_3        DecisionTree          0.75650          0.740667   \n",
       "11   Set_3                 KNN          1.00000          1.000000   \n",
       "\n",
       "    sc_precision  sc_recall                                        pipe_object  \n",
       "0       0.587450   0.598639  Pipeline(steps=[('standardscaler', StandardSca...  \n",
       "1       0.782086   0.795918  Pipeline(steps=[('standardscaler', StandardSca...  \n",
       "2       0.660927   0.678912  Pipeline(steps=[('standardscaler', StandardSca...  \n",
       "3       0.784946   0.794558  Pipeline(steps=[('standardscaler', StandardSca...  \n",
       "4       0.587432   0.585034  Pipeline(steps=[('standardscaler', StandardSca...  \n",
       "5       0.798141   0.817687  Pipeline(steps=[('standardscaler', StandardSca...  \n",
       "6       0.685567   0.723810  Pipeline(steps=[('standardscaler', StandardSca...  \n",
       "7       0.784135   0.820408  Pipeline(steps=[('standardscaler', StandardSca...  \n",
       "8       0.580769   0.616327  Pipeline(steps=[('standardscaler', StandardSca...  \n",
       "9       0.951807   0.967347  Pipeline(steps=[('standardscaler', StandardSca...  \n",
       "10      0.716250   0.779592  Pipeline(steps=[('standardscaler', StandardSca...  \n",
       "11      1.000000   1.000000  Pipeline(steps=[('standardscaler', StandardSca...  "
      ]
     },
     "execution_count": 30,
     "metadata": {},
     "output_type": "execute_result"
    }
   ],
   "source": [
    "# Put all results in a dataframe.\n",
    "model_results_df = pd.DataFrame(model_results)\n",
    "\n",
    "# I am here specifying the column arrangements.\n",
    "model_results_df = model_results_df[['dataset', 'model', 'sc_tr_acc_score', 'sc_tst_acc_score',\n",
    "                                      'sc_precision', 'sc_recall', 'pipe_object']]\n",
    "                                     \n",
    "model_results_df"
   ]
  },
  {
   "cell_type": "code",
   "execution_count": null,
   "metadata": {
    "collapsed": true
   },
   "outputs": [],
   "source": [
    "# The two best models."
   ]
  },
  {
   "cell_type": "code",
   "execution_count": 31,
   "metadata": {},
   "outputs": [
    {
     "data": {
      "text/plain": [
       "Pipeline(steps=[('standardscaler', StandardScaler(copy=True, with_mean=True, with_std=True)), ('pca', PCA(copy=True, iterated_power='auto', n_components=None, random_state=None,\n",
       "  svd_solver='auto', tol=0.0, whiten=False)), ('kneighborsclassifier', KNeighborsClassifier(algorithm='auto', leaf_size=30, metric='minkowski',\n",
       "           metric_params=None, n_jobs=1, n_neighbors=5, p=2,\n",
       "           weights='uniform'))])"
      ]
     },
     "execution_count": 31,
     "metadata": {},
     "output_type": "execute_result"
    }
   ],
   "source": [
    "model_results_df.pipe_object[11]"
   ]
  },
  {
   "cell_type": "code",
   "execution_count": 32,
   "metadata": {},
   "outputs": [
    {
     "data": {
      "text/plain": [
       "Pipeline(steps=[('standardscaler', StandardScaler(copy=True, with_mean=True, with_std=True)), ('pca', PCA(copy=True, iterated_power='auto', n_components=None, random_state=None,\n",
       "  svd_solver='auto', tol=0.0, whiten=False)), ('svc', SVC(C=1.0, cache_size=200, class_weight=None, coef0=0.0,\n",
       "  decision_function_shape=None, degree=3, gamma='auto', kernel='rbf',\n",
       "  max_iter=-1, probability=False, random_state=None, shrinking=True,\n",
       "  tol=0.001, verbose=False))])"
      ]
     },
     "execution_count": 32,
     "metadata": {},
     "output_type": "execute_result"
    }
   ],
   "source": [
    "model_results_df.pipe_object[9]"
   ]
  },
  {
   "cell_type": "code",
   "execution_count": 35,
   "metadata": {},
   "outputs": [
    {
     "name": "stdout",
     "output_type": "stream",
     "text": [
      "*****LogisticRegression Classification Report ***** \n",
      "\n",
      "              precision    recall  f1-score   support\n",
      "\n",
      "    class 0       0.61      0.57      0.59       765\n",
      "    class 1       0.58      0.62      0.60       735\n",
      "\n",
      "avg / total       0.59      0.59      0.59      1500\n",
      " \n",
      "\n",
      "*****SVC Classification Report ***** \n",
      "\n",
      "              precision    recall  f1-score   support\n",
      "\n",
      "    class 0       0.97      0.95      0.96       765\n",
      "    class 1       0.95      0.97      0.96       735\n",
      "\n",
      "avg / total       0.96      0.96      0.96      1500\n",
      " \n",
      "\n",
      "*****DecisionTree Classification Report ***** \n",
      "\n",
      "              precision    recall  f1-score   support\n",
      "\n",
      "    class 0       0.77      0.70      0.73       765\n",
      "    class 1       0.72      0.78      0.75       735\n",
      "\n",
      "avg / total       0.74      0.74      0.74      1500\n",
      " \n",
      "\n",
      "*****KNN Classification Report ***** \n",
      "\n",
      "              precision    recall  f1-score   support\n",
      "\n",
      "    class 0       1.00      1.00      1.00       765\n",
      "    class 1       1.00      1.00      1.00       735\n",
      "\n",
      "avg / total       1.00      1.00      1.00      1500\n",
      " \n",
      "\n"
     ]
    }
   ],
   "source": [
    "# Display classification reports.\n",
    "for k,v in classification_rep.items():\n",
    "    print('*****' + k + ' Classification Report *****', '\\n\\n', v, '\\n')"
   ]
  },
  {
   "cell_type": "code",
   "execution_count": 33,
   "metadata": {
    "collapsed": true
   },
   "outputs": [],
   "source": [
    "model_results_df.to_pickle('../dataNB3_DB/FinalModels_GOOD_df.p')"
   ]
  },
  {
   "cell_type": "code",
   "execution_count": null,
   "metadata": {
    "collapsed": true
   },
   "outputs": [],
   "source": []
  }
 ],
 "metadata": {
  "kernelspec": {
   "display_name": "Python 3",
   "language": "python",
   "name": "python3"
  },
  "language_info": {
   "codemirror_mode": {
    "name": "ipython",
    "version": 3
   },
   "file_extension": ".py",
   "mimetype": "text/x-python",
   "name": "python",
   "nbconvert_exporter": "python",
   "pygments_lexer": "ipython3",
   "version": "3.6.2"
  }
 },
 "nbformat": 4,
 "nbformat_minor": 2
}
